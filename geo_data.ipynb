{
 "cells": [
  {
   "cell_type": "markdown",
   "id": "3b4ae3a3-bd93-4f59-95cb-17797637d91c",
   "metadata": {},
   "source": [
    "**GEO NAMES**\n",
    "\n",
    "**Задача: Сопоставление произвольных гео названий с унифицированными именами geonames**:\n",
    "\n",
    "1. Создать решение для подбора наиболее подходящих названий с geonames. Например Ереван -> Yerevan\n",
    "2. На примере РФ и стран наиболее популярных для релокации - Беларусь, Армения, Казахстан, Кыргызстан, Турция, Сербия. Города с населением от 15000 человек (с возможностью масштабирования на сервере заказчика)\n",
    "3. Возвращаемые поля geonameid, name, region, country, cosine similarity -  формат данных на выходе: список словарей, например [{dict_1}, {dict_2}, …. {dict_n}] где словарь - одна запись с указанными полями\r\n",
    "олями\r\n",
    "\n"
   ]
  },
  {
   "cell_type": "code",
   "execution_count": 71,
   "id": "9d946aac-2ce8-467c-bcaa-521598c03c78",
   "metadata": {},
   "outputs": [],
   "source": [
    "from sqlalchemy import create_engine\n",
    "from sqlalchemy.engine.url import URL\n",
    "import pandas as pd\n",
    "import numpy as np\n",
    "import logging\n",
    "from sklearn.feature_extraction.text import CountVectorizer\n",
    "from sklearn.feature_extraction.text import TfidfVectorizer\n",
    "from scipy.spatial import distance\n",
    "from transliterate import translit, get_available_language_codes\n",
    "from sentence_transformers import SentenceTransformer, util, InputExample, losses, evaluation\n",
    "import warnings\n",
    "import torch\n",
    "from torch.utils.data import DataLoader\n",
    "import transformers\n",
    "from sparse_dot_topn import awesome_cossim_topn\n",
    "import os\n",
    "device = torch.device(\"cuda:0\") if torch.cuda.is_available() else torch.device(\"cpu\")\n",
    "warnings.filterwarnings('ignore')"
   ]
  },
  {
   "cell_type": "markdown",
   "id": "58b3d1ed",
   "metadata": {},
   "source": [
    "## Настраиваем подключение к postgresql"
   ]
  },
  {
   "cell_type": "code",
   "execution_count": 2,
   "id": "3d099c53",
   "metadata": {},
   "outputs": [],
   "source": [
    "host = '127.0.0.1'\n",
    "username = 'postgres'\n",
    "password = '123'\n",
    "database = 'mybd'"
   ]
  },
  {
   "cell_type": "code",
   "execution_count": 3,
   "id": "2809e8cd",
   "metadata": {},
   "outputs": [],
   "source": [
    "DATABASE = {\n",
    "    'drivername': 'postgresql',\n",
    "    'username': username, \n",
    "    'password': password, \n",
    "    'host': host,\n",
    "    'port': 5432,\n",
    "    'database': database,\n",
    "    'query': {}\n",
    "}  \n"
   ]
  },
  {
   "cell_type": "code",
   "execution_count": 4,
   "id": "cb560b23",
   "metadata": {},
   "outputs": [],
   "source": [
    "engine = create_engine(URL(**DATABASE))"
   ]
  },
  {
   "cell_type": "code",
   "execution_count": 5,
   "id": "238e2a8b",
   "metadata": {},
   "outputs": [
    {
     "data": {
      "text/html": [
       "<div>\n",
       "<style scoped>\n",
       "    .dataframe tbody tr th:only-of-type {\n",
       "        vertical-align: middle;\n",
       "    }\n",
       "\n",
       "    .dataframe tbody tr th {\n",
       "        vertical-align: top;\n",
       "    }\n",
       "\n",
       "    .dataframe thead th {\n",
       "        text-align: right;\n",
       "    }\n",
       "</style>\n",
       "<table border=\"1\" class=\"dataframe\">\n",
       "  <thead>\n",
       "    <tr style=\"text-align: right;\">\n",
       "      <th></th>\n",
       "      <th>iso</th>\n",
       "      <th>iso3</th>\n",
       "      <th>iso_numeric</th>\n",
       "      <th>fips</th>\n",
       "      <th>country</th>\n",
       "      <th>capital</th>\n",
       "      <th>continent</th>\n",
       "      <th>tld</th>\n",
       "      <th>currencycode</th>\n",
       "      <th>currencyname</th>\n",
       "      <th>phone</th>\n",
       "      <th>geonameid</th>\n",
       "      <th>neighbours</th>\n",
       "      <th>equivalentfipscode</th>\n",
       "    </tr>\n",
       "  </thead>\n",
       "  <tbody>\n",
       "    <tr>\n",
       "      <th>0</th>\n",
       "      <td>AD</td>\n",
       "      <td>AND</td>\n",
       "      <td>20</td>\n",
       "      <td>AN</td>\n",
       "      <td>Andorra</td>\n",
       "      <td>Andorra la Vella</td>\n",
       "      <td>EU</td>\n",
       "      <td>.ad</td>\n",
       "      <td>EUR</td>\n",
       "      <td>Euro</td>\n",
       "      <td>376</td>\n",
       "      <td>3041565</td>\n",
       "      <td>ES,FR</td>\n",
       "      <td>None</td>\n",
       "    </tr>\n",
       "    <tr>\n",
       "      <th>1</th>\n",
       "      <td>AE</td>\n",
       "      <td>ARE</td>\n",
       "      <td>784</td>\n",
       "      <td>AE</td>\n",
       "      <td>United Arab Emirates</td>\n",
       "      <td>Abu Dhabi</td>\n",
       "      <td>AS</td>\n",
       "      <td>.ae</td>\n",
       "      <td>AED</td>\n",
       "      <td>Dirham</td>\n",
       "      <td>971</td>\n",
       "      <td>290557</td>\n",
       "      <td>SA,OM</td>\n",
       "      <td>None</td>\n",
       "    </tr>\n",
       "  </tbody>\n",
       "</table>\n",
       "</div>"
      ],
      "text/plain": [
       "  iso iso3  iso_numeric fips               country           capital  \\\n",
       "0  AD  AND           20   AN               Andorra  Andorra la Vella   \n",
       "1  AE  ARE          784   AE  United Arab Emirates         Abu Dhabi   \n",
       "\n",
       "  continent  tld currencycode currencyname phone  geonameid neighbours  \\\n",
       "0        EU  .ad          EUR         Euro   376    3041565      ES,FR   \n",
       "1        AS  .ae          AED       Dirham   971     290557      SA,OM   \n",
       "\n",
       "  equivalentfipscode  \n",
       "0               None  \n",
       "1               None  "
      ]
     },
     "execution_count": 5,
     "metadata": {},
     "output_type": "execute_result"
    }
   ],
   "source": [
    "query = 'SELECT * FROM countryInfo LIMIT 2'\n",
    "pd.read_sql_query(query, con=engine)"
   ]
  },
  {
   "cell_type": "markdown",
   "id": "fa34c2a9",
   "metadata": {},
   "source": [
    "Данные в БД загружены, подключение настроено."
   ]
  },
  {
   "cell_type": "markdown",
   "id": "10b93175",
   "metadata": {},
   "source": [
    "## Собираем данные в таблицу"
   ]
  },
  {
   "cell_type": "markdown",
   "id": "a7013a1a",
   "metadata": {},
   "source": [
    "Список стран:"
   ]
  },
  {
   "cell_type": "code",
   "execution_count": 6,
   "id": "4366e4f7",
   "metadata": {},
   "outputs": [],
   "source": [
    "countries = ['RU','BY','AM','KZ','KG','TR','RS','GE']"
   ]
  },
  {
   "cell_type": "code",
   "execution_count": 7,
   "id": "0139d76c",
   "metadata": {},
   "outputs": [],
   "source": [
    "query = 'SELECT * FROM cities15000'\n",
    "cities = pd.read_sql_query(query, con=engine)"
   ]
  },
  {
   "cell_type": "code",
   "execution_count": 8,
   "id": "d21afcd8",
   "metadata": {},
   "outputs": [],
   "source": [
    "#отбираем города из указаны стран в ТЗ\n",
    "cities_filter = cities.loc[cities['country_code'].isin(countries)]\n",
    "cities_filter = cities_filter[['geonameid', 'name','asciiname', 'country_code', 'admin1_code','feature_code', 'population']]\n",
    "cities_filter['admin1cod']= cities_filter['country_code']+'.'+cities_filter['admin1_code']"
   ]
  },
  {
   "cell_type": "code",
   "execution_count": 9,
   "id": "fef0b0f3",
   "metadata": {},
   "outputs": [
    {
     "data": {
      "text/html": [
       "<div>\n",
       "<style scoped>\n",
       "    .dataframe tbody tr th:only-of-type {\n",
       "        vertical-align: middle;\n",
       "    }\n",
       "\n",
       "    .dataframe tbody tr th {\n",
       "        vertical-align: top;\n",
       "    }\n",
       "\n",
       "    .dataframe thead th {\n",
       "        text-align: right;\n",
       "    }\n",
       "</style>\n",
       "<table border=\"1\" class=\"dataframe\">\n",
       "  <thead>\n",
       "    <tr style=\"text-align: right;\">\n",
       "      <th></th>\n",
       "      <th>geonameid</th>\n",
       "      <th>name</th>\n",
       "      <th>asciiname</th>\n",
       "      <th>country_code</th>\n",
       "      <th>admin1_code</th>\n",
       "      <th>feature_code</th>\n",
       "      <th>population</th>\n",
       "      <th>admin1cod</th>\n",
       "    </tr>\n",
       "  </thead>\n",
       "  <tbody>\n",
       "    <tr>\n",
       "      <th>97</th>\n",
       "      <td>174875</td>\n",
       "      <td>Kapan</td>\n",
       "      <td>Kapan</td>\n",
       "      <td>AM</td>\n",
       "      <td>08</td>\n",
       "      <td>PPLA</td>\n",
       "      <td>33160</td>\n",
       "      <td>AM.08</td>\n",
       "    </tr>\n",
       "    <tr>\n",
       "      <th>98</th>\n",
       "      <td>174895</td>\n",
       "      <td>Goris</td>\n",
       "      <td>Goris</td>\n",
       "      <td>AM</td>\n",
       "      <td>08</td>\n",
       "      <td>PPL</td>\n",
       "      <td>20379</td>\n",
       "      <td>AM.08</td>\n",
       "    </tr>\n",
       "    <tr>\n",
       "      <th>99</th>\n",
       "      <td>174972</td>\n",
       "      <td>Hats’avan</td>\n",
       "      <td>Hats'avan</td>\n",
       "      <td>AM</td>\n",
       "      <td>08</td>\n",
       "      <td>PPL</td>\n",
       "      <td>15208</td>\n",
       "      <td>AM.08</td>\n",
       "    </tr>\n",
       "    <tr>\n",
       "      <th>100</th>\n",
       "      <td>174979</td>\n",
       "      <td>Artashat</td>\n",
       "      <td>Artashat</td>\n",
       "      <td>AM</td>\n",
       "      <td>02</td>\n",
       "      <td>PPLA</td>\n",
       "      <td>20562</td>\n",
       "      <td>AM.02</td>\n",
       "    </tr>\n",
       "    <tr>\n",
       "      <th>101</th>\n",
       "      <td>174991</td>\n",
       "      <td>Ararat</td>\n",
       "      <td>Ararat</td>\n",
       "      <td>AM</td>\n",
       "      <td>02</td>\n",
       "      <td>PPL</td>\n",
       "      <td>28832</td>\n",
       "      <td>AM.02</td>\n",
       "    </tr>\n",
       "  </tbody>\n",
       "</table>\n",
       "</div>"
      ],
      "text/plain": [
       "     geonameid       name  asciiname country_code admin1_code feature_code  \\\n",
       "97      174875      Kapan      Kapan           AM          08         PPLA   \n",
       "98      174895      Goris      Goris           AM          08          PPL   \n",
       "99      174972  Hats’avan  Hats'avan           AM          08          PPL   \n",
       "100     174979   Artashat   Artashat           AM          02         PPLA   \n",
       "101     174991     Ararat     Ararat           AM          02          PPL   \n",
       "\n",
       "     population admin1cod  \n",
       "97        33160     AM.08  \n",
       "98        20379     AM.08  \n",
       "99        15208     AM.08  \n",
       "100       20562     AM.02  \n",
       "101       28832     AM.02  "
      ]
     },
     "execution_count": 9,
     "metadata": {},
     "output_type": "execute_result"
    }
   ],
   "source": [
    "cities_filter.head()"
   ]
  },
  {
   "cell_type": "code",
   "execution_count": 10,
   "id": "ea92d51b",
   "metadata": {},
   "outputs": [],
   "source": [
    "query = 'SELECT * FROM countryinfo'\n",
    "country = pd.read_sql_query(query, con=engine)"
   ]
  },
  {
   "cell_type": "code",
   "execution_count": 11,
   "id": "52eafe70",
   "metadata": {},
   "outputs": [],
   "source": [
    "country = country[['iso', 'geonameid','country']]"
   ]
  },
  {
   "cell_type": "code",
   "execution_count": 12,
   "id": "a9467379",
   "metadata": {},
   "outputs": [],
   "source": [
    "query = 'SELECT * FROM admin1codesascii'\n",
    "admin1codesascii = pd.read_sql_query(query, con=engine)"
   ]
  },
  {
   "cell_type": "code",
   "execution_count": 13,
   "id": "da2a729a",
   "metadata": {},
   "outputs": [],
   "source": [
    "cities_x_country = cities_filter.merge(country, how = 'left' , left_on = 'country_code', right_on = 'iso')"
   ]
  },
  {
   "cell_type": "code",
   "execution_count": 14,
   "id": "1ec0d498",
   "metadata": {},
   "outputs": [],
   "source": [
    "cities_x_country_x_admin = cities_x_country.merge(admin1codesascii, how = 'left' , left_on = 'admin1cod', \\\n",
    "                                                  right_on = 'code')"
   ]
  },
  {
   "cell_type": "code",
   "execution_count": 15,
   "id": "c678ef10",
   "metadata": {},
   "outputs": [
    {
     "data": {
      "text/html": [
       "<div>\n",
       "<style scoped>\n",
       "    .dataframe tbody tr th:only-of-type {\n",
       "        vertical-align: middle;\n",
       "    }\n",
       "\n",
       "    .dataframe tbody tr th {\n",
       "        vertical-align: top;\n",
       "    }\n",
       "\n",
       "    .dataframe thead th {\n",
       "        text-align: right;\n",
       "    }\n",
       "</style>\n",
       "<table border=\"1\" class=\"dataframe\">\n",
       "  <thead>\n",
       "    <tr style=\"text-align: right;\">\n",
       "      <th></th>\n",
       "      <th>geonameid_x</th>\n",
       "      <th>name_x</th>\n",
       "      <th>asciiname</th>\n",
       "      <th>country_code</th>\n",
       "      <th>admin1_code</th>\n",
       "      <th>feature_code</th>\n",
       "      <th>population</th>\n",
       "      <th>admin1cod</th>\n",
       "      <th>iso</th>\n",
       "      <th>geonameid_y</th>\n",
       "      <th>country</th>\n",
       "      <th>code</th>\n",
       "      <th>name_y</th>\n",
       "      <th>name_ascii</th>\n",
       "      <th>geonameid</th>\n",
       "    </tr>\n",
       "  </thead>\n",
       "  <tbody>\n",
       "    <tr>\n",
       "      <th>0</th>\n",
       "      <td>174875</td>\n",
       "      <td>Kapan</td>\n",
       "      <td>Kapan</td>\n",
       "      <td>AM</td>\n",
       "      <td>08</td>\n",
       "      <td>PPLA</td>\n",
       "      <td>33160</td>\n",
       "      <td>AM.08</td>\n",
       "      <td>AM</td>\n",
       "      <td>174982</td>\n",
       "      <td>Armenia</td>\n",
       "      <td>AM.08</td>\n",
       "      <td>Syunik</td>\n",
       "      <td>Syunik</td>\n",
       "      <td>409314</td>\n",
       "    </tr>\n",
       "    <tr>\n",
       "      <th>1</th>\n",
       "      <td>174895</td>\n",
       "      <td>Goris</td>\n",
       "      <td>Goris</td>\n",
       "      <td>AM</td>\n",
       "      <td>08</td>\n",
       "      <td>PPL</td>\n",
       "      <td>20379</td>\n",
       "      <td>AM.08</td>\n",
       "      <td>AM</td>\n",
       "      <td>174982</td>\n",
       "      <td>Armenia</td>\n",
       "      <td>AM.08</td>\n",
       "      <td>Syunik</td>\n",
       "      <td>Syunik</td>\n",
       "      <td>409314</td>\n",
       "    </tr>\n",
       "    <tr>\n",
       "      <th>2</th>\n",
       "      <td>174972</td>\n",
       "      <td>Hats’avan</td>\n",
       "      <td>Hats'avan</td>\n",
       "      <td>AM</td>\n",
       "      <td>08</td>\n",
       "      <td>PPL</td>\n",
       "      <td>15208</td>\n",
       "      <td>AM.08</td>\n",
       "      <td>AM</td>\n",
       "      <td>174982</td>\n",
       "      <td>Armenia</td>\n",
       "      <td>AM.08</td>\n",
       "      <td>Syunik</td>\n",
       "      <td>Syunik</td>\n",
       "      <td>409314</td>\n",
       "    </tr>\n",
       "    <tr>\n",
       "      <th>3</th>\n",
       "      <td>174979</td>\n",
       "      <td>Artashat</td>\n",
       "      <td>Artashat</td>\n",
       "      <td>AM</td>\n",
       "      <td>02</td>\n",
       "      <td>PPLA</td>\n",
       "      <td>20562</td>\n",
       "      <td>AM.02</td>\n",
       "      <td>AM</td>\n",
       "      <td>174982</td>\n",
       "      <td>Armenia</td>\n",
       "      <td>AM.02</td>\n",
       "      <td>Ararat</td>\n",
       "      <td>Ararat</td>\n",
       "      <td>409313</td>\n",
       "    </tr>\n",
       "    <tr>\n",
       "      <th>4</th>\n",
       "      <td>174991</td>\n",
       "      <td>Ararat</td>\n",
       "      <td>Ararat</td>\n",
       "      <td>AM</td>\n",
       "      <td>02</td>\n",
       "      <td>PPL</td>\n",
       "      <td>28832</td>\n",
       "      <td>AM.02</td>\n",
       "      <td>AM</td>\n",
       "      <td>174982</td>\n",
       "      <td>Armenia</td>\n",
       "      <td>AM.02</td>\n",
       "      <td>Ararat</td>\n",
       "      <td>Ararat</td>\n",
       "      <td>409313</td>\n",
       "    </tr>\n",
       "  </tbody>\n",
       "</table>\n",
       "</div>"
      ],
      "text/plain": [
       "   geonameid_x     name_x  asciiname country_code admin1_code feature_code  \\\n",
       "0       174875      Kapan      Kapan           AM          08         PPLA   \n",
       "1       174895      Goris      Goris           AM          08          PPL   \n",
       "2       174972  Hats’avan  Hats'avan           AM          08          PPL   \n",
       "3       174979   Artashat   Artashat           AM          02         PPLA   \n",
       "4       174991     Ararat     Ararat           AM          02          PPL   \n",
       "\n",
       "   population admin1cod iso  geonameid_y  country   code  name_y name_ascii  \\\n",
       "0       33160     AM.08  AM       174982  Armenia  AM.08  Syunik     Syunik   \n",
       "1       20379     AM.08  AM       174982  Armenia  AM.08  Syunik     Syunik   \n",
       "2       15208     AM.08  AM       174982  Armenia  AM.08  Syunik     Syunik   \n",
       "3       20562     AM.02  AM       174982  Armenia  AM.02  Ararat     Ararat   \n",
       "4       28832     AM.02  AM       174982  Armenia  AM.02  Ararat     Ararat   \n",
       "\n",
       "   geonameid  \n",
       "0     409314  \n",
       "1     409314  \n",
       "2     409314  \n",
       "3     409313  \n",
       "4     409313  "
      ]
     },
     "execution_count": 15,
     "metadata": {},
     "output_type": "execute_result"
    }
   ],
   "source": [
    "cities_x_country_x_admin.head()"
   ]
  },
  {
   "cell_type": "code",
   "execution_count": 16,
   "id": "c14cd55b",
   "metadata": {},
   "outputs": [
    {
     "data": {
      "text/plain": [
       "Index(['geonameid_x', 'name_x', 'asciiname', 'country_code', 'admin1_code',\n",
       "       'feature_code', 'population', 'admin1cod', 'iso', 'geonameid_y',\n",
       "       'country', 'code', 'name_y', 'name_ascii', 'geonameid'],\n",
       "      dtype='object')"
      ]
     },
     "execution_count": 16,
     "metadata": {},
     "output_type": "execute_result"
    }
   ],
   "source": [
    "cities_x_country_x_admin.columns"
   ]
  },
  {
   "cell_type": "code",
   "execution_count": 17,
   "id": "61b5c3fc",
   "metadata": {},
   "outputs": [],
   "source": [
    "fin_df = cities_x_country_x_admin.rename(columns={'geonameid_x': 'geonameid_city', 'name_x': 'name_city', \n",
    "                                                  'geonameid_y': 'geonameid_country', 'country': 'name_country',\n",
    "                                                  'name_y': 'name_region', 'geonameid': 'geonameid_region'})"
   ]
  },
  {
   "cell_type": "code",
   "execution_count": 18,
   "id": "071ed386",
   "metadata": {},
   "outputs": [
    {
     "data": {
      "text/html": [
       "<div>\n",
       "<style scoped>\n",
       "    .dataframe tbody tr th:only-of-type {\n",
       "        vertical-align: middle;\n",
       "    }\n",
       "\n",
       "    .dataframe tbody tr th {\n",
       "        vertical-align: top;\n",
       "    }\n",
       "\n",
       "    .dataframe thead th {\n",
       "        text-align: right;\n",
       "    }\n",
       "</style>\n",
       "<table border=\"1\" class=\"dataframe\">\n",
       "  <thead>\n",
       "    <tr style=\"text-align: right;\">\n",
       "      <th></th>\n",
       "      <th>geonameid_city</th>\n",
       "      <th>name_city</th>\n",
       "      <th>country_code</th>\n",
       "      <th>admin1_code</th>\n",
       "      <th>feature_code</th>\n",
       "      <th>population</th>\n",
       "      <th>geonameid_country</th>\n",
       "      <th>name_country</th>\n",
       "      <th>name_region</th>\n",
       "      <th>geonameid_region</th>\n",
       "    </tr>\n",
       "  </thead>\n",
       "  <tbody>\n",
       "    <tr>\n",
       "      <th>0</th>\n",
       "      <td>174875</td>\n",
       "      <td>Kapan</td>\n",
       "      <td>AM</td>\n",
       "      <td>08</td>\n",
       "      <td>PPLA</td>\n",
       "      <td>33160</td>\n",
       "      <td>174982</td>\n",
       "      <td>Armenia</td>\n",
       "      <td>Syunik</td>\n",
       "      <td>409314</td>\n",
       "    </tr>\n",
       "    <tr>\n",
       "      <th>1</th>\n",
       "      <td>174895</td>\n",
       "      <td>Goris</td>\n",
       "      <td>AM</td>\n",
       "      <td>08</td>\n",
       "      <td>PPL</td>\n",
       "      <td>20379</td>\n",
       "      <td>174982</td>\n",
       "      <td>Armenia</td>\n",
       "      <td>Syunik</td>\n",
       "      <td>409314</td>\n",
       "    </tr>\n",
       "    <tr>\n",
       "      <th>2</th>\n",
       "      <td>174972</td>\n",
       "      <td>Hats’avan</td>\n",
       "      <td>AM</td>\n",
       "      <td>08</td>\n",
       "      <td>PPL</td>\n",
       "      <td>15208</td>\n",
       "      <td>174982</td>\n",
       "      <td>Armenia</td>\n",
       "      <td>Syunik</td>\n",
       "      <td>409314</td>\n",
       "    </tr>\n",
       "    <tr>\n",
       "      <th>3</th>\n",
       "      <td>174979</td>\n",
       "      <td>Artashat</td>\n",
       "      <td>AM</td>\n",
       "      <td>02</td>\n",
       "      <td>PPLA</td>\n",
       "      <td>20562</td>\n",
       "      <td>174982</td>\n",
       "      <td>Armenia</td>\n",
       "      <td>Ararat</td>\n",
       "      <td>409313</td>\n",
       "    </tr>\n",
       "    <tr>\n",
       "      <th>4</th>\n",
       "      <td>174991</td>\n",
       "      <td>Ararat</td>\n",
       "      <td>AM</td>\n",
       "      <td>02</td>\n",
       "      <td>PPL</td>\n",
       "      <td>28832</td>\n",
       "      <td>174982</td>\n",
       "      <td>Armenia</td>\n",
       "      <td>Ararat</td>\n",
       "      <td>409313</td>\n",
       "    </tr>\n",
       "  </tbody>\n",
       "</table>\n",
       "</div>"
      ],
      "text/plain": [
       "   geonameid_city  name_city country_code admin1_code feature_code  \\\n",
       "0          174875      Kapan           AM          08         PPLA   \n",
       "1          174895      Goris           AM          08          PPL   \n",
       "2          174972  Hats’avan           AM          08          PPL   \n",
       "3          174979   Artashat           AM          02         PPLA   \n",
       "4          174991     Ararat           AM          02          PPL   \n",
       "\n",
       "   population  geonameid_country name_country name_region  geonameid_region  \n",
       "0       33160             174982      Armenia      Syunik            409314  \n",
       "1       20379             174982      Armenia      Syunik            409314  \n",
       "2       15208             174982      Armenia      Syunik            409314  \n",
       "3       20562             174982      Armenia      Ararat            409313  \n",
       "4       28832             174982      Armenia      Ararat            409313  "
      ]
     },
     "execution_count": 18,
     "metadata": {},
     "output_type": "execute_result"
    }
   ],
   "source": [
    "#из данного фрейма будем формировать ответ пользователю\n",
    "fin_df = fin_df[['geonameid_city', 'name_city', 'country_code',\n",
    "       'admin1_code', 'feature_code', 'population',\n",
    "       'geonameid_country', 'name_country', 'name_region','geonameid_region']]\n",
    "fin_df.head()"
   ]
  },
  {
   "cell_type": "code",
   "execution_count": 19,
   "id": "2e27a269",
   "metadata": {},
   "outputs": [],
   "source": [
    "#убираем ссылки и старые названия\n",
    "query = \"\"\"\n",
    "SELECT \n",
    "a.geonameid, a.isolanguage, a.alternate_name  \n",
    "FROM alternatenamesv2 as a \n",
    "where (a.isolanguage <> 'link' or a.isolanguage is null)\n",
    "and a.dt_to is null\n",
    "\"\"\"\n",
    "alternatenames = pd.read_sql_query(query, con=engine)"
   ]
  },
  {
   "cell_type": "code",
   "execution_count": 20,
   "id": "9a1a88a2",
   "metadata": {},
   "outputs": [
    {
     "data": {
      "text/html": [
       "<div>\n",
       "<style scoped>\n",
       "    .dataframe tbody tr th:only-of-type {\n",
       "        vertical-align: middle;\n",
       "    }\n",
       "\n",
       "    .dataframe tbody tr th {\n",
       "        vertical-align: top;\n",
       "    }\n",
       "\n",
       "    .dataframe thead th {\n",
       "        text-align: right;\n",
       "    }\n",
       "</style>\n",
       "<table border=\"1\" class=\"dataframe\">\n",
       "  <thead>\n",
       "    <tr style=\"text-align: right;\">\n",
       "      <th></th>\n",
       "      <th>geonameid</th>\n",
       "      <th>isolanguage</th>\n",
       "      <th>alternate_name</th>\n",
       "    </tr>\n",
       "  </thead>\n",
       "  <tbody>\n",
       "    <tr>\n",
       "      <th>0</th>\n",
       "      <td>2994701</td>\n",
       "      <td>None</td>\n",
       "      <td>Roc Mélé</td>\n",
       "    </tr>\n",
       "    <tr>\n",
       "      <th>1</th>\n",
       "      <td>2994701</td>\n",
       "      <td>None</td>\n",
       "      <td>Roc Meler</td>\n",
       "    </tr>\n",
       "    <tr>\n",
       "      <th>2</th>\n",
       "      <td>3007683</td>\n",
       "      <td>None</td>\n",
       "      <td>Pic des Langounelles</td>\n",
       "    </tr>\n",
       "    <tr>\n",
       "      <th>3</th>\n",
       "      <td>3017832</td>\n",
       "      <td>None</td>\n",
       "      <td>Pic de les Abelletes</td>\n",
       "    </tr>\n",
       "    <tr>\n",
       "      <th>4</th>\n",
       "      <td>3017832</td>\n",
       "      <td>None</td>\n",
       "      <td>Pic de la Font-Nègre</td>\n",
       "    </tr>\n",
       "  </tbody>\n",
       "</table>\n",
       "</div>"
      ],
      "text/plain": [
       "   geonameid isolanguage        alternate_name\n",
       "0    2994701        None              Roc Mélé\n",
       "1    2994701        None             Roc Meler\n",
       "2    3007683        None  Pic des Langounelles\n",
       "3    3017832        None  Pic de les Abelletes\n",
       "4    3017832        None  Pic de la Font-Nègre"
      ]
     },
     "execution_count": 20,
     "metadata": {},
     "output_type": "execute_result"
    }
   ],
   "source": [
    "alternatenames.head()"
   ]
  },
  {
   "cell_type": "code",
   "execution_count": 21,
   "id": "8fa569b7",
   "metadata": {},
   "outputs": [],
   "source": [
    "#объединяем полученные таблицы\n",
    "cities_alternatenames=fin_df.merge(alternatenames, how = 'left' , left_on = 'geonameid_city', right_on = 'geonameid')"
   ]
  },
  {
   "cell_type": "markdown",
   "id": "143693bb",
   "metadata": {},
   "source": [
    "За счёт left join отбираем только записи по списку стран в ТЗ:"
   ]
  },
  {
   "cell_type": "code",
   "execution_count": 22,
   "id": "5456fac6",
   "metadata": {},
   "outputs": [
    {
     "data": {
      "text/html": [
       "<div>\n",
       "<style scoped>\n",
       "    .dataframe tbody tr th:only-of-type {\n",
       "        vertical-align: middle;\n",
       "    }\n",
       "\n",
       "    .dataframe tbody tr th {\n",
       "        vertical-align: top;\n",
       "    }\n",
       "\n",
       "    .dataframe thead th {\n",
       "        text-align: right;\n",
       "    }\n",
       "</style>\n",
       "<table border=\"1\" class=\"dataframe\">\n",
       "  <thead>\n",
       "    <tr style=\"text-align: right;\">\n",
       "      <th></th>\n",
       "      <th>geonameid_city</th>\n",
       "      <th>name_city</th>\n",
       "      <th>country_code</th>\n",
       "      <th>admin1_code</th>\n",
       "      <th>feature_code</th>\n",
       "      <th>population</th>\n",
       "      <th>geonameid_country</th>\n",
       "      <th>name_country</th>\n",
       "      <th>name_region</th>\n",
       "      <th>geonameid_region</th>\n",
       "      <th>geonameid</th>\n",
       "      <th>isolanguage</th>\n",
       "      <th>alternate_name</th>\n",
       "    </tr>\n",
       "  </thead>\n",
       "  <tbody>\n",
       "    <tr>\n",
       "      <th>0</th>\n",
       "      <td>174875</td>\n",
       "      <td>Kapan</td>\n",
       "      <td>AM</td>\n",
       "      <td>08</td>\n",
       "      <td>PPLA</td>\n",
       "      <td>33160</td>\n",
       "      <td>174982</td>\n",
       "      <td>Armenia</td>\n",
       "      <td>Syunik</td>\n",
       "      <td>409314</td>\n",
       "      <td>174875.0</td>\n",
       "      <td>None</td>\n",
       "      <td>Qafan</td>\n",
       "    </tr>\n",
       "    <tr>\n",
       "      <th>1</th>\n",
       "      <td>174875</td>\n",
       "      <td>Kapan</td>\n",
       "      <td>AM</td>\n",
       "      <td>08</td>\n",
       "      <td>PPLA</td>\n",
       "      <td>33160</td>\n",
       "      <td>174982</td>\n",
       "      <td>Armenia</td>\n",
       "      <td>Syunik</td>\n",
       "      <td>409314</td>\n",
       "      <td>174875.0</td>\n",
       "      <td>es</td>\n",
       "      <td>Kapan</td>\n",
       "    </tr>\n",
       "    <tr>\n",
       "      <th>2</th>\n",
       "      <td>174875</td>\n",
       "      <td>Kapan</td>\n",
       "      <td>AM</td>\n",
       "      <td>08</td>\n",
       "      <td>PPLA</td>\n",
       "      <td>33160</td>\n",
       "      <td>174982</td>\n",
       "      <td>Armenia</td>\n",
       "      <td>Syunik</td>\n",
       "      <td>409314</td>\n",
       "      <td>174875.0</td>\n",
       "      <td>en</td>\n",
       "      <td>Kapan</td>\n",
       "    </tr>\n",
       "    <tr>\n",
       "      <th>3</th>\n",
       "      <td>174875</td>\n",
       "      <td>Kapan</td>\n",
       "      <td>AM</td>\n",
       "      <td>08</td>\n",
       "      <td>PPLA</td>\n",
       "      <td>33160</td>\n",
       "      <td>174982</td>\n",
       "      <td>Armenia</td>\n",
       "      <td>Syunik</td>\n",
       "      <td>409314</td>\n",
       "      <td>174875.0</td>\n",
       "      <td>de</td>\n",
       "      <td>Kapan</td>\n",
       "    </tr>\n",
       "    <tr>\n",
       "      <th>4</th>\n",
       "      <td>174875</td>\n",
       "      <td>Kapan</td>\n",
       "      <td>AM</td>\n",
       "      <td>08</td>\n",
       "      <td>PPLA</td>\n",
       "      <td>33160</td>\n",
       "      <td>174982</td>\n",
       "      <td>Armenia</td>\n",
       "      <td>Syunik</td>\n",
       "      <td>409314</td>\n",
       "      <td>174875.0</td>\n",
       "      <td>fa</td>\n",
       "      <td>کاپان</td>\n",
       "    </tr>\n",
       "  </tbody>\n",
       "</table>\n",
       "</div>"
      ],
      "text/plain": [
       "   geonameid_city name_city country_code admin1_code feature_code  population  \\\n",
       "0          174875     Kapan           AM          08         PPLA       33160   \n",
       "1          174875     Kapan           AM          08         PPLA       33160   \n",
       "2          174875     Kapan           AM          08         PPLA       33160   \n",
       "3          174875     Kapan           AM          08         PPLA       33160   \n",
       "4          174875     Kapan           AM          08         PPLA       33160   \n",
       "\n",
       "   geonameid_country name_country name_region  geonameid_region  geonameid  \\\n",
       "0             174982      Armenia      Syunik            409314   174875.0   \n",
       "1             174982      Armenia      Syunik            409314   174875.0   \n",
       "2             174982      Armenia      Syunik            409314   174875.0   \n",
       "3             174982      Armenia      Syunik            409314   174875.0   \n",
       "4             174982      Armenia      Syunik            409314   174875.0   \n",
       "\n",
       "  isolanguage alternate_name  \n",
       "0        None          Qafan  \n",
       "1          es          Kapan  \n",
       "2          en          Kapan  \n",
       "3          de          Kapan  \n",
       "4          fa          کاپان  "
      ]
     },
     "execution_count": 22,
     "metadata": {},
     "output_type": "execute_result"
    }
   ],
   "source": [
    "cities_alternatenames.head()"
   ]
  },
  {
   "cell_type": "code",
   "execution_count": 23,
   "id": "1787fb5a",
   "metadata": {},
   "outputs": [
    {
     "data": {
      "text/html": [
       "<div>\n",
       "<style scoped>\n",
       "    .dataframe tbody tr th:only-of-type {\n",
       "        vertical-align: middle;\n",
       "    }\n",
       "\n",
       "    .dataframe tbody tr th {\n",
       "        vertical-align: top;\n",
       "    }\n",
       "\n",
       "    .dataframe thead th {\n",
       "        text-align: right;\n",
       "    }\n",
       "</style>\n",
       "<table border=\"1\" class=\"dataframe\">\n",
       "  <thead>\n",
       "    <tr style=\"text-align: right;\">\n",
       "      <th></th>\n",
       "      <th>geonameid_city</th>\n",
       "      <th>name_city</th>\n",
       "      <th>country_code</th>\n",
       "      <th>admin1_code</th>\n",
       "      <th>feature_code</th>\n",
       "      <th>population</th>\n",
       "      <th>geonameid_country</th>\n",
       "      <th>name_country</th>\n",
       "      <th>name_region</th>\n",
       "      <th>geonameid_region</th>\n",
       "      <th>geonameid</th>\n",
       "      <th>isolanguage</th>\n",
       "      <th>alternate_name</th>\n",
       "    </tr>\n",
       "  </thead>\n",
       "  <tbody>\n",
       "    <tr>\n",
       "      <th>22815</th>\n",
       "      <td>11238229</td>\n",
       "      <td>Obruchevo</td>\n",
       "      <td>RU</td>\n",
       "      <td>48</td>\n",
       "      <td>PPL</td>\n",
       "      <td>85616</td>\n",
       "      <td>2017370</td>\n",
       "      <td>Russia</td>\n",
       "      <td>Moscow</td>\n",
       "      <td>524894</td>\n",
       "      <td>NaN</td>\n",
       "      <td>NaN</td>\n",
       "      <td>NaN</td>\n",
       "    </tr>\n",
       "    <tr>\n",
       "      <th>25462</th>\n",
       "      <td>323094</td>\n",
       "      <td>Aşkale</td>\n",
       "      <td>TR</td>\n",
       "      <td>25</td>\n",
       "      <td>PPL</td>\n",
       "      <td>15462</td>\n",
       "      <td>298795</td>\n",
       "      <td>Turkey</td>\n",
       "      <td>Erzurum</td>\n",
       "      <td>315367</td>\n",
       "      <td>NaN</td>\n",
       "      <td>NaN</td>\n",
       "      <td>NaN</td>\n",
       "    </tr>\n",
       "    <tr>\n",
       "      <th>27844</th>\n",
       "      <td>7627067</td>\n",
       "      <td>Bahçelievler</td>\n",
       "      <td>TR</td>\n",
       "      <td>34</td>\n",
       "      <td>PPL</td>\n",
       "      <td>576799</td>\n",
       "      <td>298795</td>\n",
       "      <td>Turkey</td>\n",
       "      <td>Istanbul</td>\n",
       "      <td>745042</td>\n",
       "      <td>NaN</td>\n",
       "      <td>NaN</td>\n",
       "      <td>NaN</td>\n",
       "    </tr>\n",
       "    <tr>\n",
       "      <th>27845</th>\n",
       "      <td>7628416</td>\n",
       "      <td>Sultangazi</td>\n",
       "      <td>TR</td>\n",
       "      <td>34</td>\n",
       "      <td>PPL</td>\n",
       "      <td>436935</td>\n",
       "      <td>298795</td>\n",
       "      <td>Turkey</td>\n",
       "      <td>Istanbul</td>\n",
       "      <td>745042</td>\n",
       "      <td>NaN</td>\n",
       "      <td>NaN</td>\n",
       "      <td>NaN</td>\n",
       "    </tr>\n",
       "    <tr>\n",
       "      <th>27847</th>\n",
       "      <td>7628420</td>\n",
       "      <td>Sancaktepe</td>\n",
       "      <td>TR</td>\n",
       "      <td>34</td>\n",
       "      <td>PPL</td>\n",
       "      <td>241000</td>\n",
       "      <td>298795</td>\n",
       "      <td>Turkey</td>\n",
       "      <td>Istanbul</td>\n",
       "      <td>745042</td>\n",
       "      <td>NaN</td>\n",
       "      <td>NaN</td>\n",
       "      <td>NaN</td>\n",
       "    </tr>\n",
       "    <tr>\n",
       "      <th>27848</th>\n",
       "      <td>7701384</td>\n",
       "      <td>Karabağlar</td>\n",
       "      <td>TR</td>\n",
       "      <td>35</td>\n",
       "      <td>PPL</td>\n",
       "      <td>458000</td>\n",
       "      <td>298795</td>\n",
       "      <td>Turkey</td>\n",
       "      <td>İzmir Province</td>\n",
       "      <td>311044</td>\n",
       "      <td>NaN</td>\n",
       "      <td>NaN</td>\n",
       "      <td>NaN</td>\n",
       "    </tr>\n",
       "    <tr>\n",
       "      <th>27850</th>\n",
       "      <td>11238838</td>\n",
       "      <td>Merkezefendi</td>\n",
       "      <td>TR</td>\n",
       "      <td>20</td>\n",
       "      <td>PPLA2</td>\n",
       "      <td>280341</td>\n",
       "      <td>298795</td>\n",
       "      <td>Turkey</td>\n",
       "      <td>Denizli</td>\n",
       "      <td>317106</td>\n",
       "      <td>NaN</td>\n",
       "      <td>NaN</td>\n",
       "      <td>NaN</td>\n",
       "    </tr>\n",
       "  </tbody>\n",
       "</table>\n",
       "</div>"
      ],
      "text/plain": [
       "       geonameid_city     name_city country_code admin1_code feature_code  \\\n",
       "22815        11238229     Obruchevo           RU          48          PPL   \n",
       "25462          323094        Aşkale           TR          25          PPL   \n",
       "27844         7627067  Bahçelievler           TR          34          PPL   \n",
       "27845         7628416    Sultangazi           TR          34          PPL   \n",
       "27847         7628420    Sancaktepe           TR          34          PPL   \n",
       "27848         7701384    Karabağlar           TR          35          PPL   \n",
       "27850        11238838  Merkezefendi           TR          20        PPLA2   \n",
       "\n",
       "       population  geonameid_country name_country     name_region  \\\n",
       "22815       85616            2017370       Russia          Moscow   \n",
       "25462       15462             298795       Turkey         Erzurum   \n",
       "27844      576799             298795       Turkey        Istanbul   \n",
       "27845      436935             298795       Turkey        Istanbul   \n",
       "27847      241000             298795       Turkey        Istanbul   \n",
       "27848      458000             298795       Turkey  İzmir Province   \n",
       "27850      280341             298795       Turkey         Denizli   \n",
       "\n",
       "       geonameid_region  geonameid isolanguage alternate_name  \n",
       "22815            524894        NaN         NaN            NaN  \n",
       "25462            315367        NaN         NaN            NaN  \n",
       "27844            745042        NaN         NaN            NaN  \n",
       "27845            745042        NaN         NaN            NaN  \n",
       "27847            745042        NaN         NaN            NaN  \n",
       "27848            311044        NaN         NaN            NaN  \n",
       "27850            317106        NaN         NaN            NaN  "
      ]
     },
     "execution_count": 23,
     "metadata": {},
     "output_type": "execute_result"
    }
   ],
   "source": [
    "#проверяем, для всех записей из списка городов нашлась запись в таблице с альтернативными названиями?\n",
    "cities_alternatenames[cities_alternatenames['alternate_name'].isnull()]"
   ]
  },
  {
   "cell_type": "code",
   "execution_count": 24,
   "id": "1391b61a",
   "metadata": {},
   "outputs": [],
   "source": [
    "cities_alternatenames['alternate_name'] = cities_alternatenames['alternate_name']. fillna(cities_alternatenames['name_city'])"
   ]
  },
  {
   "cell_type": "code",
   "execution_count": 25,
   "id": "dbbd9384-b0b0-40be-a5e1-90d85eefd508",
   "metadata": {},
   "outputs": [],
   "source": [
    "#потребуется для соединения таблиц\n",
    "cities_alternatenames.index.names = ['ID']"
   ]
  },
  {
   "cell_type": "markdown",
   "id": "4efb5951-8c92-4760-9868-1d0dcea51ce4",
   "metadata": {},
   "source": [
    "## Сопоставляем город по запросу"
   ]
  },
  {
   "cell_type": "markdown",
   "id": "3e3d7187-82be-450e-bb74-8bd678cd148e",
   "metadata": {},
   "source": [
    "### Перевод+TF-IDF"
   ]
  },
  {
   "cell_type": "markdown",
   "id": "324fe3f2-0762-467b-8c8d-c04fa9bb45ae",
   "metadata": {},
   "source": [
    "Кол-во записей для выдачи N"
   ]
  },
  {
   "cell_type": "code",
   "execution_count": 26,
   "id": "d7f584b8-8d98-4de4-8942-997445bc5f39",
   "metadata": {},
   "outputs": [],
   "source": [
    "N = 1"
   ]
  },
  {
   "cell_type": "code",
   "execution_count": 27,
   "id": "dfbb9321-2f6c-496f-ae86-3242adbae30a",
   "metadata": {},
   "outputs": [],
   "source": [
    "corpus_tfidf = cities_alternatenames['alternate_name']"
   ]
  },
  {
   "cell_type": "code",
   "execution_count": 28,
   "id": "add75031-97a2-429d-843b-44c7d2ee3e25",
   "metadata": {},
   "outputs": [],
   "source": [
    "vectorizer = TfidfVectorizer(analyzer='char', ngram_range=(1, 3))"
   ]
  },
  {
   "cell_type": "code",
   "execution_count": 29,
   "id": "9d5a77f4-4671-4762-8c5c-cdc89898d038",
   "metadata": {},
   "outputs": [],
   "source": [
    "corpus_tfidf_transform = vectorizer.fit_transform(corpus_tfidf)"
   ]
  },
  {
   "cell_type": "code",
   "execution_count": 30,
   "id": "4ee37121-2a2d-4685-b82d-a0a668fea3b4",
   "metadata": {},
   "outputs": [],
   "source": [
    "test = pd.read_csv('geo_test.csv', sep = ';')"
   ]
  },
  {
   "cell_type": "code",
   "execution_count": 31,
   "id": "5dcf8956-9d36-403f-a756-d28e640ea0c2",
   "metadata": {},
   "outputs": [
    {
     "data": {
      "text/html": [
       "<div>\n",
       "<style scoped>\n",
       "    .dataframe tbody tr th:only-of-type {\n",
       "        vertical-align: middle;\n",
       "    }\n",
       "\n",
       "    .dataframe tbody tr th {\n",
       "        vertical-align: top;\n",
       "    }\n",
       "\n",
       "    .dataframe thead th {\n",
       "        text-align: right;\n",
       "    }\n",
       "</style>\n",
       "<table border=\"1\" class=\"dataframe\">\n",
       "  <thead>\n",
       "    <tr style=\"text-align: right;\">\n",
       "      <th></th>\n",
       "      <th>query</th>\n",
       "      <th>name</th>\n",
       "      <th>region</th>\n",
       "      <th>country</th>\n",
       "    </tr>\n",
       "  </thead>\n",
       "  <tbody>\n",
       "    <tr>\n",
       "      <th>0</th>\n",
       "      <td>Смоленск</td>\n",
       "      <td>Smolensk</td>\n",
       "      <td>Smolensk Oblast</td>\n",
       "      <td>Russia</td>\n",
       "    </tr>\n",
       "    <tr>\n",
       "      <th>1</th>\n",
       "      <td>Кемерово</td>\n",
       "      <td>Kemerovo</td>\n",
       "      <td>Kuzbass</td>\n",
       "      <td>Russia</td>\n",
       "    </tr>\n",
       "    <tr>\n",
       "      <th>2</th>\n",
       "      <td>Бишкек</td>\n",
       "      <td>Bishkek</td>\n",
       "      <td>Bishkek</td>\n",
       "      <td>Kyrgyzstan</td>\n",
       "    </tr>\n",
       "    <tr>\n",
       "      <th>3</th>\n",
       "      <td>Москва</td>\n",
       "      <td>Moscow</td>\n",
       "      <td>Moscow</td>\n",
       "      <td>Russia</td>\n",
       "    </tr>\n",
       "    <tr>\n",
       "      <th>4</th>\n",
       "      <td>Алматы</td>\n",
       "      <td>Almaty</td>\n",
       "      <td>Almaty</td>\n",
       "      <td>Kazakhstan</td>\n",
       "    </tr>\n",
       "  </tbody>\n",
       "</table>\n",
       "</div>"
      ],
      "text/plain": [
       "      query      name           region     country\n",
       "0  Смоленск  Smolensk  Smolensk Oblast      Russia\n",
       "1  Кемерово  Kemerovo          Kuzbass      Russia\n",
       "2    Бишкек   Bishkek          Bishkek  Kyrgyzstan\n",
       "3    Москва    Moscow           Moscow      Russia\n",
       "4    Алматы    Almaty           Almaty  Kazakhstan"
      ]
     },
     "execution_count": 31,
     "metadata": {},
     "output_type": "execute_result"
    }
   ],
   "source": [
    "test.head()"
   ]
  },
  {
   "cell_type": "code",
   "execution_count": 32,
   "id": "7460ae3c-0150-473d-b5cc-652587762918",
   "metadata": {},
   "outputs": [],
   "source": [
    "query = []\n",
    "distance = []\n",
    "city_index = []\n",
    "city_query = []\n",
    "city_translate = []\n",
    "for city in test['query'].values.tolist():\n",
    "    for lang in get_available_language_codes():\n",
    "        translate_text = translit(city, language_code = lang , reversed=True)\n",
    "        query.append(translate_text)\n",
    "        answer = awesome_cossim_topn(vectorizer.transform(query), corpus_tfidf_transform.transpose(), N, 0)\n",
    "        for index, i in enumerate(answer.indices):\n",
    "            distance.append(answer.data[index])\n",
    "            city_index.append(answer.indices[0])\n",
    "            city_query.append(city)\n",
    "            city_translate.append(translate_text)\n",
    "        query.clear()    "
   ]
  },
  {
   "cell_type": "code",
   "execution_count": 33,
   "id": "0d6a74cd-2ef6-4a5f-b995-b297b1706e85",
   "metadata": {},
   "outputs": [],
   "source": [
    "test_df = pd.DataFrame(list(zip(distance, city_index, city_query, city_translate)), columns = ['distance', 'city_index','city_query','city_translate'])"
   ]
  },
  {
   "cell_type": "markdown",
   "id": "c6273842-542b-4701-bda0-4977e37ea6f9",
   "metadata": {},
   "source": [
    "На данном этапе для каждого значения из тестового набора мы нашли наиболее близкие записи. Теперь для каждой записи тестового набора выбираем город с максимальным значением \"distance\"."
   ]
  },
  {
   "cell_type": "code",
   "execution_count": 34,
   "id": "44b6f75e-cfb0-4d56-b889-4f11b2a06f41",
   "metadata": {},
   "outputs": [],
   "source": [
    "test_df_range = test_df.sort_values(['distance'],ascending= False ).groupby('city_query').head(1)"
   ]
  },
  {
   "cell_type": "code",
   "execution_count": 35,
   "id": "3c321781-aae7-4966-a599-dd4ff1a89894",
   "metadata": {},
   "outputs": [],
   "source": [
    "test_fin = pd.merge(test, pd.merge(test_df_range, cities_alternatenames, how = 'inner' , left_on = 'city_index' , right_on = 'ID'), \n",
    "                    how = 'inner', left_on = 'query', right_on = 'city_query')[['query','name','region','country', 'name_city', 'name_region',\n",
    "                                                                                'name_country','distance']]"
   ]
  },
  {
   "cell_type": "code",
   "execution_count": 36,
   "id": "e2ad09e0-e3d8-4ed4-9bfa-a627b2cf48a0",
   "metadata": {},
   "outputs": [
    {
     "data": {
      "text/plain": [
       "22"
      ]
     },
     "execution_count": 36,
     "metadata": {},
     "output_type": "execute_result"
    }
   ],
   "source": [
    "#некорректно определили город\n",
    "test_fin[test_fin['name'] != test_fin['name_city']]['query'].count()"
   ]
  },
  {
   "cell_type": "markdown",
   "id": "e15045f4-3ac3-48a8-b004-e3899acd171e",
   "metadata": {},
   "source": [
    "### Обученные языковые модели"
   ]
  },
  {
   "cell_type": "code",
   "execution_count": 38,
   "id": "99463108-74ca-459f-83e5-37f3ac496483",
   "metadata": {},
   "outputs": [],
   "source": [
    "MLM = ['distiluse-base-multilingual-cased-v1','distiluse-base-multilingual-cased-v2','paraphrase-multilingual-MiniLM-L12-v2',\n",
    "      'paraphrase-multilingual-mpnet-base-v2','LaBSE']"
   ]
  },
  {
   "cell_type": "code",
   "execution_count": 39,
   "id": "8231d192-54fc-4be1-8d2c-88e14ac0a85e",
   "metadata": {},
   "outputs": [
    {
     "name": "stdout",
     "output_type": "stream",
     "text": [
      "Кол-во некорректных для модели distiluse-base-multilingual-cased-v1: 24\n",
      "Кол-во некорректных для модели distiluse-base-multilingual-cased-v2: 28\n",
      "Кол-во некорректных для модели paraphrase-multilingual-MiniLM-L12-v2: 28\n",
      "Кол-во некорректных для модели paraphrase-multilingual-mpnet-base-v2: 27\n",
      "Кол-во некорректных для модели LaBSE: 22\n"
     ]
    }
   ],
   "source": [
    "unic_city = cities_alternatenames.alternate_name.values  \n",
    "test_city_lm = test['query'].values\n",
    "for lm in MLM:\n",
    "    model = SentenceTransformer('sentence-transformers/'+lm)\n",
    "    embeddings = model.encode(unic_city)\n",
    "    embeddings_test = model.encode(test_city_lm)\n",
    "    city_lm = []\n",
    "    gerion_lm = []\n",
    "    country_lm = []\n",
    "    score_lm = []\n",
    "    for text in test_city_lm:\n",
    "        result = util.semantic_search(model.encode(text),embeddings,  top_k = 1)[0]\n",
    "        for item in result:\n",
    "            city_lm.append(cities_alternatenames.iloc[item['corpus_id']]['name_city'])\n",
    "            gerion_lm.append(cities_alternatenames.iloc[item['corpus_id']]['name_region'])\n",
    "            country_lm.append(cities_alternatenames.iloc[item['corpus_id']]['name_country'])\n",
    "            score_lm.append(item['score'])\n",
    "    test_df_lm = pd.DataFrame(list(zip(city_lm, gerion_lm, country_lm, score_lm)), columns = ['city_lm', 'gerion_lm','country_lm','score_lm'])\n",
    "    test_fin_lm = test.join(test_df_lm)\n",
    "    print('Кол-во некорректных для модели '+lm+':', test_fin_lm[test_fin_lm['name'] != test_fin_lm['city_lm']]['query'].count())"
   ]
  },
  {
   "cell_type": "markdown",
   "id": "9e88a951-5231-448d-aaa2-5b1066e5f7c0",
   "metadata": {},
   "source": [
    "Нельзя сказать, что результаты моделкей сильно отдичаются. Посомтрим, на каких городах ошиблась последняя модель из предыдущего блока."
   ]
  },
  {
   "cell_type": "code",
   "execution_count": 41,
   "id": "8ce90aa8-f501-4951-a0f2-638a3462bedc",
   "metadata": {},
   "outputs": [
    {
     "data": {
      "text/html": [
       "<div>\n",
       "<style scoped>\n",
       "    .dataframe tbody tr th:only-of-type {\n",
       "        vertical-align: middle;\n",
       "    }\n",
       "\n",
       "    .dataframe tbody tr th {\n",
       "        vertical-align: top;\n",
       "    }\n",
       "\n",
       "    .dataframe thead th {\n",
       "        text-align: right;\n",
       "    }\n",
       "</style>\n",
       "<table border=\"1\" class=\"dataframe\">\n",
       "  <thead>\n",
       "    <tr style=\"text-align: right;\">\n",
       "      <th></th>\n",
       "      <th>query</th>\n",
       "      <th>name</th>\n",
       "      <th>region</th>\n",
       "      <th>country</th>\n",
       "      <th>city_lm</th>\n",
       "      <th>gerion_lm</th>\n",
       "      <th>country_lm</th>\n",
       "      <th>score_lm</th>\n",
       "    </tr>\n",
       "  </thead>\n",
       "  <tbody>\n",
       "    <tr>\n",
       "      <th>10</th>\n",
       "      <td>Минск</td>\n",
       "      <td>Minsk City</td>\n",
       "      <td>Minsk City</td>\n",
       "      <td>Belarus</td>\n",
       "      <td>Minsk</td>\n",
       "      <td>Minsk City</td>\n",
       "      <td>Belarus</td>\n",
       "      <td>1.000000</td>\n",
       "    </tr>\n",
       "    <tr>\n",
       "      <th>15</th>\n",
       "      <td>Екб</td>\n",
       "      <td>Yekaterinburg</td>\n",
       "      <td>Sverdlovsk Oblast</td>\n",
       "      <td>Russia</td>\n",
       "      <td>Ekibastuz</td>\n",
       "      <td>Pavlodar Region</td>\n",
       "      <td>Kazakhstan</td>\n",
       "      <td>0.770992</td>\n",
       "    </tr>\n",
       "    <tr>\n",
       "      <th>17</th>\n",
       "      <td>Н.Новгород</td>\n",
       "      <td>Nizhniy Novgorod</td>\n",
       "      <td>Nizhny Novgorod Oblast</td>\n",
       "      <td>Russia</td>\n",
       "      <td>Velikiy Novgorod</td>\n",
       "      <td>Novgorod Oblast</td>\n",
       "      <td>Russia</td>\n",
       "      <td>0.913680</td>\n",
       "    </tr>\n",
       "    <tr>\n",
       "      <th>31</th>\n",
       "      <td>Остана</td>\n",
       "      <td>Astana</td>\n",
       "      <td>Astana</td>\n",
       "      <td>Kazakhstan</td>\n",
       "      <td>Tunceli</td>\n",
       "      <td>Tunceli</td>\n",
       "      <td>Turkey</td>\n",
       "      <td>0.787425</td>\n",
       "    </tr>\n",
       "    <tr>\n",
       "      <th>44</th>\n",
       "      <td>Островцы</td>\n",
       "      <td>Ostrovtsy</td>\n",
       "      <td>Moscow Oblast</td>\n",
       "      <td>Russia</td>\n",
       "      <td>Ostrov</td>\n",
       "      <td>Pskov Oblast</td>\n",
       "      <td>Russia</td>\n",
       "      <td>0.827741</td>\n",
       "    </tr>\n",
       "    <tr>\n",
       "      <th>75</th>\n",
       "      <td>Аксай</td>\n",
       "      <td>Aksay</td>\n",
       "      <td>Rostov</td>\n",
       "      <td>Russia</td>\n",
       "      <td>Aqsay</td>\n",
       "      <td>Batys Qazaqstan</td>\n",
       "      <td>Kazakhstan</td>\n",
       "      <td>1.000000</td>\n",
       "    </tr>\n",
       "    <tr>\n",
       "      <th>91</th>\n",
       "      <td>Сербия</td>\n",
       "      <td>Serbia</td>\n",
       "      <td>Serbia</td>\n",
       "      <td>Serbia</td>\n",
       "      <td>Sivas</td>\n",
       "      <td>Sivas</td>\n",
       "      <td>Turkey</td>\n",
       "      <td>0.721775</td>\n",
       "    </tr>\n",
       "    <tr>\n",
       "      <th>98</th>\n",
       "      <td>Армения</td>\n",
       "      <td>Armenia</td>\n",
       "      <td>Armenia</td>\n",
       "      <td>Armenia</td>\n",
       "      <td>Ararat</td>\n",
       "      <td>Ararat</td>\n",
       "      <td>Armenia</td>\n",
       "      <td>0.766780</td>\n",
       "    </tr>\n",
       "    <tr>\n",
       "      <th>101</th>\n",
       "      <td>Атырау</td>\n",
       "      <td>Atyraū</td>\n",
       "      <td>Atyraū</td>\n",
       "      <td>Kazakhstan</td>\n",
       "      <td>Atyrau</td>\n",
       "      <td>Atyraū</td>\n",
       "      <td>Kazakhstan</td>\n",
       "      <td>1.000000</td>\n",
       "    </tr>\n",
       "    <tr>\n",
       "      <th>121</th>\n",
       "      <td>Джанкой</td>\n",
       "      <td>Zhanibek</td>\n",
       "      <td>Batys Qazaqstan</td>\n",
       "      <td>Kazakhstan</td>\n",
       "      <td>Samsun</td>\n",
       "      <td>Samsun</td>\n",
       "      <td>Turkey</td>\n",
       "      <td>0.815760</td>\n",
       "    </tr>\n",
       "    <tr>\n",
       "      <th>129</th>\n",
       "      <td>Белокуриха</td>\n",
       "      <td>Belokurikha</td>\n",
       "      <td>Altai Krai</td>\n",
       "      <td>Russia</td>\n",
       "      <td>Belogorsk</td>\n",
       "      <td>Amur Oblast</td>\n",
       "      <td>Russia</td>\n",
       "      <td>0.752648</td>\n",
       "    </tr>\n",
       "    <tr>\n",
       "      <th>131</th>\n",
       "      <td>Павлодар</td>\n",
       "      <td>Pavlodar Region</td>\n",
       "      <td>Pavlodar Region</td>\n",
       "      <td>Kazakhstan</td>\n",
       "      <td>Pavlodar</td>\n",
       "      <td>Pavlodar Region</td>\n",
       "      <td>Kazakhstan</td>\n",
       "      <td>1.000000</td>\n",
       "    </tr>\n",
       "    <tr>\n",
       "      <th>137</th>\n",
       "      <td>Дзержинский</td>\n",
       "      <td>Dzerzhinsky</td>\n",
       "      <td>Moscow Oblast</td>\n",
       "      <td>Russia</td>\n",
       "      <td>Dzerzhinskiy</td>\n",
       "      <td>Moscow Oblast</td>\n",
       "      <td>Russia</td>\n",
       "      <td>1.000000</td>\n",
       "    </tr>\n",
       "    <tr>\n",
       "      <th>141</th>\n",
       "      <td>Касумкент</td>\n",
       "      <td>Kasumkent</td>\n",
       "      <td>Dagestan</td>\n",
       "      <td>Russia</td>\n",
       "      <td>Kastamonu</td>\n",
       "      <td>Kastamonu</td>\n",
       "      <td>Turkey</td>\n",
       "      <td>0.731431</td>\n",
       "    </tr>\n",
       "    <tr>\n",
       "      <th>158</th>\n",
       "      <td>Дзержинск</td>\n",
       "      <td>Dzerzhinsk</td>\n",
       "      <td>Nizhny Novgorod Oblast</td>\n",
       "      <td>Russia</td>\n",
       "      <td>Dzyarzhynsk</td>\n",
       "      <td>Minsk</td>\n",
       "      <td>Belarus</td>\n",
       "      <td>1.000000</td>\n",
       "    </tr>\n",
       "    <tr>\n",
       "      <th>169</th>\n",
       "      <td>Новая Адыгея</td>\n",
       "      <td>Novaya Adygeya</td>\n",
       "      <td>Adygeya Republic</td>\n",
       "      <td>Russia</td>\n",
       "      <td>Novouzensk</td>\n",
       "      <td>Saratov Oblast</td>\n",
       "      <td>Russia</td>\n",
       "      <td>0.670016</td>\n",
       "    </tr>\n",
       "    <tr>\n",
       "      <th>240</th>\n",
       "      <td>Виловатово</td>\n",
       "      <td>Vilovatovo</td>\n",
       "      <td>Mariy-El Republic</td>\n",
       "      <td>Russia</td>\n",
       "      <td>Valjevo</td>\n",
       "      <td>Central Serbia</td>\n",
       "      <td>Serbia</td>\n",
       "      <td>0.766187</td>\n",
       "    </tr>\n",
       "    <tr>\n",
       "      <th>244</th>\n",
       "      <td>Октябрьский</td>\n",
       "      <td>Oktyabr’skiy</td>\n",
       "      <td>Moscow Oblast</td>\n",
       "      <td>Russia</td>\n",
       "      <td>Oktyabrsky</td>\n",
       "      <td>Bashkortostan Republic</td>\n",
       "      <td>Russia</td>\n",
       "      <td>1.000000</td>\n",
       "    </tr>\n",
       "    <tr>\n",
       "      <th>316</th>\n",
       "      <td>Дрожжино</td>\n",
       "      <td>Drozhzhino</td>\n",
       "      <td>Moscow Oblast</td>\n",
       "      <td>Russia</td>\n",
       "      <td>Fryazino</td>\n",
       "      <td>Moscow Oblast</td>\n",
       "      <td>Russia</td>\n",
       "      <td>0.650975</td>\n",
       "    </tr>\n",
       "    <tr>\n",
       "      <th>321</th>\n",
       "      <td>Крекшино</td>\n",
       "      <td>Krekshino</td>\n",
       "      <td>Moscow Oblast</td>\n",
       "      <td>Russia</td>\n",
       "      <td>Krychaw</td>\n",
       "      <td>Mogilev</td>\n",
       "      <td>Belarus</td>\n",
       "      <td>0.746190</td>\n",
       "    </tr>\n",
       "    <tr>\n",
       "      <th>322</th>\n",
       "      <td>Кокошкино</td>\n",
       "      <td>Kokoshkino</td>\n",
       "      <td>Moscow</td>\n",
       "      <td>Russia</td>\n",
       "      <td>Kochenëvo</td>\n",
       "      <td>Novosibirsk Oblast</td>\n",
       "      <td>Russia</td>\n",
       "      <td>0.775748</td>\n",
       "    </tr>\n",
       "    <tr>\n",
       "      <th>344</th>\n",
       "      <td>Тамань</td>\n",
       "      <td>Taman’</td>\n",
       "      <td>Krasnodar Krai</td>\n",
       "      <td>Russia</td>\n",
       "      <td>Tyumen</td>\n",
       "      <td>Tyumen Oblast</td>\n",
       "      <td>Russia</td>\n",
       "      <td>0.783279</td>\n",
       "    </tr>\n",
       "  </tbody>\n",
       "</table>\n",
       "</div>"
      ],
      "text/plain": [
       "            query              name                  region     country  \\\n",
       "10          Минск        Minsk City              Minsk City     Belarus   \n",
       "15            Екб     Yekaterinburg       Sverdlovsk Oblast      Russia   \n",
       "17     Н.Новгород  Nizhniy Novgorod  Nizhny Novgorod Oblast      Russia   \n",
       "31         Остана            Astana                  Astana  Kazakhstan   \n",
       "44       Островцы         Ostrovtsy           Moscow Oblast      Russia   \n",
       "75          Аксай             Aksay                  Rostov      Russia   \n",
       "91         Сербия            Serbia                  Serbia      Serbia   \n",
       "98        Армения           Armenia                 Armenia     Armenia   \n",
       "101        Атырау            Atyraū                  Atyraū  Kazakhstan   \n",
       "121       Джанкой          Zhanibek         Batys Qazaqstan  Kazakhstan   \n",
       "129    Белокуриха       Belokurikha              Altai Krai      Russia   \n",
       "131      Павлодар   Pavlodar Region         Pavlodar Region  Kazakhstan   \n",
       "137   Дзержинский       Dzerzhinsky           Moscow Oblast      Russia   \n",
       "141     Касумкент         Kasumkent                Dagestan      Russia   \n",
       "158     Дзержинск        Dzerzhinsk  Nizhny Novgorod Oblast      Russia   \n",
       "169  Новая Адыгея    Novaya Adygeya        Adygeya Republic      Russia   \n",
       "240    Виловатово        Vilovatovo       Mariy-El Republic      Russia   \n",
       "244   Октябрьский      Oktyabr’skiy           Moscow Oblast      Russia   \n",
       "316      Дрожжино        Drozhzhino           Moscow Oblast      Russia   \n",
       "321      Крекшино         Krekshino           Moscow Oblast      Russia   \n",
       "322     Кокошкино        Kokoshkino                  Moscow      Russia   \n",
       "344        Тамань            Taman’          Krasnodar Krai      Russia   \n",
       "\n",
       "              city_lm               gerion_lm  country_lm  score_lm  \n",
       "10              Minsk              Minsk City     Belarus  1.000000  \n",
       "15          Ekibastuz         Pavlodar Region  Kazakhstan  0.770992  \n",
       "17   Velikiy Novgorod         Novgorod Oblast      Russia  0.913680  \n",
       "31            Tunceli                 Tunceli      Turkey  0.787425  \n",
       "44             Ostrov            Pskov Oblast      Russia  0.827741  \n",
       "75              Aqsay         Batys Qazaqstan  Kazakhstan  1.000000  \n",
       "91              Sivas                   Sivas      Turkey  0.721775  \n",
       "98             Ararat                  Ararat     Armenia  0.766780  \n",
       "101            Atyrau                  Atyraū  Kazakhstan  1.000000  \n",
       "121            Samsun                  Samsun      Turkey  0.815760  \n",
       "129         Belogorsk             Amur Oblast      Russia  0.752648  \n",
       "131          Pavlodar         Pavlodar Region  Kazakhstan  1.000000  \n",
       "137      Dzerzhinskiy           Moscow Oblast      Russia  1.000000  \n",
       "141         Kastamonu               Kastamonu      Turkey  0.731431  \n",
       "158       Dzyarzhynsk                   Minsk     Belarus  1.000000  \n",
       "169        Novouzensk          Saratov Oblast      Russia  0.670016  \n",
       "240           Valjevo          Central Serbia      Serbia  0.766187  \n",
       "244        Oktyabrsky  Bashkortostan Republic      Russia  1.000000  \n",
       "316          Fryazino           Moscow Oblast      Russia  0.650975  \n",
       "321           Krychaw                 Mogilev     Belarus  0.746190  \n",
       "322         Kochenëvo      Novosibirsk Oblast      Russia  0.775748  \n",
       "344            Tyumen           Tyumen Oblast      Russia  0.783279  "
      ]
     },
     "execution_count": 41,
     "metadata": {},
     "output_type": "execute_result"
    }
   ],
   "source": [
    "test_fin_lm[test_fin_lm['name'] != test_fin_lm['city_lm']]"
   ]
  },
  {
   "cell_type": "markdown",
   "id": "80f07e60-f996-4f8b-8125-733b993eec9b",
   "metadata": {},
   "source": [
    "Модель плохо отработала для похожих названия и для сокращений. Попробуем дообучить на нашем корпусе текста. Но т.к. labse модель тяжёлая, \n",
    "дообучать попробую distiluse-base-multilingual-cased-v1, а на тесте разница между моделями в 2 записи"
   ]
  },
  {
   "cell_type": "code",
   "execution_count": 43,
   "id": "112c1cc9-73b0-4c34-94ff-39742d3f3967",
   "metadata": {},
   "outputs": [],
   "source": [
    "for_fit = cities_alternatenames[['name_city','alternate_name']]"
   ]
  },
  {
   "cell_type": "code",
   "execution_count": 44,
   "id": "6955dcfe-437d-4025-a3ce-6106cbc3267a",
   "metadata": {},
   "outputs": [],
   "source": [
    "for_fit = for_fit[for_fit.name_city != for_fit.alternate_name].drop_duplicates()"
   ]
  },
  {
   "cell_type": "code",
   "execution_count": 45,
   "id": "ecc1e0bc-6020-4036-80aa-d0b1779e2f02",
   "metadata": {},
   "outputs": [],
   "source": [
    "for_fit['imput_example'] = for_fit[['name_city','alternate_name']].apply(lambda x: InputExample(texts = list(x)), axis = 1)"
   ]
  },
  {
   "cell_type": "code",
   "execution_count": 47,
   "id": "5c436465-9647-49f6-9569-0d2d03b58816",
   "metadata": {},
   "outputs": [],
   "source": [
    "train = for_fit.imput_example.to_list()"
   ]
  },
  {
   "cell_type": "code",
   "execution_count": 48,
   "id": "717c70cc-b6d7-4845-ac66-1a4d3b383410",
   "metadata": {},
   "outputs": [],
   "source": [
    "dbmcv1 = SentenceTransformer('sentence-transformers/distiluse-base-multilingual-cased-v1', device = device)"
   ]
  },
  {
   "cell_type": "code",
   "execution_count": 49,
   "id": "2555d3f0-0191-4287-80c9-b6e18d382170",
   "metadata": {},
   "outputs": [],
   "source": [
    "train_dataloader = DataLoader(train, shuffle = True, batch_size = 128)\n",
    "train_loss = losses.MultipleNegativesRankingLoss( model = dbmcv1)"
   ]
  },
  {
   "cell_type": "code",
   "execution_count": 50,
   "id": "2c129887-0228-4cad-bcd6-8e196afeef2a",
   "metadata": {},
   "outputs": [],
   "source": [
    "class LoggingMultipleNegativesRankingLoss(losses.MultipleNegativesRankingLoss):\n",
    "    def forward(self, sentance_features, dbmcv1):\n",
    "        loss_value = super().forward(sentance_features, dbmcv1)\n",
    "        logging.info(f'Loss:{loss_value.item()}')\n",
    "        return loss_value\n",
    "train_loss = LoggingMultipleNegativesRankingLoss(model = dbmcv1)\n",
    "logging.getLogger().setLevel(logging.DEBUG)"
   ]
  },
  {
   "cell_type": "code",
   "execution_count": 51,
   "id": "6542f20c-fb37-4f45-96f5-302196f0805d",
   "metadata": {},
   "outputs": [
    {
     "data": {
      "application/vnd.jupyter.widget-view+json": {
       "model_id": "79961402e24247d08ada4fbe5ad50995",
       "version_major": 2,
       "version_minor": 0
      },
      "text/plain": [
       "Epoch:   0%|          | 0/5 [00:00<?, ?it/s]"
      ]
     },
     "metadata": {},
     "output_type": "display_data"
    },
    {
     "data": {
      "application/vnd.jupyter.widget-view+json": {
       "model_id": "8797466ef2c740afa2f0f8f5429aade0",
       "version_major": 2,
       "version_minor": 0
      },
      "text/plain": [
       "Iteration:   0%|          | 0/137 [00:00<?, ?it/s]"
      ]
     },
     "metadata": {},
     "output_type": "display_data"
    },
    {
     "name": "stderr",
     "output_type": "stream",
     "text": [
      "INFO:root:Loss:3.3587677478790283\n",
      "INFO:root:Loss:3.123884677886963\n",
      "INFO:root:Loss:2.9713032245635986\n",
      "INFO:root:Loss:3.2057483196258545\n",
      "INFO:root:Loss:2.979665517807007\n",
      "INFO:root:Loss:2.9528937339782715\n",
      "INFO:root:Loss:2.8606672286987305\n",
      "INFO:root:Loss:3.1198947429656982\n",
      "INFO:root:Loss:3.106536388397217\n",
      "INFO:root:Loss:3.1402971744537354\n",
      "INFO:root:Loss:3.1045992374420166\n",
      "INFO:root:Loss:3.219496965408325\n",
      "INFO:root:Loss:3.201340675354004\n",
      "INFO:root:Loss:3.385812520980835\n",
      "INFO:root:Loss:3.281479835510254\n",
      "INFO:root:Loss:2.9452290534973145\n",
      "INFO:root:Loss:3.4556639194488525\n",
      "INFO:root:Loss:3.0074026584625244\n",
      "INFO:root:Loss:2.7682931423187256\n",
      "INFO:root:Loss:3.0583527088165283\n",
      "INFO:root:Loss:2.812424898147583\n",
      "INFO:root:Loss:3.3902008533477783\n",
      "INFO:root:Loss:3.247126579284668\n",
      "INFO:root:Loss:3.329486846923828\n",
      "INFO:root:Loss:3.166686534881592\n",
      "INFO:root:Loss:2.869112014770508\n",
      "INFO:root:Loss:2.8095643520355225\n",
      "INFO:root:Loss:3.059065580368042\n",
      "INFO:root:Loss:3.147698163986206\n",
      "INFO:root:Loss:3.3661229610443115\n",
      "INFO:root:Loss:3.1952054500579834\n",
      "INFO:root:Loss:3.5224661827087402\n",
      "INFO:root:Loss:2.8608884811401367\n",
      "INFO:root:Loss:3.1277520656585693\n",
      "INFO:root:Loss:3.003812789916992\n",
      "INFO:root:Loss:3.482703924179077\n",
      "INFO:root:Loss:3.181029796600342\n",
      "INFO:root:Loss:3.316107749938965\n",
      "INFO:root:Loss:3.0482301712036133\n",
      "INFO:root:Loss:3.1156208515167236\n",
      "INFO:root:Loss:3.4008800983428955\n",
      "INFO:root:Loss:2.8849964141845703\n",
      "INFO:root:Loss:2.98636794090271\n",
      "INFO:root:Loss:3.0756442546844482\n",
      "INFO:root:Loss:3.006862163543701\n",
      "INFO:root:Loss:3.306025505065918\n",
      "INFO:root:Loss:2.9148941040039062\n",
      "INFO:root:Loss:2.6066911220550537\n",
      "INFO:root:Loss:3.585463762283325\n",
      "INFO:root:Loss:3.1341686248779297\n",
      "INFO:root:Loss:3.1761300563812256\n",
      "INFO:root:Loss:2.7520878314971924\n",
      "INFO:root:Loss:3.355195999145508\n",
      "INFO:root:Loss:2.7409605979919434\n",
      "INFO:root:Loss:2.859966993331909\n",
      "INFO:root:Loss:2.532226085662842\n",
      "INFO:root:Loss:3.011000871658325\n",
      "INFO:root:Loss:3.5288100242614746\n",
      "INFO:root:Loss:2.8638081550598145\n",
      "INFO:root:Loss:2.8359413146972656\n",
      "INFO:root:Loss:2.9567062854766846\n",
      "INFO:root:Loss:2.124924659729004\n",
      "INFO:root:Loss:3.2640726566314697\n",
      "INFO:root:Loss:3.225041627883911\n",
      "INFO:root:Loss:3.199889659881592\n",
      "INFO:root:Loss:2.836033821105957\n",
      "INFO:root:Loss:2.6320605278015137\n",
      "INFO:root:Loss:2.8867452144622803\n",
      "INFO:root:Loss:3.0386078357696533\n",
      "INFO:root:Loss:3.1590793132781982\n",
      "INFO:root:Loss:2.8059935569763184\n",
      "INFO:root:Loss:3.418882131576538\n",
      "INFO:root:Loss:2.9597055912017822\n",
      "INFO:root:Loss:2.6198372840881348\n",
      "INFO:root:Loss:3.190372943878174\n",
      "INFO:root:Loss:3.3990955352783203\n",
      "INFO:root:Loss:2.845454216003418\n",
      "INFO:root:Loss:2.510640859603882\n",
      "INFO:root:Loss:2.457186698913574\n",
      "INFO:root:Loss:3.040222406387329\n",
      "INFO:root:Loss:2.4776952266693115\n",
      "INFO:root:Loss:2.842252492904663\n",
      "INFO:root:Loss:2.845458507537842\n",
      "INFO:root:Loss:3.2624752521514893\n",
      "INFO:root:Loss:3.1217801570892334\n",
      "INFO:root:Loss:3.0394818782806396\n",
      "INFO:root:Loss:3.233241319656372\n",
      "INFO:root:Loss:2.8773410320281982\n",
      "INFO:root:Loss:3.1087498664855957\n",
      "INFO:root:Loss:2.9219603538513184\n",
      "INFO:root:Loss:2.7932989597320557\n",
      "INFO:root:Loss:2.887479782104492\n",
      "INFO:root:Loss:2.4727001190185547\n",
      "INFO:root:Loss:2.734978199005127\n",
      "INFO:root:Loss:3.235445499420166\n",
      "INFO:root:Loss:2.7869315147399902\n",
      "INFO:root:Loss:2.5748021602630615\n",
      "INFO:root:Loss:2.7342796325683594\n",
      "INFO:root:Loss:3.481017589569092\n",
      "INFO:root:Loss:2.9184865951538086\n",
      "INFO:root:Loss:2.8279590606689453\n",
      "INFO:root:Loss:3.003171682357788\n",
      "INFO:root:Loss:2.8695015907287598\n",
      "INFO:root:Loss:2.9238970279693604\n",
      "INFO:root:Loss:2.885117769241333\n",
      "INFO:root:Loss:2.8456063270568848\n",
      "INFO:root:Loss:3.00308895111084\n",
      "INFO:root:Loss:2.785309076309204\n",
      "INFO:root:Loss:3.070528745651245\n",
      "INFO:root:Loss:3.2795121669769287\n",
      "INFO:root:Loss:2.8623640537261963\n",
      "INFO:root:Loss:2.6067922115325928\n",
      "INFO:root:Loss:2.5341572761535645\n",
      "INFO:root:Loss:2.7932851314544678\n",
      "INFO:root:Loss:3.1096253395080566\n",
      "INFO:root:Loss:2.5330917835235596\n",
      "INFO:root:Loss:2.786823272705078\n",
      "INFO:root:Loss:2.9990837574005127\n",
      "INFO:root:Loss:2.8654401302337646\n",
      "INFO:root:Loss:2.6554956436157227\n",
      "INFO:root:Loss:2.5490875244140625\n",
      "INFO:root:Loss:2.9058167934417725\n",
      "INFO:root:Loss:2.5023279190063477\n",
      "INFO:root:Loss:3.268740653991699\n",
      "INFO:root:Loss:3.302952527999878\n",
      "INFO:root:Loss:3.038034200668335\n",
      "INFO:root:Loss:2.613340139389038\n",
      "INFO:root:Loss:3.042795181274414\n",
      "INFO:root:Loss:2.6909303665161133\n",
      "INFO:root:Loss:2.37819242477417\n",
      "INFO:root:Loss:2.743715763092041\n",
      "INFO:root:Loss:2.7530245780944824\n",
      "INFO:root:Loss:2.5764567852020264\n",
      "INFO:root:Loss:2.6507484912872314\n",
      "INFO:root:Loss:2.629323720932007\n",
      "INFO:root:Loss:2.864419937133789\n",
      "INFO:root:Loss:2.86392879486084\n"
     ]
    },
    {
     "data": {
      "application/vnd.jupyter.widget-view+json": {
       "model_id": "9598d1ad7eb44ff7ae49f443cf05f2fb",
       "version_major": 2,
       "version_minor": 0
      },
      "text/plain": [
       "Iteration:   0%|          | 0/137 [00:00<?, ?it/s]"
      ]
     },
     "metadata": {},
     "output_type": "display_data"
    },
    {
     "name": "stderr",
     "output_type": "stream",
     "text": [
      "INFO:root:Loss:2.7662734985351562\n",
      "INFO:root:Loss:2.945146322250366\n",
      "INFO:root:Loss:2.720707893371582\n",
      "INFO:root:Loss:2.7673630714416504\n",
      "INFO:root:Loss:3.319511890411377\n",
      "INFO:root:Loss:2.7543892860412598\n",
      "INFO:root:Loss:3.1382980346679688\n",
      "INFO:root:Loss:3.1200268268585205\n",
      "INFO:root:Loss:2.3953335285186768\n",
      "INFO:root:Loss:2.6049270629882812\n",
      "INFO:root:Loss:3.029414176940918\n",
      "INFO:root:Loss:2.7048823833465576\n",
      "INFO:root:Loss:2.8806142807006836\n",
      "INFO:root:Loss:2.886289596557617\n",
      "INFO:root:Loss:2.4131455421447754\n",
      "INFO:root:Loss:2.9301252365112305\n",
      "INFO:root:Loss:2.9289398193359375\n",
      "INFO:root:Loss:3.0030977725982666\n",
      "INFO:root:Loss:2.8303956985473633\n",
      "INFO:root:Loss:2.3962485790252686\n",
      "INFO:root:Loss:2.887176513671875\n",
      "INFO:root:Loss:2.526881217956543\n",
      "INFO:root:Loss:2.8627355098724365\n",
      "INFO:root:Loss:2.6724934577941895\n",
      "INFO:root:Loss:2.447204351425171\n",
      "INFO:root:Loss:3.1942691802978516\n",
      "INFO:root:Loss:2.760777711868286\n",
      "INFO:root:Loss:2.3147428035736084\n",
      "INFO:root:Loss:2.885915517807007\n",
      "INFO:root:Loss:2.7632153034210205\n",
      "INFO:root:Loss:2.951486110687256\n",
      "INFO:root:Loss:3.016014337539673\n",
      "INFO:root:Loss:2.917755603790283\n",
      "INFO:root:Loss:2.8981077671051025\n",
      "INFO:root:Loss:2.8732287883758545\n",
      "INFO:root:Loss:2.6372129917144775\n",
      "INFO:root:Loss:2.3760359287261963\n",
      "INFO:root:Loss:2.4576432704925537\n",
      "INFO:root:Loss:2.664865016937256\n",
      "INFO:root:Loss:2.14058518409729\n",
      "INFO:root:Loss:2.5892693996429443\n",
      "INFO:root:Loss:3.0866894721984863\n",
      "INFO:root:Loss:2.69189190864563\n",
      "INFO:root:Loss:2.6377198696136475\n",
      "INFO:root:Loss:2.5668463706970215\n",
      "INFO:root:Loss:2.6077592372894287\n",
      "INFO:root:Loss:2.7011795043945312\n",
      "INFO:root:Loss:3.0074024200439453\n",
      "INFO:root:Loss:2.6237564086914062\n",
      "INFO:root:Loss:2.9777703285217285\n",
      "INFO:root:Loss:2.711625576019287\n",
      "INFO:root:Loss:2.840420961380005\n",
      "INFO:root:Loss:2.4472599029541016\n",
      "INFO:root:Loss:3.027343511581421\n",
      "INFO:root:Loss:2.8879451751708984\n",
      "INFO:root:Loss:2.6988112926483154\n",
      "INFO:root:Loss:2.386195659637451\n",
      "INFO:root:Loss:2.671830177307129\n",
      "INFO:root:Loss:2.6517062187194824\n",
      "INFO:root:Loss:2.776902914047241\n",
      "INFO:root:Loss:2.4398326873779297\n",
      "INFO:root:Loss:2.518117666244507\n",
      "INFO:root:Loss:2.7808468341827393\n",
      "INFO:root:Loss:2.70340895652771\n",
      "INFO:root:Loss:2.489006996154785\n",
      "INFO:root:Loss:2.6798646450042725\n",
      "INFO:root:Loss:2.286296844482422\n",
      "INFO:root:Loss:2.7194037437438965\n",
      "INFO:root:Loss:2.4256930351257324\n",
      "INFO:root:Loss:2.476032257080078\n",
      "INFO:root:Loss:2.7717740535736084\n",
      "INFO:root:Loss:2.6354665756225586\n",
      "INFO:root:Loss:2.4898619651794434\n",
      "INFO:root:Loss:2.3593716621398926\n",
      "INFO:root:Loss:2.21950626373291\n",
      "INFO:root:Loss:2.530566692352295\n",
      "INFO:root:Loss:2.7119357585906982\n",
      "INFO:root:Loss:2.6181108951568604\n",
      "INFO:root:Loss:2.876115560531616\n",
      "INFO:root:Loss:2.3629512786865234\n",
      "INFO:root:Loss:2.618335485458374\n",
      "INFO:root:Loss:2.227905511856079\n",
      "INFO:root:Loss:2.2352726459503174\n",
      "INFO:root:Loss:2.510899066925049\n",
      "INFO:root:Loss:3.0753846168518066\n",
      "INFO:root:Loss:2.220872402191162\n",
      "INFO:root:Loss:2.449183702468872\n",
      "INFO:root:Loss:2.3948919773101807\n",
      "INFO:root:Loss:2.3070836067199707\n",
      "INFO:root:Loss:2.564495801925659\n",
      "INFO:root:Loss:2.62322735786438\n",
      "INFO:root:Loss:2.0841145515441895\n",
      "INFO:root:Loss:2.093214511871338\n",
      "INFO:root:Loss:2.6213150024414062\n",
      "INFO:root:Loss:2.5416488647460938\n",
      "INFO:root:Loss:2.39666748046875\n",
      "INFO:root:Loss:2.268195152282715\n",
      "INFO:root:Loss:2.109380006790161\n",
      "INFO:root:Loss:2.718945264816284\n",
      "INFO:root:Loss:2.534916639328003\n",
      "INFO:root:Loss:2.585714340209961\n",
      "INFO:root:Loss:2.53560471534729\n",
      "INFO:root:Loss:2.5206425189971924\n",
      "INFO:root:Loss:2.953779458999634\n",
      "INFO:root:Loss:2.3476855754852295\n",
      "INFO:root:Loss:2.5822105407714844\n",
      "INFO:root:Loss:2.445265531539917\n",
      "INFO:root:Loss:2.4064903259277344\n",
      "INFO:root:Loss:2.4599852561950684\n",
      "INFO:root:Loss:2.113784074783325\n",
      "INFO:root:Loss:2.3319573402404785\n",
      "INFO:root:Loss:2.4568276405334473\n",
      "INFO:root:Loss:2.3468687534332275\n",
      "INFO:root:Loss:2.577115535736084\n",
      "INFO:root:Loss:2.839477062225342\n",
      "INFO:root:Loss:2.458590030670166\n",
      "INFO:root:Loss:2.286839008331299\n",
      "INFO:root:Loss:2.7435247898101807\n",
      "INFO:root:Loss:2.305950880050659\n",
      "INFO:root:Loss:2.4750826358795166\n",
      "INFO:root:Loss:2.5918936729431152\n",
      "INFO:root:Loss:2.5275514125823975\n",
      "INFO:root:Loss:2.574376106262207\n",
      "INFO:root:Loss:2.501394510269165\n",
      "INFO:root:Loss:2.3835606575012207\n",
      "INFO:root:Loss:2.2972171306610107\n",
      "INFO:root:Loss:2.4197864532470703\n",
      "INFO:root:Loss:2.6237258911132812\n",
      "INFO:root:Loss:2.291902542114258\n",
      "INFO:root:Loss:2.244408369064331\n",
      "INFO:root:Loss:2.2913002967834473\n",
      "INFO:root:Loss:2.3481032848358154\n",
      "INFO:root:Loss:2.50779390335083\n",
      "INFO:root:Loss:2.4809727668762207\n",
      "INFO:root:Loss:2.3909361362457275\n",
      "INFO:root:Loss:2.4735260009765625\n",
      "INFO:root:Loss:2.404021739959717\n"
     ]
    },
    {
     "data": {
      "application/vnd.jupyter.widget-view+json": {
       "model_id": "ec809fbaf2c94c358ebf2e4a80c412c8",
       "version_major": 2,
       "version_minor": 0
      },
      "text/plain": [
       "Iteration:   0%|          | 0/137 [00:00<?, ?it/s]"
      ]
     },
     "metadata": {},
     "output_type": "display_data"
    },
    {
     "name": "stderr",
     "output_type": "stream",
     "text": [
      "INFO:root:Loss:2.6522583961486816\n",
      "INFO:root:Loss:2.514833927154541\n",
      "INFO:root:Loss:2.377100706100464\n",
      "INFO:root:Loss:2.147505044937134\n",
      "INFO:root:Loss:2.3313369750976562\n",
      "INFO:root:Loss:2.5079643726348877\n",
      "INFO:root:Loss:2.1418275833129883\n",
      "INFO:root:Loss:2.2970197200775146\n",
      "INFO:root:Loss:2.3193471431732178\n",
      "INFO:root:Loss:2.2799324989318848\n",
      "INFO:root:Loss:2.4530839920043945\n",
      "INFO:root:Loss:2.3189330101013184\n",
      "INFO:root:Loss:2.1468541622161865\n",
      "INFO:root:Loss:2.5629312992095947\n",
      "INFO:root:Loss:2.2392489910125732\n",
      "INFO:root:Loss:2.3485727310180664\n",
      "INFO:root:Loss:2.5401864051818848\n",
      "INFO:root:Loss:2.1327786445617676\n",
      "INFO:root:Loss:2.433690309524536\n",
      "INFO:root:Loss:2.0632143020629883\n",
      "INFO:root:Loss:2.307697296142578\n",
      "INFO:root:Loss:2.045684814453125\n",
      "INFO:root:Loss:2.30684232711792\n",
      "INFO:root:Loss:2.1761245727539062\n",
      "INFO:root:Loss:2.550102710723877\n",
      "INFO:root:Loss:2.4701380729675293\n",
      "INFO:root:Loss:2.006337881088257\n",
      "INFO:root:Loss:2.301922559738159\n",
      "INFO:root:Loss:2.452070474624634\n",
      "INFO:root:Loss:2.1020920276641846\n",
      "INFO:root:Loss:2.245372772216797\n",
      "INFO:root:Loss:2.1305861473083496\n",
      "INFO:root:Loss:2.3724613189697266\n",
      "INFO:root:Loss:2.2556073665618896\n",
      "INFO:root:Loss:2.3795526027679443\n",
      "INFO:root:Loss:2.5385074615478516\n",
      "INFO:root:Loss:2.2845592498779297\n",
      "INFO:root:Loss:2.3830726146698\n",
      "INFO:root:Loss:2.576856851577759\n",
      "INFO:root:Loss:2.5319101810455322\n",
      "INFO:root:Loss:2.2547483444213867\n",
      "INFO:root:Loss:2.3507399559020996\n",
      "INFO:root:Loss:2.355138063430786\n",
      "INFO:root:Loss:2.261394500732422\n",
      "INFO:root:Loss:2.3147969245910645\n",
      "INFO:root:Loss:2.312164068222046\n",
      "INFO:root:Loss:2.584379196166992\n",
      "INFO:root:Loss:2.1866567134857178\n",
      "INFO:root:Loss:2.0777885913848877\n",
      "INFO:root:Loss:2.683281421661377\n",
      "INFO:root:Loss:2.231107711791992\n",
      "INFO:root:Loss:2.087352991104126\n",
      "INFO:root:Loss:2.1628246307373047\n",
      "INFO:root:Loss:2.4341554641723633\n",
      "INFO:root:Loss:2.3002820014953613\n",
      "INFO:root:Loss:2.4578917026519775\n",
      "INFO:root:Loss:2.171621322631836\n",
      "INFO:root:Loss:2.260899543762207\n",
      "INFO:root:Loss:2.1154980659484863\n",
      "INFO:root:Loss:2.644806146621704\n",
      "INFO:root:Loss:1.9431312084197998\n",
      "INFO:root:Loss:2.203123092651367\n",
      "INFO:root:Loss:2.206416130065918\n",
      "INFO:root:Loss:2.0089869499206543\n",
      "INFO:root:Loss:2.2873854637145996\n",
      "INFO:root:Loss:2.216465473175049\n",
      "INFO:root:Loss:2.2208757400512695\n",
      "INFO:root:Loss:2.4506638050079346\n",
      "INFO:root:Loss:2.213437080383301\n",
      "INFO:root:Loss:2.3134143352508545\n",
      "INFO:root:Loss:2.4659695625305176\n",
      "INFO:root:Loss:1.97829008102417\n",
      "INFO:root:Loss:1.7950650453567505\n",
      "INFO:root:Loss:2.3492493629455566\n",
      "INFO:root:Loss:2.4474148750305176\n",
      "INFO:root:Loss:2.306302309036255\n",
      "INFO:root:Loss:2.2458336353302\n",
      "INFO:root:Loss:2.256755828857422\n",
      "INFO:root:Loss:1.99741792678833\n",
      "INFO:root:Loss:2.264641761779785\n",
      "INFO:root:Loss:2.0284695625305176\n",
      "INFO:root:Loss:2.031161069869995\n",
      "INFO:root:Loss:2.100926160812378\n",
      "INFO:root:Loss:2.379091739654541\n",
      "INFO:root:Loss:2.261373996734619\n",
      "INFO:root:Loss:2.4871270656585693\n",
      "INFO:root:Loss:2.003335952758789\n",
      "INFO:root:Loss:2.077744245529175\n",
      "INFO:root:Loss:2.0877110958099365\n",
      "INFO:root:Loss:2.020958185195923\n",
      "INFO:root:Loss:2.286787748336792\n",
      "INFO:root:Loss:2.6411867141723633\n",
      "INFO:root:Loss:2.414625644683838\n",
      "INFO:root:Loss:2.1801772117614746\n",
      "INFO:root:Loss:1.9806060791015625\n",
      "INFO:root:Loss:2.0363876819610596\n",
      "INFO:root:Loss:2.102525234222412\n",
      "INFO:root:Loss:2.332237958908081\n",
      "INFO:root:Loss:1.9346016645431519\n",
      "INFO:root:Loss:2.020683526992798\n",
      "INFO:root:Loss:2.5569682121276855\n",
      "INFO:root:Loss:2.274012327194214\n",
      "INFO:root:Loss:2.065080404281616\n",
      "INFO:root:Loss:2.3218069076538086\n",
      "INFO:root:Loss:2.1144015789031982\n",
      "INFO:root:Loss:2.3607466220855713\n",
      "INFO:root:Loss:2.11726975440979\n",
      "INFO:root:Loss:1.927348017692566\n",
      "INFO:root:Loss:2.243391275405884\n",
      "INFO:root:Loss:2.527437210083008\n",
      "INFO:root:Loss:2.349980115890503\n",
      "INFO:root:Loss:2.3319764137268066\n",
      "INFO:root:Loss:2.072096586227417\n",
      "INFO:root:Loss:1.7893526554107666\n",
      "INFO:root:Loss:2.0527241230010986\n",
      "INFO:root:Loss:2.0890402793884277\n",
      "INFO:root:Loss:2.369884967803955\n",
      "INFO:root:Loss:2.2531068325042725\n",
      "INFO:root:Loss:2.61090087890625\n",
      "INFO:root:Loss:2.059659481048584\n",
      "INFO:root:Loss:1.7511637210845947\n",
      "INFO:root:Loss:2.559537887573242\n",
      "INFO:root:Loss:2.2798383235931396\n",
      "INFO:root:Loss:2.014763593673706\n",
      "INFO:root:Loss:2.105365037918091\n",
      "INFO:root:Loss:1.9498411417007446\n",
      "INFO:root:Loss:2.1795156002044678\n",
      "INFO:root:Loss:2.173990488052368\n",
      "INFO:root:Loss:2.1698787212371826\n",
      "INFO:root:Loss:2.1408398151397705\n",
      "INFO:root:Loss:2.4310190677642822\n",
      "INFO:root:Loss:2.3058149814605713\n",
      "INFO:root:Loss:1.868906855583191\n",
      "INFO:root:Loss:2.0915255546569824\n",
      "INFO:root:Loss:2.503838300704956\n",
      "INFO:root:Loss:2.0456349849700928\n",
      "INFO:root:Loss:1.8276187181472778\n"
     ]
    },
    {
     "data": {
      "application/vnd.jupyter.widget-view+json": {
       "model_id": "d5a644a68a904e25bf38bfd3f755719b",
       "version_major": 2,
       "version_minor": 0
      },
      "text/plain": [
       "Iteration:   0%|          | 0/137 [00:00<?, ?it/s]"
      ]
     },
     "metadata": {},
     "output_type": "display_data"
    },
    {
     "name": "stderr",
     "output_type": "stream",
     "text": [
      "INFO:root:Loss:1.7866289615631104\n",
      "INFO:root:Loss:2.30769419670105\n",
      "INFO:root:Loss:2.215010643005371\n",
      "INFO:root:Loss:1.896520972251892\n",
      "INFO:root:Loss:2.095465660095215\n",
      "INFO:root:Loss:1.9995390176773071\n",
      "INFO:root:Loss:2.1231892108917236\n",
      "INFO:root:Loss:2.232724905014038\n",
      "INFO:root:Loss:2.0207631587982178\n",
      "INFO:root:Loss:2.1437489986419678\n",
      "INFO:root:Loss:2.056041955947876\n",
      "INFO:root:Loss:2.1404452323913574\n",
      "INFO:root:Loss:1.672279715538025\n",
      "INFO:root:Loss:1.7776718139648438\n",
      "INFO:root:Loss:2.349381923675537\n",
      "INFO:root:Loss:1.9971895217895508\n",
      "INFO:root:Loss:2.1331818103790283\n",
      "INFO:root:Loss:1.592689037322998\n",
      "INFO:root:Loss:2.369029998779297\n",
      "INFO:root:Loss:2.2947702407836914\n",
      "INFO:root:Loss:1.9243981838226318\n",
      "INFO:root:Loss:2.5452795028686523\n",
      "INFO:root:Loss:1.8626474142074585\n",
      "INFO:root:Loss:2.2063419818878174\n",
      "INFO:root:Loss:2.0733466148376465\n",
      "INFO:root:Loss:1.8657270669937134\n",
      "INFO:root:Loss:2.3200342655181885\n",
      "INFO:root:Loss:1.7744215726852417\n",
      "INFO:root:Loss:1.896880865097046\n",
      "INFO:root:Loss:1.865357756614685\n",
      "INFO:root:Loss:2.0745673179626465\n",
      "INFO:root:Loss:2.3915815353393555\n",
      "INFO:root:Loss:2.1122639179229736\n",
      "INFO:root:Loss:2.2784218788146973\n",
      "INFO:root:Loss:2.0334486961364746\n",
      "INFO:root:Loss:2.1607778072357178\n",
      "INFO:root:Loss:1.9874727725982666\n",
      "INFO:root:Loss:2.0709590911865234\n",
      "INFO:root:Loss:2.0792529582977295\n",
      "INFO:root:Loss:2.075744152069092\n",
      "INFO:root:Loss:1.9161694049835205\n",
      "INFO:root:Loss:2.2213382720947266\n",
      "INFO:root:Loss:2.249274969100952\n",
      "INFO:root:Loss:2.3995604515075684\n",
      "INFO:root:Loss:2.097567319869995\n",
      "INFO:root:Loss:2.2473886013031006\n",
      "INFO:root:Loss:2.20145583152771\n",
      "INFO:root:Loss:2.2947421073913574\n",
      "INFO:root:Loss:2.2614850997924805\n",
      "INFO:root:Loss:2.345993995666504\n",
      "INFO:root:Loss:1.6892387866973877\n",
      "INFO:root:Loss:2.0591635704040527\n",
      "INFO:root:Loss:1.931633472442627\n",
      "INFO:root:Loss:2.0794050693511963\n",
      "INFO:root:Loss:2.05663800239563\n",
      "INFO:root:Loss:2.0290114879608154\n",
      "INFO:root:Loss:2.0427658557891846\n",
      "INFO:root:Loss:1.6840384006500244\n",
      "INFO:root:Loss:2.2924435138702393\n",
      "INFO:root:Loss:2.197235107421875\n",
      "INFO:root:Loss:1.832115650177002\n",
      "INFO:root:Loss:1.8958700895309448\n",
      "INFO:root:Loss:1.809861183166504\n",
      "INFO:root:Loss:2.303830623626709\n",
      "INFO:root:Loss:2.0578901767730713\n",
      "INFO:root:Loss:1.7755953073501587\n",
      "INFO:root:Loss:2.3479437828063965\n",
      "INFO:root:Loss:2.0626139640808105\n",
      "INFO:root:Loss:1.7709128856658936\n",
      "INFO:root:Loss:2.4507482051849365\n",
      "INFO:root:Loss:1.6912071704864502\n",
      "INFO:root:Loss:1.9530739784240723\n",
      "INFO:root:Loss:2.2350504398345947\n",
      "INFO:root:Loss:2.173659324645996\n",
      "INFO:root:Loss:2.1486635208129883\n",
      "INFO:root:Loss:2.1801135540008545\n",
      "INFO:root:Loss:2.2354581356048584\n",
      "INFO:root:Loss:1.9249913692474365\n",
      "INFO:root:Loss:2.1872103214263916\n",
      "INFO:root:Loss:2.0192172527313232\n",
      "INFO:root:Loss:2.0368831157684326\n",
      "INFO:root:Loss:1.8162603378295898\n",
      "INFO:root:Loss:2.242217540740967\n",
      "INFO:root:Loss:2.079282522201538\n",
      "INFO:root:Loss:2.239373207092285\n",
      "INFO:root:Loss:1.8601140975952148\n",
      "INFO:root:Loss:2.094705581665039\n",
      "INFO:root:Loss:2.045989990234375\n",
      "INFO:root:Loss:1.7626559734344482\n",
      "INFO:root:Loss:2.1520278453826904\n",
      "INFO:root:Loss:1.686126708984375\n",
      "INFO:root:Loss:1.9456522464752197\n",
      "INFO:root:Loss:1.7155461311340332\n",
      "INFO:root:Loss:1.9435336589813232\n",
      "INFO:root:Loss:1.9817888736724854\n",
      "INFO:root:Loss:1.761786699295044\n",
      "INFO:root:Loss:1.9383379220962524\n",
      "INFO:root:Loss:2.058744192123413\n",
      "INFO:root:Loss:1.772242784500122\n",
      "INFO:root:Loss:2.2625787258148193\n",
      "INFO:root:Loss:1.8603428602218628\n",
      "INFO:root:Loss:1.8648040294647217\n",
      "INFO:root:Loss:1.921462059020996\n",
      "INFO:root:Loss:2.1212804317474365\n",
      "INFO:root:Loss:1.9021135568618774\n",
      "INFO:root:Loss:2.2177889347076416\n",
      "INFO:root:Loss:1.870926856994629\n",
      "INFO:root:Loss:1.9268242120742798\n",
      "INFO:root:Loss:1.8091464042663574\n",
      "INFO:root:Loss:2.3659911155700684\n",
      "INFO:root:Loss:2.0791635513305664\n",
      "INFO:root:Loss:1.948867678642273\n",
      "INFO:root:Loss:1.8671469688415527\n",
      "INFO:root:Loss:1.9643534421920776\n",
      "INFO:root:Loss:1.8071056604385376\n",
      "INFO:root:Loss:2.117532730102539\n",
      "INFO:root:Loss:1.6780519485473633\n",
      "INFO:root:Loss:1.938754916191101\n",
      "INFO:root:Loss:2.0967156887054443\n",
      "INFO:root:Loss:1.893527626991272\n",
      "INFO:root:Loss:2.010725975036621\n",
      "INFO:root:Loss:2.0853590965270996\n",
      "INFO:root:Loss:2.3814194202423096\n",
      "INFO:root:Loss:1.587579607963562\n",
      "INFO:root:Loss:1.7962312698364258\n",
      "INFO:root:Loss:2.0019819736480713\n",
      "INFO:root:Loss:2.1673662662506104\n",
      "INFO:root:Loss:1.709747552871704\n",
      "INFO:root:Loss:2.0228116512298584\n",
      "INFO:root:Loss:1.6260541677474976\n",
      "INFO:root:Loss:2.03995680809021\n",
      "INFO:root:Loss:1.8169389963150024\n",
      "INFO:root:Loss:2.2011022567749023\n",
      "INFO:root:Loss:1.8832547664642334\n",
      "INFO:root:Loss:1.893593668937683\n",
      "INFO:root:Loss:1.7092281579971313\n",
      "INFO:root:Loss:2.1316068172454834\n"
     ]
    },
    {
     "data": {
      "application/vnd.jupyter.widget-view+json": {
       "model_id": "8e9b16ca0bbe4afeb765667d98678328",
       "version_major": 2,
       "version_minor": 0
      },
      "text/plain": [
       "Iteration:   0%|          | 0/137 [00:00<?, ?it/s]"
      ]
     },
     "metadata": {},
     "output_type": "display_data"
    },
    {
     "name": "stderr",
     "output_type": "stream",
     "text": [
      "INFO:root:Loss:1.6288796663284302\n",
      "INFO:root:Loss:1.7715264558792114\n",
      "INFO:root:Loss:1.9320471286773682\n",
      "INFO:root:Loss:2.22460675239563\n",
      "INFO:root:Loss:1.658329963684082\n",
      "INFO:root:Loss:1.904997706413269\n",
      "INFO:root:Loss:1.831337571144104\n",
      "INFO:root:Loss:2.0221238136291504\n",
      "INFO:root:Loss:1.7270933389663696\n",
      "INFO:root:Loss:1.908408522605896\n",
      "INFO:root:Loss:1.968637228012085\n",
      "INFO:root:Loss:1.971882700920105\n",
      "INFO:root:Loss:1.789986491203308\n",
      "INFO:root:Loss:1.892063021659851\n",
      "INFO:root:Loss:1.7969310283660889\n",
      "INFO:root:Loss:1.4392249584197998\n",
      "INFO:root:Loss:2.2388014793395996\n",
      "INFO:root:Loss:2.3018529415130615\n",
      "INFO:root:Loss:2.0140092372894287\n",
      "INFO:root:Loss:1.9589383602142334\n",
      "INFO:root:Loss:1.8004043102264404\n",
      "INFO:root:Loss:1.9262186288833618\n",
      "INFO:root:Loss:1.9418553113937378\n",
      "INFO:root:Loss:2.212174654006958\n",
      "INFO:root:Loss:1.956243872642517\n",
      "INFO:root:Loss:1.8347277641296387\n",
      "INFO:root:Loss:2.0628695487976074\n",
      "INFO:root:Loss:1.3823537826538086\n",
      "INFO:root:Loss:1.683578610420227\n",
      "INFO:root:Loss:2.0972530841827393\n",
      "INFO:root:Loss:1.5230826139450073\n",
      "INFO:root:Loss:2.246676206588745\n",
      "INFO:root:Loss:1.5978636741638184\n",
      "INFO:root:Loss:2.1375436782836914\n",
      "INFO:root:Loss:1.8955940008163452\n",
      "INFO:root:Loss:1.8626246452331543\n",
      "INFO:root:Loss:2.005510091781616\n",
      "INFO:root:Loss:1.6310524940490723\n",
      "INFO:root:Loss:1.7087581157684326\n",
      "INFO:root:Loss:1.7825443744659424\n",
      "INFO:root:Loss:2.126448392868042\n",
      "INFO:root:Loss:1.768643856048584\n",
      "INFO:root:Loss:1.7768715620040894\n",
      "INFO:root:Loss:1.9254807233810425\n",
      "INFO:root:Loss:1.8084912300109863\n",
      "INFO:root:Loss:2.08628511428833\n",
      "INFO:root:Loss:1.9382420778274536\n",
      "INFO:root:Loss:1.8395243883132935\n",
      "INFO:root:Loss:1.6325454711914062\n",
      "INFO:root:Loss:1.9078177213668823\n",
      "INFO:root:Loss:2.0679807662963867\n",
      "INFO:root:Loss:1.8559433221817017\n",
      "INFO:root:Loss:2.0749120712280273\n",
      "INFO:root:Loss:1.5348894596099854\n",
      "INFO:root:Loss:1.8954139947891235\n",
      "INFO:root:Loss:1.666789174079895\n",
      "INFO:root:Loss:1.8654189109802246\n",
      "INFO:root:Loss:1.7796297073364258\n",
      "INFO:root:Loss:1.9905937910079956\n",
      "INFO:root:Loss:1.836488962173462\n",
      "INFO:root:Loss:1.9200445413589478\n",
      "INFO:root:Loss:1.8095600605010986\n",
      "INFO:root:Loss:1.6270785331726074\n",
      "INFO:root:Loss:1.4572508335113525\n",
      "INFO:root:Loss:1.9957104921340942\n",
      "INFO:root:Loss:1.801462173461914\n",
      "INFO:root:Loss:1.911623239517212\n",
      "INFO:root:Loss:1.813950538635254\n",
      "INFO:root:Loss:1.7341747283935547\n",
      "INFO:root:Loss:1.6690058708190918\n",
      "INFO:root:Loss:1.5452507734298706\n",
      "INFO:root:Loss:1.933660864830017\n",
      "INFO:root:Loss:2.4128997325897217\n",
      "INFO:root:Loss:2.1512303352355957\n",
      "INFO:root:Loss:1.6606749296188354\n",
      "INFO:root:Loss:2.5268714427948\n",
      "INFO:root:Loss:1.878886342048645\n",
      "INFO:root:Loss:2.343759536743164\n",
      "INFO:root:Loss:1.755214810371399\n",
      "INFO:root:Loss:1.980107307434082\n",
      "INFO:root:Loss:2.0724499225616455\n",
      "INFO:root:Loss:1.8584080934524536\n",
      "INFO:root:Loss:1.7278954982757568\n",
      "INFO:root:Loss:1.8815104961395264\n",
      "INFO:root:Loss:2.011482000350952\n",
      "INFO:root:Loss:1.930027961730957\n",
      "INFO:root:Loss:2.161499261856079\n",
      "INFO:root:Loss:1.446448802947998\n",
      "INFO:root:Loss:1.7975423336029053\n",
      "INFO:root:Loss:1.684182047843933\n",
      "INFO:root:Loss:2.145620107650757\n",
      "INFO:root:Loss:2.209836721420288\n",
      "INFO:root:Loss:1.8896245956420898\n",
      "INFO:root:Loss:2.1443030834198\n",
      "INFO:root:Loss:1.7505210638046265\n",
      "INFO:root:Loss:1.875686526298523\n",
      "INFO:root:Loss:1.7777866125106812\n",
      "INFO:root:Loss:1.9178203344345093\n",
      "INFO:root:Loss:2.22263240814209\n",
      "INFO:root:Loss:1.8847739696502686\n",
      "INFO:root:Loss:1.9001350402832031\n",
      "INFO:root:Loss:1.6565676927566528\n",
      "INFO:root:Loss:1.6501408815383911\n",
      "INFO:root:Loss:1.8581275939941406\n",
      "INFO:root:Loss:2.083646774291992\n",
      "INFO:root:Loss:1.962145209312439\n",
      "INFO:root:Loss:1.391971468925476\n",
      "INFO:root:Loss:2.074146270751953\n",
      "INFO:root:Loss:1.9954155683517456\n",
      "INFO:root:Loss:1.606512427330017\n",
      "INFO:root:Loss:2.1278860569000244\n",
      "INFO:root:Loss:1.953837513923645\n",
      "INFO:root:Loss:1.8377842903137207\n",
      "INFO:root:Loss:1.761313796043396\n",
      "INFO:root:Loss:1.6999677419662476\n",
      "INFO:root:Loss:1.7878389358520508\n",
      "INFO:root:Loss:1.5879942178726196\n",
      "INFO:root:Loss:2.088956356048584\n",
      "INFO:root:Loss:1.8939236402511597\n",
      "INFO:root:Loss:1.7301427125930786\n",
      "INFO:root:Loss:2.0003669261932373\n",
      "INFO:root:Loss:1.6649469137191772\n",
      "INFO:root:Loss:1.827930212020874\n",
      "INFO:root:Loss:2.0259482860565186\n",
      "INFO:root:Loss:1.8098777532577515\n",
      "INFO:root:Loss:1.3168964385986328\n",
      "INFO:root:Loss:2.119070529937744\n",
      "INFO:root:Loss:1.979576826095581\n",
      "INFO:root:Loss:1.7166268825531006\n",
      "INFO:root:Loss:1.868504285812378\n",
      "INFO:root:Loss:2.262693166732788\n",
      "INFO:root:Loss:2.3749852180480957\n",
      "INFO:root:Loss:1.859059453010559\n",
      "INFO:root:Loss:1.7130732536315918\n",
      "INFO:root:Loss:2.1028764247894287\n",
      "INFO:root:Loss:1.6896631717681885\n",
      "INFO:root:Loss:1.3066483736038208\n"
     ]
    },
    {
     "name": "stdout",
     "output_type": "stream",
     "text": [
      "CPU times: total: 4h 50min 42s\n",
      "Wall time: 50min 20s\n"
     ]
    }
   ],
   "source": [
    "#%%time\n",
    "#dbmcv1.fit(train_objectives = [(train_dataloader, train_loss)], epochs = 5)"
   ]
  },
  {
   "cell_type": "markdown",
   "id": "8f3b693c-7d91-45e4-97be-3064a830c40f",
   "metadata": {},
   "source": [
    "Теперь посмотрим на качество для тестовых записей:"
   ]
  },
  {
   "cell_type": "code",
   "execution_count": 57,
   "id": "318211a7-3fc4-410b-b654-411401ef38d1",
   "metadata": {},
   "outputs": [
    {
     "data": {
      "application/vnd.jupyter.widget-view+json": {
       "model_id": "2bb54ea72d0e4f2180919d0133f32f30",
       "version_major": 2,
       "version_minor": 0
      },
      "text/plain": [
       "Batches:   0%|          | 0/871 [00:00<?, ?it/s]"
      ]
     },
     "metadata": {},
     "output_type": "display_data"
    },
    {
     "data": {
      "application/vnd.jupyter.widget-view+json": {
       "model_id": "d3ae4fe12caf4c7c99373b3132f7eb46",
       "version_major": 2,
       "version_minor": 0
      },
      "text/plain": [
       "Batches:   0%|          | 0/11 [00:00<?, ?it/s]"
      ]
     },
     "metadata": {},
     "output_type": "display_data"
    },
    {
     "data": {
      "application/vnd.jupyter.widget-view+json": {
       "model_id": "b3bf5f74255945a6b7fffc1fba608ff5",
       "version_major": 2,
       "version_minor": 0
      },
      "text/plain": [
       "Batches:   0%|          | 0/1 [00:00<?, ?it/s]"
      ]
     },
     "metadata": {},
     "output_type": "display_data"
    },
    {
     "data": {
      "application/vnd.jupyter.widget-view+json": {
       "model_id": "b55692d80ac047448ea3b6d8c7fa099f",
       "version_major": 2,
       "version_minor": 0
      },
      "text/plain": [
       "Batches:   0%|          | 0/1 [00:00<?, ?it/s]"
      ]
     },
     "metadata": {},
     "output_type": "display_data"
    },
    {
     "data": {
      "application/vnd.jupyter.widget-view+json": {
       "model_id": "4a7138851e894a518c019f94d990bf64",
       "version_major": 2,
       "version_minor": 0
      },
      "text/plain": [
       "Batches:   0%|          | 0/1 [00:00<?, ?it/s]"
      ]
     },
     "metadata": {},
     "output_type": "display_data"
    },
    {
     "data": {
      "application/vnd.jupyter.widget-view+json": {
       "model_id": "bb2cf1177c7d4b61a45f4599de9d4d20",
       "version_major": 2,
       "version_minor": 0
      },
      "text/plain": [
       "Batches:   0%|          | 0/1 [00:00<?, ?it/s]"
      ]
     },
     "metadata": {},
     "output_type": "display_data"
    },
    {
     "data": {
      "application/vnd.jupyter.widget-view+json": {
       "model_id": "df657f24653a4effa7ce2228be25b432",
       "version_major": 2,
       "version_minor": 0
      },
      "text/plain": [
       "Batches:   0%|          | 0/1 [00:00<?, ?it/s]"
      ]
     },
     "metadata": {},
     "output_type": "display_data"
    },
    {
     "data": {
      "application/vnd.jupyter.widget-view+json": {
       "model_id": "15c8127b36bd4e62ab9d4759e6d19b56",
       "version_major": 2,
       "version_minor": 0
      },
      "text/plain": [
       "Batches:   0%|          | 0/1 [00:00<?, ?it/s]"
      ]
     },
     "metadata": {},
     "output_type": "display_data"
    },
    {
     "data": {
      "application/vnd.jupyter.widget-view+json": {
       "model_id": "c99b352b49184398b9ceacd70747028a",
       "version_major": 2,
       "version_minor": 0
      },
      "text/plain": [
       "Batches:   0%|          | 0/1 [00:00<?, ?it/s]"
      ]
     },
     "metadata": {},
     "output_type": "display_data"
    },
    {
     "data": {
      "application/vnd.jupyter.widget-view+json": {
       "model_id": "5081fefff4e14972b9ce6c2188e63b41",
       "version_major": 2,
       "version_minor": 0
      },
      "text/plain": [
       "Batches:   0%|          | 0/1 [00:00<?, ?it/s]"
      ]
     },
     "metadata": {},
     "output_type": "display_data"
    },
    {
     "data": {
      "application/vnd.jupyter.widget-view+json": {
       "model_id": "643b524bff0f4eb0b7e83b756be29764",
       "version_major": 2,
       "version_minor": 0
      },
      "text/plain": [
       "Batches:   0%|          | 0/1 [00:00<?, ?it/s]"
      ]
     },
     "metadata": {},
     "output_type": "display_data"
    },
    {
     "data": {
      "application/vnd.jupyter.widget-view+json": {
       "model_id": "7b163064d67e420c9ed1113fe9a438f7",
       "version_major": 2,
       "version_minor": 0
      },
      "text/plain": [
       "Batches:   0%|          | 0/1 [00:00<?, ?it/s]"
      ]
     },
     "metadata": {},
     "output_type": "display_data"
    },
    {
     "data": {
      "application/vnd.jupyter.widget-view+json": {
       "model_id": "c4378a07197342629d1d82ff49a025aa",
       "version_major": 2,
       "version_minor": 0
      },
      "text/plain": [
       "Batches:   0%|          | 0/1 [00:00<?, ?it/s]"
      ]
     },
     "metadata": {},
     "output_type": "display_data"
    },
    {
     "data": {
      "application/vnd.jupyter.widget-view+json": {
       "model_id": "84213b44d1224ee289cbd3d094467694",
       "version_major": 2,
       "version_minor": 0
      },
      "text/plain": [
       "Batches:   0%|          | 0/1 [00:00<?, ?it/s]"
      ]
     },
     "metadata": {},
     "output_type": "display_data"
    },
    {
     "data": {
      "application/vnd.jupyter.widget-view+json": {
       "model_id": "c868f2fa0f9d46128c99fc5909e240c3",
       "version_major": 2,
       "version_minor": 0
      },
      "text/plain": [
       "Batches:   0%|          | 0/1 [00:00<?, ?it/s]"
      ]
     },
     "metadata": {},
     "output_type": "display_data"
    },
    {
     "data": {
      "application/vnd.jupyter.widget-view+json": {
       "model_id": "fa2a42c1502548039c5bc3fc46cebb12",
       "version_major": 2,
       "version_minor": 0
      },
      "text/plain": [
       "Batches:   0%|          | 0/1 [00:00<?, ?it/s]"
      ]
     },
     "metadata": {},
     "output_type": "display_data"
    },
    {
     "data": {
      "application/vnd.jupyter.widget-view+json": {
       "model_id": "7bb75506c020479cb7ab1caa2cb7d47e",
       "version_major": 2,
       "version_minor": 0
      },
      "text/plain": [
       "Batches:   0%|          | 0/1 [00:00<?, ?it/s]"
      ]
     },
     "metadata": {},
     "output_type": "display_data"
    },
    {
     "data": {
      "application/vnd.jupyter.widget-view+json": {
       "model_id": "6810a272e6fb4068b86205b8e81a5a01",
       "version_major": 2,
       "version_minor": 0
      },
      "text/plain": [
       "Batches:   0%|          | 0/1 [00:00<?, ?it/s]"
      ]
     },
     "metadata": {},
     "output_type": "display_data"
    },
    {
     "data": {
      "application/vnd.jupyter.widget-view+json": {
       "model_id": "7fd7e39346ea4d129ce34eb939fdd34c",
       "version_major": 2,
       "version_minor": 0
      },
      "text/plain": [
       "Batches:   0%|          | 0/1 [00:00<?, ?it/s]"
      ]
     },
     "metadata": {},
     "output_type": "display_data"
    },
    {
     "data": {
      "application/vnd.jupyter.widget-view+json": {
       "model_id": "fcc1793e2814425b9d12134970198c13",
       "version_major": 2,
       "version_minor": 0
      },
      "text/plain": [
       "Batches:   0%|          | 0/1 [00:00<?, ?it/s]"
      ]
     },
     "metadata": {},
     "output_type": "display_data"
    },
    {
     "data": {
      "application/vnd.jupyter.widget-view+json": {
       "model_id": "d2de708bcc2c48bb97f860be2070b0d7",
       "version_major": 2,
       "version_minor": 0
      },
      "text/plain": [
       "Batches:   0%|          | 0/1 [00:00<?, ?it/s]"
      ]
     },
     "metadata": {},
     "output_type": "display_data"
    },
    {
     "data": {
      "application/vnd.jupyter.widget-view+json": {
       "model_id": "47f8be13e5bd4457a56ec7b25c4e9f87",
       "version_major": 2,
       "version_minor": 0
      },
      "text/plain": [
       "Batches:   0%|          | 0/1 [00:00<?, ?it/s]"
      ]
     },
     "metadata": {},
     "output_type": "display_data"
    },
    {
     "data": {
      "application/vnd.jupyter.widget-view+json": {
       "model_id": "fdfb2f6cff9342a28625ee2228ea65d5",
       "version_major": 2,
       "version_minor": 0
      },
      "text/plain": [
       "Batches:   0%|          | 0/1 [00:00<?, ?it/s]"
      ]
     },
     "metadata": {},
     "output_type": "display_data"
    },
    {
     "data": {
      "application/vnd.jupyter.widget-view+json": {
       "model_id": "f638f5dc0b4b477a937c77fd8532d44e",
       "version_major": 2,
       "version_minor": 0
      },
      "text/plain": [
       "Batches:   0%|          | 0/1 [00:00<?, ?it/s]"
      ]
     },
     "metadata": {},
     "output_type": "display_data"
    },
    {
     "data": {
      "application/vnd.jupyter.widget-view+json": {
       "model_id": "408f561100b64328896c94cb601ddc07",
       "version_major": 2,
       "version_minor": 0
      },
      "text/plain": [
       "Batches:   0%|          | 0/1 [00:00<?, ?it/s]"
      ]
     },
     "metadata": {},
     "output_type": "display_data"
    },
    {
     "data": {
      "application/vnd.jupyter.widget-view+json": {
       "model_id": "bf14812576864cd28786f8db5baa2433",
       "version_major": 2,
       "version_minor": 0
      },
      "text/plain": [
       "Batches:   0%|          | 0/1 [00:00<?, ?it/s]"
      ]
     },
     "metadata": {},
     "output_type": "display_data"
    },
    {
     "data": {
      "application/vnd.jupyter.widget-view+json": {
       "model_id": "c92b5e8bc0264e9ca6467e3ecfed3346",
       "version_major": 2,
       "version_minor": 0
      },
      "text/plain": [
       "Batches:   0%|          | 0/1 [00:00<?, ?it/s]"
      ]
     },
     "metadata": {},
     "output_type": "display_data"
    },
    {
     "data": {
      "application/vnd.jupyter.widget-view+json": {
       "model_id": "18e6bc219ec641fe9ad48985d77bb22b",
       "version_major": 2,
       "version_minor": 0
      },
      "text/plain": [
       "Batches:   0%|          | 0/1 [00:00<?, ?it/s]"
      ]
     },
     "metadata": {},
     "output_type": "display_data"
    },
    {
     "data": {
      "application/vnd.jupyter.widget-view+json": {
       "model_id": "f66c5a328b894b93afb32965a97081e0",
       "version_major": 2,
       "version_minor": 0
      },
      "text/plain": [
       "Batches:   0%|          | 0/1 [00:00<?, ?it/s]"
      ]
     },
     "metadata": {},
     "output_type": "display_data"
    },
    {
     "data": {
      "application/vnd.jupyter.widget-view+json": {
       "model_id": "4a0547ac165c4f04a42fc4abcc2e8c1f",
       "version_major": 2,
       "version_minor": 0
      },
      "text/plain": [
       "Batches:   0%|          | 0/1 [00:00<?, ?it/s]"
      ]
     },
     "metadata": {},
     "output_type": "display_data"
    },
    {
     "data": {
      "application/vnd.jupyter.widget-view+json": {
       "model_id": "2d1d96d0748f4acd825ddcd9236bd74e",
       "version_major": 2,
       "version_minor": 0
      },
      "text/plain": [
       "Batches:   0%|          | 0/1 [00:00<?, ?it/s]"
      ]
     },
     "metadata": {},
     "output_type": "display_data"
    },
    {
     "data": {
      "application/vnd.jupyter.widget-view+json": {
       "model_id": "5035d2d5910f4f03bbe93053a50427bf",
       "version_major": 2,
       "version_minor": 0
      },
      "text/plain": [
       "Batches:   0%|          | 0/1 [00:00<?, ?it/s]"
      ]
     },
     "metadata": {},
     "output_type": "display_data"
    },
    {
     "data": {
      "application/vnd.jupyter.widget-view+json": {
       "model_id": "5efbf6c0c14a48ecbb1c2733e9f05aa3",
       "version_major": 2,
       "version_minor": 0
      },
      "text/plain": [
       "Batches:   0%|          | 0/1 [00:00<?, ?it/s]"
      ]
     },
     "metadata": {},
     "output_type": "display_data"
    },
    {
     "data": {
      "application/vnd.jupyter.widget-view+json": {
       "model_id": "a34b986997854927bea5d69dc8b5f562",
       "version_major": 2,
       "version_minor": 0
      },
      "text/plain": [
       "Batches:   0%|          | 0/1 [00:00<?, ?it/s]"
      ]
     },
     "metadata": {},
     "output_type": "display_data"
    },
    {
     "data": {
      "application/vnd.jupyter.widget-view+json": {
       "model_id": "220670085b3c4b29816999d41a0ec143",
       "version_major": 2,
       "version_minor": 0
      },
      "text/plain": [
       "Batches:   0%|          | 0/1 [00:00<?, ?it/s]"
      ]
     },
     "metadata": {},
     "output_type": "display_data"
    },
    {
     "data": {
      "application/vnd.jupyter.widget-view+json": {
       "model_id": "95e1e0b30df7469b884086273c077ee7",
       "version_major": 2,
       "version_minor": 0
      },
      "text/plain": [
       "Batches:   0%|          | 0/1 [00:00<?, ?it/s]"
      ]
     },
     "metadata": {},
     "output_type": "display_data"
    },
    {
     "data": {
      "application/vnd.jupyter.widget-view+json": {
       "model_id": "4820c5a2e1514271b7617fa5dbba0536",
       "version_major": 2,
       "version_minor": 0
      },
      "text/plain": [
       "Batches:   0%|          | 0/1 [00:00<?, ?it/s]"
      ]
     },
     "metadata": {},
     "output_type": "display_data"
    },
    {
     "data": {
      "application/vnd.jupyter.widget-view+json": {
       "model_id": "06aa9e59538f47d986a57a92149e1ae9",
       "version_major": 2,
       "version_minor": 0
      },
      "text/plain": [
       "Batches:   0%|          | 0/1 [00:00<?, ?it/s]"
      ]
     },
     "metadata": {},
     "output_type": "display_data"
    },
    {
     "data": {
      "application/vnd.jupyter.widget-view+json": {
       "model_id": "a0bde1e8ad854cb48392a2bfa5c07c21",
       "version_major": 2,
       "version_minor": 0
      },
      "text/plain": [
       "Batches:   0%|          | 0/1 [00:00<?, ?it/s]"
      ]
     },
     "metadata": {},
     "output_type": "display_data"
    },
    {
     "data": {
      "application/vnd.jupyter.widget-view+json": {
       "model_id": "0966a96aecd64eb3b0bd0bcf627d4ec0",
       "version_major": 2,
       "version_minor": 0
      },
      "text/plain": [
       "Batches:   0%|          | 0/1 [00:00<?, ?it/s]"
      ]
     },
     "metadata": {},
     "output_type": "display_data"
    },
    {
     "data": {
      "application/vnd.jupyter.widget-view+json": {
       "model_id": "fd531339cc764dcd8f627731aa610b1f",
       "version_major": 2,
       "version_minor": 0
      },
      "text/plain": [
       "Batches:   0%|          | 0/1 [00:00<?, ?it/s]"
      ]
     },
     "metadata": {},
     "output_type": "display_data"
    },
    {
     "data": {
      "application/vnd.jupyter.widget-view+json": {
       "model_id": "2805dbc2ca3949869578e6c7868e4b5f",
       "version_major": 2,
       "version_minor": 0
      },
      "text/plain": [
       "Batches:   0%|          | 0/1 [00:00<?, ?it/s]"
      ]
     },
     "metadata": {},
     "output_type": "display_data"
    },
    {
     "data": {
      "application/vnd.jupyter.widget-view+json": {
       "model_id": "c2ca111ad9844a0bba91ccd0350c685b",
       "version_major": 2,
       "version_minor": 0
      },
      "text/plain": [
       "Batches:   0%|          | 0/1 [00:00<?, ?it/s]"
      ]
     },
     "metadata": {},
     "output_type": "display_data"
    },
    {
     "data": {
      "application/vnd.jupyter.widget-view+json": {
       "model_id": "ef1564fed0c5475dbfd3073c1490b841",
       "version_major": 2,
       "version_minor": 0
      },
      "text/plain": [
       "Batches:   0%|          | 0/1 [00:00<?, ?it/s]"
      ]
     },
     "metadata": {},
     "output_type": "display_data"
    },
    {
     "data": {
      "application/vnd.jupyter.widget-view+json": {
       "model_id": "8949d07ea4cf4708b4f681b8ea9b7405",
       "version_major": 2,
       "version_minor": 0
      },
      "text/plain": [
       "Batches:   0%|          | 0/1 [00:00<?, ?it/s]"
      ]
     },
     "metadata": {},
     "output_type": "display_data"
    },
    {
     "data": {
      "application/vnd.jupyter.widget-view+json": {
       "model_id": "cb3a9a63ba104a1ebc4e74ecefc9bf54",
       "version_major": 2,
       "version_minor": 0
      },
      "text/plain": [
       "Batches:   0%|          | 0/1 [00:00<?, ?it/s]"
      ]
     },
     "metadata": {},
     "output_type": "display_data"
    },
    {
     "data": {
      "application/vnd.jupyter.widget-view+json": {
       "model_id": "1153fb51b5a1490aaabd6918aa00648e",
       "version_major": 2,
       "version_minor": 0
      },
      "text/plain": [
       "Batches:   0%|          | 0/1 [00:00<?, ?it/s]"
      ]
     },
     "metadata": {},
     "output_type": "display_data"
    },
    {
     "data": {
      "application/vnd.jupyter.widget-view+json": {
       "model_id": "1446cf17a12044ebb54182488e10f31f",
       "version_major": 2,
       "version_minor": 0
      },
      "text/plain": [
       "Batches:   0%|          | 0/1 [00:00<?, ?it/s]"
      ]
     },
     "metadata": {},
     "output_type": "display_data"
    },
    {
     "data": {
      "application/vnd.jupyter.widget-view+json": {
       "model_id": "d5c064dde292461ea94bebda07360586",
       "version_major": 2,
       "version_minor": 0
      },
      "text/plain": [
       "Batches:   0%|          | 0/1 [00:00<?, ?it/s]"
      ]
     },
     "metadata": {},
     "output_type": "display_data"
    },
    {
     "data": {
      "application/vnd.jupyter.widget-view+json": {
       "model_id": "bbb3d4acc24b4b61b4802b5d6e90b0ca",
       "version_major": 2,
       "version_minor": 0
      },
      "text/plain": [
       "Batches:   0%|          | 0/1 [00:00<?, ?it/s]"
      ]
     },
     "metadata": {},
     "output_type": "display_data"
    },
    {
     "data": {
      "application/vnd.jupyter.widget-view+json": {
       "model_id": "50a2cd8f2934470b84ad9f7d1348bf1c",
       "version_major": 2,
       "version_minor": 0
      },
      "text/plain": [
       "Batches:   0%|          | 0/1 [00:00<?, ?it/s]"
      ]
     },
     "metadata": {},
     "output_type": "display_data"
    },
    {
     "data": {
      "application/vnd.jupyter.widget-view+json": {
       "model_id": "579663eb87594663b29322c6baa26a6a",
       "version_major": 2,
       "version_minor": 0
      },
      "text/plain": [
       "Batches:   0%|          | 0/1 [00:00<?, ?it/s]"
      ]
     },
     "metadata": {},
     "output_type": "display_data"
    },
    {
     "data": {
      "application/vnd.jupyter.widget-view+json": {
       "model_id": "5d667d37a8ff47139385d0ff5312d0ee",
       "version_major": 2,
       "version_minor": 0
      },
      "text/plain": [
       "Batches:   0%|          | 0/1 [00:00<?, ?it/s]"
      ]
     },
     "metadata": {},
     "output_type": "display_data"
    },
    {
     "data": {
      "application/vnd.jupyter.widget-view+json": {
       "model_id": "8d8daa4e974a4783b61935eb1e1491d9",
       "version_major": 2,
       "version_minor": 0
      },
      "text/plain": [
       "Batches:   0%|          | 0/1 [00:00<?, ?it/s]"
      ]
     },
     "metadata": {},
     "output_type": "display_data"
    },
    {
     "data": {
      "application/vnd.jupyter.widget-view+json": {
       "model_id": "3717ba9d2d5c42eb8c50cea640c3c16a",
       "version_major": 2,
       "version_minor": 0
      },
      "text/plain": [
       "Batches:   0%|          | 0/1 [00:00<?, ?it/s]"
      ]
     },
     "metadata": {},
     "output_type": "display_data"
    },
    {
     "data": {
      "application/vnd.jupyter.widget-view+json": {
       "model_id": "5eea2744655e491f95833348cde0e025",
       "version_major": 2,
       "version_minor": 0
      },
      "text/plain": [
       "Batches:   0%|          | 0/1 [00:00<?, ?it/s]"
      ]
     },
     "metadata": {},
     "output_type": "display_data"
    },
    {
     "data": {
      "application/vnd.jupyter.widget-view+json": {
       "model_id": "93479f7a02b3410eab90cf9ebf5b00e4",
       "version_major": 2,
       "version_minor": 0
      },
      "text/plain": [
       "Batches:   0%|          | 0/1 [00:00<?, ?it/s]"
      ]
     },
     "metadata": {},
     "output_type": "display_data"
    },
    {
     "data": {
      "application/vnd.jupyter.widget-view+json": {
       "model_id": "bbe31a9487544a0696342db9523cdfe3",
       "version_major": 2,
       "version_minor": 0
      },
      "text/plain": [
       "Batches:   0%|          | 0/1 [00:00<?, ?it/s]"
      ]
     },
     "metadata": {},
     "output_type": "display_data"
    },
    {
     "data": {
      "application/vnd.jupyter.widget-view+json": {
       "model_id": "4ec7a69f9746480d9d2c93be7c0880f9",
       "version_major": 2,
       "version_minor": 0
      },
      "text/plain": [
       "Batches:   0%|          | 0/1 [00:00<?, ?it/s]"
      ]
     },
     "metadata": {},
     "output_type": "display_data"
    },
    {
     "data": {
      "application/vnd.jupyter.widget-view+json": {
       "model_id": "bc50800859a04144add69e54e3fe5a0e",
       "version_major": 2,
       "version_minor": 0
      },
      "text/plain": [
       "Batches:   0%|          | 0/1 [00:00<?, ?it/s]"
      ]
     },
     "metadata": {},
     "output_type": "display_data"
    },
    {
     "data": {
      "application/vnd.jupyter.widget-view+json": {
       "model_id": "32b691c7944740b5accf6b157e511ca8",
       "version_major": 2,
       "version_minor": 0
      },
      "text/plain": [
       "Batches:   0%|          | 0/1 [00:00<?, ?it/s]"
      ]
     },
     "metadata": {},
     "output_type": "display_data"
    },
    {
     "data": {
      "application/vnd.jupyter.widget-view+json": {
       "model_id": "9c33e53d69824a0daeb2b78057dfb4f3",
       "version_major": 2,
       "version_minor": 0
      },
      "text/plain": [
       "Batches:   0%|          | 0/1 [00:00<?, ?it/s]"
      ]
     },
     "metadata": {},
     "output_type": "display_data"
    },
    {
     "data": {
      "application/vnd.jupyter.widget-view+json": {
       "model_id": "1556df6e4e7c4ce29c0589e5f10e878b",
       "version_major": 2,
       "version_minor": 0
      },
      "text/plain": [
       "Batches:   0%|          | 0/1 [00:00<?, ?it/s]"
      ]
     },
     "metadata": {},
     "output_type": "display_data"
    },
    {
     "data": {
      "application/vnd.jupyter.widget-view+json": {
       "model_id": "e7aff26e2eed40b38b6a452c94e82e60",
       "version_major": 2,
       "version_minor": 0
      },
      "text/plain": [
       "Batches:   0%|          | 0/1 [00:00<?, ?it/s]"
      ]
     },
     "metadata": {},
     "output_type": "display_data"
    },
    {
     "data": {
      "application/vnd.jupyter.widget-view+json": {
       "model_id": "54d93eaa812d4c25b8c70f13271617f1",
       "version_major": 2,
       "version_minor": 0
      },
      "text/plain": [
       "Batches:   0%|          | 0/1 [00:00<?, ?it/s]"
      ]
     },
     "metadata": {},
     "output_type": "display_data"
    },
    {
     "data": {
      "application/vnd.jupyter.widget-view+json": {
       "model_id": "5ee694309fb743a3bccb0298e9da7889",
       "version_major": 2,
       "version_minor": 0
      },
      "text/plain": [
       "Batches:   0%|          | 0/1 [00:00<?, ?it/s]"
      ]
     },
     "metadata": {},
     "output_type": "display_data"
    },
    {
     "data": {
      "application/vnd.jupyter.widget-view+json": {
       "model_id": "f91ecd0c6b1549d49df6a921eaaa6758",
       "version_major": 2,
       "version_minor": 0
      },
      "text/plain": [
       "Batches:   0%|          | 0/1 [00:00<?, ?it/s]"
      ]
     },
     "metadata": {},
     "output_type": "display_data"
    },
    {
     "data": {
      "application/vnd.jupyter.widget-view+json": {
       "model_id": "baec46e84846421a94c0e66e891ea2ab",
       "version_major": 2,
       "version_minor": 0
      },
      "text/plain": [
       "Batches:   0%|          | 0/1 [00:00<?, ?it/s]"
      ]
     },
     "metadata": {},
     "output_type": "display_data"
    },
    {
     "data": {
      "application/vnd.jupyter.widget-view+json": {
       "model_id": "f7c3d3925f5a4b55a844d5469a52480a",
       "version_major": 2,
       "version_minor": 0
      },
      "text/plain": [
       "Batches:   0%|          | 0/1 [00:00<?, ?it/s]"
      ]
     },
     "metadata": {},
     "output_type": "display_data"
    },
    {
     "data": {
      "application/vnd.jupyter.widget-view+json": {
       "model_id": "c2f8ace85c394d17994f293574a832cb",
       "version_major": 2,
       "version_minor": 0
      },
      "text/plain": [
       "Batches:   0%|          | 0/1 [00:00<?, ?it/s]"
      ]
     },
     "metadata": {},
     "output_type": "display_data"
    },
    {
     "data": {
      "application/vnd.jupyter.widget-view+json": {
       "model_id": "1d52e9f03b6b4cc9831d1c5c4676d10b",
       "version_major": 2,
       "version_minor": 0
      },
      "text/plain": [
       "Batches:   0%|          | 0/1 [00:00<?, ?it/s]"
      ]
     },
     "metadata": {},
     "output_type": "display_data"
    },
    {
     "data": {
      "application/vnd.jupyter.widget-view+json": {
       "model_id": "deadc8c681ef4e309f3b9ba5a6e3ce76",
       "version_major": 2,
       "version_minor": 0
      },
      "text/plain": [
       "Batches:   0%|          | 0/1 [00:00<?, ?it/s]"
      ]
     },
     "metadata": {},
     "output_type": "display_data"
    },
    {
     "data": {
      "application/vnd.jupyter.widget-view+json": {
       "model_id": "9cc19d8e743345e8b502343438547e0d",
       "version_major": 2,
       "version_minor": 0
      },
      "text/plain": [
       "Batches:   0%|          | 0/1 [00:00<?, ?it/s]"
      ]
     },
     "metadata": {},
     "output_type": "display_data"
    },
    {
     "data": {
      "application/vnd.jupyter.widget-view+json": {
       "model_id": "f9c9402acf83411c9db22487acf6ff4f",
       "version_major": 2,
       "version_minor": 0
      },
      "text/plain": [
       "Batches:   0%|          | 0/1 [00:00<?, ?it/s]"
      ]
     },
     "metadata": {},
     "output_type": "display_data"
    },
    {
     "data": {
      "application/vnd.jupyter.widget-view+json": {
       "model_id": "22de867a07e649d3b064159359a3525e",
       "version_major": 2,
       "version_minor": 0
      },
      "text/plain": [
       "Batches:   0%|          | 0/1 [00:00<?, ?it/s]"
      ]
     },
     "metadata": {},
     "output_type": "display_data"
    },
    {
     "data": {
      "application/vnd.jupyter.widget-view+json": {
       "model_id": "02f9d9956b4c42a08803cf39ee96cb17",
       "version_major": 2,
       "version_minor": 0
      },
      "text/plain": [
       "Batches:   0%|          | 0/1 [00:00<?, ?it/s]"
      ]
     },
     "metadata": {},
     "output_type": "display_data"
    },
    {
     "data": {
      "application/vnd.jupyter.widget-view+json": {
       "model_id": "4a6353080ba14f508f8dbef04cd8c60f",
       "version_major": 2,
       "version_minor": 0
      },
      "text/plain": [
       "Batches:   0%|          | 0/1 [00:00<?, ?it/s]"
      ]
     },
     "metadata": {},
     "output_type": "display_data"
    },
    {
     "data": {
      "application/vnd.jupyter.widget-view+json": {
       "model_id": "4a26f4d1c4fa48c795dc5c7e991c2396",
       "version_major": 2,
       "version_minor": 0
      },
      "text/plain": [
       "Batches:   0%|          | 0/1 [00:00<?, ?it/s]"
      ]
     },
     "metadata": {},
     "output_type": "display_data"
    },
    {
     "data": {
      "application/vnd.jupyter.widget-view+json": {
       "model_id": "2c9acdf1e8264382b495979cee0e4f54",
       "version_major": 2,
       "version_minor": 0
      },
      "text/plain": [
       "Batches:   0%|          | 0/1 [00:00<?, ?it/s]"
      ]
     },
     "metadata": {},
     "output_type": "display_data"
    },
    {
     "data": {
      "application/vnd.jupyter.widget-view+json": {
       "model_id": "e4ccd18074a4426796c9d89f0ae7019e",
       "version_major": 2,
       "version_minor": 0
      },
      "text/plain": [
       "Batches:   0%|          | 0/1 [00:00<?, ?it/s]"
      ]
     },
     "metadata": {},
     "output_type": "display_data"
    },
    {
     "data": {
      "application/vnd.jupyter.widget-view+json": {
       "model_id": "f5cd3743ef35450994209fa48c01f242",
       "version_major": 2,
       "version_minor": 0
      },
      "text/plain": [
       "Batches:   0%|          | 0/1 [00:00<?, ?it/s]"
      ]
     },
     "metadata": {},
     "output_type": "display_data"
    },
    {
     "data": {
      "application/vnd.jupyter.widget-view+json": {
       "model_id": "ec15731e29cb4d9c80c388752016903a",
       "version_major": 2,
       "version_minor": 0
      },
      "text/plain": [
       "Batches:   0%|          | 0/1 [00:00<?, ?it/s]"
      ]
     },
     "metadata": {},
     "output_type": "display_data"
    },
    {
     "data": {
      "application/vnd.jupyter.widget-view+json": {
       "model_id": "d94ae37ffccd476c844669552741d0f1",
       "version_major": 2,
       "version_minor": 0
      },
      "text/plain": [
       "Batches:   0%|          | 0/1 [00:00<?, ?it/s]"
      ]
     },
     "metadata": {},
     "output_type": "display_data"
    },
    {
     "data": {
      "application/vnd.jupyter.widget-view+json": {
       "model_id": "7b62677d767f4ebba7f57518ddc126f4",
       "version_major": 2,
       "version_minor": 0
      },
      "text/plain": [
       "Batches:   0%|          | 0/1 [00:00<?, ?it/s]"
      ]
     },
     "metadata": {},
     "output_type": "display_data"
    },
    {
     "data": {
      "application/vnd.jupyter.widget-view+json": {
       "model_id": "7233adaad9fb405aaebb2f050ed57f31",
       "version_major": 2,
       "version_minor": 0
      },
      "text/plain": [
       "Batches:   0%|          | 0/1 [00:00<?, ?it/s]"
      ]
     },
     "metadata": {},
     "output_type": "display_data"
    },
    {
     "data": {
      "application/vnd.jupyter.widget-view+json": {
       "model_id": "52674bbfa95f49ac8f6a84988da81ae1",
       "version_major": 2,
       "version_minor": 0
      },
      "text/plain": [
       "Batches:   0%|          | 0/1 [00:00<?, ?it/s]"
      ]
     },
     "metadata": {},
     "output_type": "display_data"
    },
    {
     "data": {
      "application/vnd.jupyter.widget-view+json": {
       "model_id": "f0e5d70ca8404936a500a77ca10f7090",
       "version_major": 2,
       "version_minor": 0
      },
      "text/plain": [
       "Batches:   0%|          | 0/1 [00:00<?, ?it/s]"
      ]
     },
     "metadata": {},
     "output_type": "display_data"
    },
    {
     "data": {
      "application/vnd.jupyter.widget-view+json": {
       "model_id": "c7e34e53788a45f4973b6d8c6c56c667",
       "version_major": 2,
       "version_minor": 0
      },
      "text/plain": [
       "Batches:   0%|          | 0/1 [00:00<?, ?it/s]"
      ]
     },
     "metadata": {},
     "output_type": "display_data"
    },
    {
     "data": {
      "application/vnd.jupyter.widget-view+json": {
       "model_id": "de9e47dc94e74869a27fa4e39e1b9b12",
       "version_major": 2,
       "version_minor": 0
      },
      "text/plain": [
       "Batches:   0%|          | 0/1 [00:00<?, ?it/s]"
      ]
     },
     "metadata": {},
     "output_type": "display_data"
    },
    {
     "data": {
      "application/vnd.jupyter.widget-view+json": {
       "model_id": "3854fa0a62ad4fc3995510e5c771e66d",
       "version_major": 2,
       "version_minor": 0
      },
      "text/plain": [
       "Batches:   0%|          | 0/1 [00:00<?, ?it/s]"
      ]
     },
     "metadata": {},
     "output_type": "display_data"
    },
    {
     "data": {
      "application/vnd.jupyter.widget-view+json": {
       "model_id": "df0480f9a4594017a2f67d9c2bcdbb5d",
       "version_major": 2,
       "version_minor": 0
      },
      "text/plain": [
       "Batches:   0%|          | 0/1 [00:00<?, ?it/s]"
      ]
     },
     "metadata": {},
     "output_type": "display_data"
    },
    {
     "data": {
      "application/vnd.jupyter.widget-view+json": {
       "model_id": "75ace9cf911f436fb2b8168787c8ad04",
       "version_major": 2,
       "version_minor": 0
      },
      "text/plain": [
       "Batches:   0%|          | 0/1 [00:00<?, ?it/s]"
      ]
     },
     "metadata": {},
     "output_type": "display_data"
    },
    {
     "data": {
      "application/vnd.jupyter.widget-view+json": {
       "model_id": "34a863ac29da43eeabc2545abcf391dc",
       "version_major": 2,
       "version_minor": 0
      },
      "text/plain": [
       "Batches:   0%|          | 0/1 [00:00<?, ?it/s]"
      ]
     },
     "metadata": {},
     "output_type": "display_data"
    },
    {
     "data": {
      "application/vnd.jupyter.widget-view+json": {
       "model_id": "36ab063e7aa744799154d64786822bba",
       "version_major": 2,
       "version_minor": 0
      },
      "text/plain": [
       "Batches:   0%|          | 0/1 [00:00<?, ?it/s]"
      ]
     },
     "metadata": {},
     "output_type": "display_data"
    },
    {
     "data": {
      "application/vnd.jupyter.widget-view+json": {
       "model_id": "f895c9946c2342e891dd3727002939cc",
       "version_major": 2,
       "version_minor": 0
      },
      "text/plain": [
       "Batches:   0%|          | 0/1 [00:00<?, ?it/s]"
      ]
     },
     "metadata": {},
     "output_type": "display_data"
    },
    {
     "data": {
      "application/vnd.jupyter.widget-view+json": {
       "model_id": "b6566a6dc0c64b76bd99046a55f0be97",
       "version_major": 2,
       "version_minor": 0
      },
      "text/plain": [
       "Batches:   0%|          | 0/1 [00:00<?, ?it/s]"
      ]
     },
     "metadata": {},
     "output_type": "display_data"
    },
    {
     "data": {
      "application/vnd.jupyter.widget-view+json": {
       "model_id": "7ec74ce12468402c9777ccb537bfa717",
       "version_major": 2,
       "version_minor": 0
      },
      "text/plain": [
       "Batches:   0%|          | 0/1 [00:00<?, ?it/s]"
      ]
     },
     "metadata": {},
     "output_type": "display_data"
    },
    {
     "data": {
      "application/vnd.jupyter.widget-view+json": {
       "model_id": "64fb3a5dfe3b4ae8aa3e04f485490f3e",
       "version_major": 2,
       "version_minor": 0
      },
      "text/plain": [
       "Batches:   0%|          | 0/1 [00:00<?, ?it/s]"
      ]
     },
     "metadata": {},
     "output_type": "display_data"
    },
    {
     "data": {
      "application/vnd.jupyter.widget-view+json": {
       "model_id": "05db3b7b25804413839636615916b3d2",
       "version_major": 2,
       "version_minor": 0
      },
      "text/plain": [
       "Batches:   0%|          | 0/1 [00:00<?, ?it/s]"
      ]
     },
     "metadata": {},
     "output_type": "display_data"
    },
    {
     "data": {
      "application/vnd.jupyter.widget-view+json": {
       "model_id": "556cb01ef87f4d9cb8e901dae86a8f4a",
       "version_major": 2,
       "version_minor": 0
      },
      "text/plain": [
       "Batches:   0%|          | 0/1 [00:00<?, ?it/s]"
      ]
     },
     "metadata": {},
     "output_type": "display_data"
    },
    {
     "data": {
      "application/vnd.jupyter.widget-view+json": {
       "model_id": "6d86fccde4d8446886bd4ba0c5976814",
       "version_major": 2,
       "version_minor": 0
      },
      "text/plain": [
       "Batches:   0%|          | 0/1 [00:00<?, ?it/s]"
      ]
     },
     "metadata": {},
     "output_type": "display_data"
    },
    {
     "data": {
      "application/vnd.jupyter.widget-view+json": {
       "model_id": "f6e327f11f4248df8e37a6adc1e4fca1",
       "version_major": 2,
       "version_minor": 0
      },
      "text/plain": [
       "Batches:   0%|          | 0/1 [00:00<?, ?it/s]"
      ]
     },
     "metadata": {},
     "output_type": "display_data"
    },
    {
     "data": {
      "application/vnd.jupyter.widget-view+json": {
       "model_id": "b2f972e4e6e4422d855e9f164104c279",
       "version_major": 2,
       "version_minor": 0
      },
      "text/plain": [
       "Batches:   0%|          | 0/1 [00:00<?, ?it/s]"
      ]
     },
     "metadata": {},
     "output_type": "display_data"
    },
    {
     "data": {
      "application/vnd.jupyter.widget-view+json": {
       "model_id": "5f71f13ebc584c13ba724cb2fadadbd9",
       "version_major": 2,
       "version_minor": 0
      },
      "text/plain": [
       "Batches:   0%|          | 0/1 [00:00<?, ?it/s]"
      ]
     },
     "metadata": {},
     "output_type": "display_data"
    },
    {
     "data": {
      "application/vnd.jupyter.widget-view+json": {
       "model_id": "d5ac25dcbde34a96957bc6c906786868",
       "version_major": 2,
       "version_minor": 0
      },
      "text/plain": [
       "Batches:   0%|          | 0/1 [00:00<?, ?it/s]"
      ]
     },
     "metadata": {},
     "output_type": "display_data"
    },
    {
     "data": {
      "application/vnd.jupyter.widget-view+json": {
       "model_id": "4cfd8cbf8af84b8090cf02741abd85ba",
       "version_major": 2,
       "version_minor": 0
      },
      "text/plain": [
       "Batches:   0%|          | 0/1 [00:00<?, ?it/s]"
      ]
     },
     "metadata": {},
     "output_type": "display_data"
    },
    {
     "data": {
      "application/vnd.jupyter.widget-view+json": {
       "model_id": "b102da1128384833adcf444f6ef53d1c",
       "version_major": 2,
       "version_minor": 0
      },
      "text/plain": [
       "Batches:   0%|          | 0/1 [00:00<?, ?it/s]"
      ]
     },
     "metadata": {},
     "output_type": "display_data"
    },
    {
     "data": {
      "application/vnd.jupyter.widget-view+json": {
       "model_id": "73b0770fc447472f98d65ef842628bea",
       "version_major": 2,
       "version_minor": 0
      },
      "text/plain": [
       "Batches:   0%|          | 0/1 [00:00<?, ?it/s]"
      ]
     },
     "metadata": {},
     "output_type": "display_data"
    },
    {
     "data": {
      "application/vnd.jupyter.widget-view+json": {
       "model_id": "fd599176139946bdb30836b7736ab3b6",
       "version_major": 2,
       "version_minor": 0
      },
      "text/plain": [
       "Batches:   0%|          | 0/1 [00:00<?, ?it/s]"
      ]
     },
     "metadata": {},
     "output_type": "display_data"
    },
    {
     "data": {
      "application/vnd.jupyter.widget-view+json": {
       "model_id": "c5ad1afe00714051803c7f0ee3ef614c",
       "version_major": 2,
       "version_minor": 0
      },
      "text/plain": [
       "Batches:   0%|          | 0/1 [00:00<?, ?it/s]"
      ]
     },
     "metadata": {},
     "output_type": "display_data"
    },
    {
     "data": {
      "application/vnd.jupyter.widget-view+json": {
       "model_id": "a306b50a11504ad9aa64ce7827b3de89",
       "version_major": 2,
       "version_minor": 0
      },
      "text/plain": [
       "Batches:   0%|          | 0/1 [00:00<?, ?it/s]"
      ]
     },
     "metadata": {},
     "output_type": "display_data"
    },
    {
     "data": {
      "application/vnd.jupyter.widget-view+json": {
       "model_id": "2aa5e827cf0148708261e05fb5c643a3",
       "version_major": 2,
       "version_minor": 0
      },
      "text/plain": [
       "Batches:   0%|          | 0/1 [00:00<?, ?it/s]"
      ]
     },
     "metadata": {},
     "output_type": "display_data"
    },
    {
     "data": {
      "application/vnd.jupyter.widget-view+json": {
       "model_id": "f252079d54374bd1be290091f36fa5b9",
       "version_major": 2,
       "version_minor": 0
      },
      "text/plain": [
       "Batches:   0%|          | 0/1 [00:00<?, ?it/s]"
      ]
     },
     "metadata": {},
     "output_type": "display_data"
    },
    {
     "data": {
      "application/vnd.jupyter.widget-view+json": {
       "model_id": "774fd5c0249049f3980d4b579dc73ddd",
       "version_major": 2,
       "version_minor": 0
      },
      "text/plain": [
       "Batches:   0%|          | 0/1 [00:00<?, ?it/s]"
      ]
     },
     "metadata": {},
     "output_type": "display_data"
    },
    {
     "data": {
      "application/vnd.jupyter.widget-view+json": {
       "model_id": "3a7ad90e73a4401c853167a19c379abd",
       "version_major": 2,
       "version_minor": 0
      },
      "text/plain": [
       "Batches:   0%|          | 0/1 [00:00<?, ?it/s]"
      ]
     },
     "metadata": {},
     "output_type": "display_data"
    },
    {
     "data": {
      "application/vnd.jupyter.widget-view+json": {
       "model_id": "b71b42d0c5c14edf83560c34c411ec4e",
       "version_major": 2,
       "version_minor": 0
      },
      "text/plain": [
       "Batches:   0%|          | 0/1 [00:00<?, ?it/s]"
      ]
     },
     "metadata": {},
     "output_type": "display_data"
    },
    {
     "data": {
      "application/vnd.jupyter.widget-view+json": {
       "model_id": "07238588522248ea9a716d8f88e62bff",
       "version_major": 2,
       "version_minor": 0
      },
      "text/plain": [
       "Batches:   0%|          | 0/1 [00:00<?, ?it/s]"
      ]
     },
     "metadata": {},
     "output_type": "display_data"
    },
    {
     "data": {
      "application/vnd.jupyter.widget-view+json": {
       "model_id": "c469e2fc51854e26bd58fcd697657693",
       "version_major": 2,
       "version_minor": 0
      },
      "text/plain": [
       "Batches:   0%|          | 0/1 [00:00<?, ?it/s]"
      ]
     },
     "metadata": {},
     "output_type": "display_data"
    },
    {
     "data": {
      "application/vnd.jupyter.widget-view+json": {
       "model_id": "98736e761b35426b935fa11b02f07342",
       "version_major": 2,
       "version_minor": 0
      },
      "text/plain": [
       "Batches:   0%|          | 0/1 [00:00<?, ?it/s]"
      ]
     },
     "metadata": {},
     "output_type": "display_data"
    },
    {
     "data": {
      "application/vnd.jupyter.widget-view+json": {
       "model_id": "99f5a602f59b42029ffa2bc7dc110693",
       "version_major": 2,
       "version_minor": 0
      },
      "text/plain": [
       "Batches:   0%|          | 0/1 [00:00<?, ?it/s]"
      ]
     },
     "metadata": {},
     "output_type": "display_data"
    },
    {
     "data": {
      "application/vnd.jupyter.widget-view+json": {
       "model_id": "46f90d8b311242a3b30fd3f83750767e",
       "version_major": 2,
       "version_minor": 0
      },
      "text/plain": [
       "Batches:   0%|          | 0/1 [00:00<?, ?it/s]"
      ]
     },
     "metadata": {},
     "output_type": "display_data"
    },
    {
     "data": {
      "application/vnd.jupyter.widget-view+json": {
       "model_id": "bb21241198b146a4902ce329d2c00d2e",
       "version_major": 2,
       "version_minor": 0
      },
      "text/plain": [
       "Batches:   0%|          | 0/1 [00:00<?, ?it/s]"
      ]
     },
     "metadata": {},
     "output_type": "display_data"
    },
    {
     "data": {
      "application/vnd.jupyter.widget-view+json": {
       "model_id": "50177da9a7314259b9320868b3272240",
       "version_major": 2,
       "version_minor": 0
      },
      "text/plain": [
       "Batches:   0%|          | 0/1 [00:00<?, ?it/s]"
      ]
     },
     "metadata": {},
     "output_type": "display_data"
    },
    {
     "data": {
      "application/vnd.jupyter.widget-view+json": {
       "model_id": "5b5e24f4e2f34922af964e4aa18edab3",
       "version_major": 2,
       "version_minor": 0
      },
      "text/plain": [
       "Batches:   0%|          | 0/1 [00:00<?, ?it/s]"
      ]
     },
     "metadata": {},
     "output_type": "display_data"
    },
    {
     "data": {
      "application/vnd.jupyter.widget-view+json": {
       "model_id": "802de035b02b46e593c42eb450d5add1",
       "version_major": 2,
       "version_minor": 0
      },
      "text/plain": [
       "Batches:   0%|          | 0/1 [00:00<?, ?it/s]"
      ]
     },
     "metadata": {},
     "output_type": "display_data"
    },
    {
     "data": {
      "application/vnd.jupyter.widget-view+json": {
       "model_id": "d02894c9d9014301b5f38baf1c068538",
       "version_major": 2,
       "version_minor": 0
      },
      "text/plain": [
       "Batches:   0%|          | 0/1 [00:00<?, ?it/s]"
      ]
     },
     "metadata": {},
     "output_type": "display_data"
    },
    {
     "data": {
      "application/vnd.jupyter.widget-view+json": {
       "model_id": "a8e4f5af6e4642339e112fdb0110147c",
       "version_major": 2,
       "version_minor": 0
      },
      "text/plain": [
       "Batches:   0%|          | 0/1 [00:00<?, ?it/s]"
      ]
     },
     "metadata": {},
     "output_type": "display_data"
    },
    {
     "data": {
      "application/vnd.jupyter.widget-view+json": {
       "model_id": "1138aa6be69f4295b4e8075180e4e888",
       "version_major": 2,
       "version_minor": 0
      },
      "text/plain": [
       "Batches:   0%|          | 0/1 [00:00<?, ?it/s]"
      ]
     },
     "metadata": {},
     "output_type": "display_data"
    },
    {
     "data": {
      "application/vnd.jupyter.widget-view+json": {
       "model_id": "abea819f30494911912395729cc9dfe0",
       "version_major": 2,
       "version_minor": 0
      },
      "text/plain": [
       "Batches:   0%|          | 0/1 [00:00<?, ?it/s]"
      ]
     },
     "metadata": {},
     "output_type": "display_data"
    },
    {
     "data": {
      "application/vnd.jupyter.widget-view+json": {
       "model_id": "68048829949547ad933ac28638d1951f",
       "version_major": 2,
       "version_minor": 0
      },
      "text/plain": [
       "Batches:   0%|          | 0/1 [00:00<?, ?it/s]"
      ]
     },
     "metadata": {},
     "output_type": "display_data"
    },
    {
     "data": {
      "application/vnd.jupyter.widget-view+json": {
       "model_id": "d24bb2837d0f418489f9c4f18ed6196d",
       "version_major": 2,
       "version_minor": 0
      },
      "text/plain": [
       "Batches:   0%|          | 0/1 [00:00<?, ?it/s]"
      ]
     },
     "metadata": {},
     "output_type": "display_data"
    },
    {
     "data": {
      "application/vnd.jupyter.widget-view+json": {
       "model_id": "2513160888d0446c91267628c9dc9df1",
       "version_major": 2,
       "version_minor": 0
      },
      "text/plain": [
       "Batches:   0%|          | 0/1 [00:00<?, ?it/s]"
      ]
     },
     "metadata": {},
     "output_type": "display_data"
    },
    {
     "data": {
      "application/vnd.jupyter.widget-view+json": {
       "model_id": "a231126f19ab45e09fe67aa72d60b4db",
       "version_major": 2,
       "version_minor": 0
      },
      "text/plain": [
       "Batches:   0%|          | 0/1 [00:00<?, ?it/s]"
      ]
     },
     "metadata": {},
     "output_type": "display_data"
    },
    {
     "data": {
      "application/vnd.jupyter.widget-view+json": {
       "model_id": "406383ebb9a542668c1eadda07fef889",
       "version_major": 2,
       "version_minor": 0
      },
      "text/plain": [
       "Batches:   0%|          | 0/1 [00:00<?, ?it/s]"
      ]
     },
     "metadata": {},
     "output_type": "display_data"
    },
    {
     "data": {
      "application/vnd.jupyter.widget-view+json": {
       "model_id": "13cfa4951a89420d96aa1b9cdc85c7b2",
       "version_major": 2,
       "version_minor": 0
      },
      "text/plain": [
       "Batches:   0%|          | 0/1 [00:00<?, ?it/s]"
      ]
     },
     "metadata": {},
     "output_type": "display_data"
    },
    {
     "data": {
      "application/vnd.jupyter.widget-view+json": {
       "model_id": "417c2c1cb6d740cca2da5af3f22db28e",
       "version_major": 2,
       "version_minor": 0
      },
      "text/plain": [
       "Batches:   0%|          | 0/1 [00:00<?, ?it/s]"
      ]
     },
     "metadata": {},
     "output_type": "display_data"
    },
    {
     "data": {
      "application/vnd.jupyter.widget-view+json": {
       "model_id": "208ea7289a9f4c7cb2b70c1689467f5f",
       "version_major": 2,
       "version_minor": 0
      },
      "text/plain": [
       "Batches:   0%|          | 0/1 [00:00<?, ?it/s]"
      ]
     },
     "metadata": {},
     "output_type": "display_data"
    },
    {
     "data": {
      "application/vnd.jupyter.widget-view+json": {
       "model_id": "cd635d31f06044618d6047b4a46afa5e",
       "version_major": 2,
       "version_minor": 0
      },
      "text/plain": [
       "Batches:   0%|          | 0/1 [00:00<?, ?it/s]"
      ]
     },
     "metadata": {},
     "output_type": "display_data"
    },
    {
     "data": {
      "application/vnd.jupyter.widget-view+json": {
       "model_id": "b1da58cf38d4442d91a5565c1b56dab2",
       "version_major": 2,
       "version_minor": 0
      },
      "text/plain": [
       "Batches:   0%|          | 0/1 [00:00<?, ?it/s]"
      ]
     },
     "metadata": {},
     "output_type": "display_data"
    },
    {
     "data": {
      "application/vnd.jupyter.widget-view+json": {
       "model_id": "d1a63774326d45a4a4a725a0cf739dfb",
       "version_major": 2,
       "version_minor": 0
      },
      "text/plain": [
       "Batches:   0%|          | 0/1 [00:00<?, ?it/s]"
      ]
     },
     "metadata": {},
     "output_type": "display_data"
    },
    {
     "data": {
      "application/vnd.jupyter.widget-view+json": {
       "model_id": "4f508c46de974e5caf0e5a0bd7290642",
       "version_major": 2,
       "version_minor": 0
      },
      "text/plain": [
       "Batches:   0%|          | 0/1 [00:00<?, ?it/s]"
      ]
     },
     "metadata": {},
     "output_type": "display_data"
    },
    {
     "data": {
      "application/vnd.jupyter.widget-view+json": {
       "model_id": "60f4f06784624be08008518e94e86977",
       "version_major": 2,
       "version_minor": 0
      },
      "text/plain": [
       "Batches:   0%|          | 0/1 [00:00<?, ?it/s]"
      ]
     },
     "metadata": {},
     "output_type": "display_data"
    },
    {
     "data": {
      "application/vnd.jupyter.widget-view+json": {
       "model_id": "e40053a918114ea9a34383479395f8d6",
       "version_major": 2,
       "version_minor": 0
      },
      "text/plain": [
       "Batches:   0%|          | 0/1 [00:00<?, ?it/s]"
      ]
     },
     "metadata": {},
     "output_type": "display_data"
    },
    {
     "data": {
      "application/vnd.jupyter.widget-view+json": {
       "model_id": "aa4582638e0046da9a8d5e5356a90fce",
       "version_major": 2,
       "version_minor": 0
      },
      "text/plain": [
       "Batches:   0%|          | 0/1 [00:00<?, ?it/s]"
      ]
     },
     "metadata": {},
     "output_type": "display_data"
    },
    {
     "data": {
      "application/vnd.jupyter.widget-view+json": {
       "model_id": "9e995a4c1ad54b96b6eaa87574fdef5e",
       "version_major": 2,
       "version_minor": 0
      },
      "text/plain": [
       "Batches:   0%|          | 0/1 [00:00<?, ?it/s]"
      ]
     },
     "metadata": {},
     "output_type": "display_data"
    },
    {
     "data": {
      "application/vnd.jupyter.widget-view+json": {
       "model_id": "19c2ced1ceb8424f81d70247c3681649",
       "version_major": 2,
       "version_minor": 0
      },
      "text/plain": [
       "Batches:   0%|          | 0/1 [00:00<?, ?it/s]"
      ]
     },
     "metadata": {},
     "output_type": "display_data"
    },
    {
     "data": {
      "application/vnd.jupyter.widget-view+json": {
       "model_id": "df9ec2f0be0445c9b5d2d435a076171c",
       "version_major": 2,
       "version_minor": 0
      },
      "text/plain": [
       "Batches:   0%|          | 0/1 [00:00<?, ?it/s]"
      ]
     },
     "metadata": {},
     "output_type": "display_data"
    },
    {
     "data": {
      "application/vnd.jupyter.widget-view+json": {
       "model_id": "0553bbc9d6c8452da5e451b9e00b8b16",
       "version_major": 2,
       "version_minor": 0
      },
      "text/plain": [
       "Batches:   0%|          | 0/1 [00:00<?, ?it/s]"
      ]
     },
     "metadata": {},
     "output_type": "display_data"
    },
    {
     "data": {
      "application/vnd.jupyter.widget-view+json": {
       "model_id": "b58a539fdb884d50a30b0d4713ce7119",
       "version_major": 2,
       "version_minor": 0
      },
      "text/plain": [
       "Batches:   0%|          | 0/1 [00:00<?, ?it/s]"
      ]
     },
     "metadata": {},
     "output_type": "display_data"
    },
    {
     "data": {
      "application/vnd.jupyter.widget-view+json": {
       "model_id": "7f3429fb5bab47b1988a9e6741cf9b30",
       "version_major": 2,
       "version_minor": 0
      },
      "text/plain": [
       "Batches:   0%|          | 0/1 [00:00<?, ?it/s]"
      ]
     },
     "metadata": {},
     "output_type": "display_data"
    },
    {
     "data": {
      "application/vnd.jupyter.widget-view+json": {
       "model_id": "69bd3018456446d99729c08b139b5002",
       "version_major": 2,
       "version_minor": 0
      },
      "text/plain": [
       "Batches:   0%|          | 0/1 [00:00<?, ?it/s]"
      ]
     },
     "metadata": {},
     "output_type": "display_data"
    },
    {
     "data": {
      "application/vnd.jupyter.widget-view+json": {
       "model_id": "f07686ef5399462da9f1030db65d77d7",
       "version_major": 2,
       "version_minor": 0
      },
      "text/plain": [
       "Batches:   0%|          | 0/1 [00:00<?, ?it/s]"
      ]
     },
     "metadata": {},
     "output_type": "display_data"
    },
    {
     "data": {
      "application/vnd.jupyter.widget-view+json": {
       "model_id": "6815c59c58a04dc8bc0fe42f0255b269",
       "version_major": 2,
       "version_minor": 0
      },
      "text/plain": [
       "Batches:   0%|          | 0/1 [00:00<?, ?it/s]"
      ]
     },
     "metadata": {},
     "output_type": "display_data"
    },
    {
     "data": {
      "application/vnd.jupyter.widget-view+json": {
       "model_id": "1bae4211beb44a5699d3115b1e27f94e",
       "version_major": 2,
       "version_minor": 0
      },
      "text/plain": [
       "Batches:   0%|          | 0/1 [00:00<?, ?it/s]"
      ]
     },
     "metadata": {},
     "output_type": "display_data"
    },
    {
     "data": {
      "application/vnd.jupyter.widget-view+json": {
       "model_id": "7bbbd03e67154ac2a7049590a08895d6",
       "version_major": 2,
       "version_minor": 0
      },
      "text/plain": [
       "Batches:   0%|          | 0/1 [00:00<?, ?it/s]"
      ]
     },
     "metadata": {},
     "output_type": "display_data"
    },
    {
     "data": {
      "application/vnd.jupyter.widget-view+json": {
       "model_id": "01c09a31c1df457cbbf3715ed6a2abf8",
       "version_major": 2,
       "version_minor": 0
      },
      "text/plain": [
       "Batches:   0%|          | 0/1 [00:00<?, ?it/s]"
      ]
     },
     "metadata": {},
     "output_type": "display_data"
    },
    {
     "data": {
      "application/vnd.jupyter.widget-view+json": {
       "model_id": "7ae092fac188426c89338b49e6e0d79e",
       "version_major": 2,
       "version_minor": 0
      },
      "text/plain": [
       "Batches:   0%|          | 0/1 [00:00<?, ?it/s]"
      ]
     },
     "metadata": {},
     "output_type": "display_data"
    },
    {
     "data": {
      "application/vnd.jupyter.widget-view+json": {
       "model_id": "20d8fcc85ddb47169ad2c936a19d4a6b",
       "version_major": 2,
       "version_minor": 0
      },
      "text/plain": [
       "Batches:   0%|          | 0/1 [00:00<?, ?it/s]"
      ]
     },
     "metadata": {},
     "output_type": "display_data"
    },
    {
     "data": {
      "application/vnd.jupyter.widget-view+json": {
       "model_id": "558d9618a0dc42fcbdb8db47ac3b44a0",
       "version_major": 2,
       "version_minor": 0
      },
      "text/plain": [
       "Batches:   0%|          | 0/1 [00:00<?, ?it/s]"
      ]
     },
     "metadata": {},
     "output_type": "display_data"
    },
    {
     "data": {
      "application/vnd.jupyter.widget-view+json": {
       "model_id": "d2dff381c80f40dfaa345b9ac5162569",
       "version_major": 2,
       "version_minor": 0
      },
      "text/plain": [
       "Batches:   0%|          | 0/1 [00:00<?, ?it/s]"
      ]
     },
     "metadata": {},
     "output_type": "display_data"
    },
    {
     "data": {
      "application/vnd.jupyter.widget-view+json": {
       "model_id": "92ce802bf4f9468294d63cb62346a7e6",
       "version_major": 2,
       "version_minor": 0
      },
      "text/plain": [
       "Batches:   0%|          | 0/1 [00:00<?, ?it/s]"
      ]
     },
     "metadata": {},
     "output_type": "display_data"
    },
    {
     "data": {
      "application/vnd.jupyter.widget-view+json": {
       "model_id": "0d7b3baf1da2410aad22f56b40a74756",
       "version_major": 2,
       "version_minor": 0
      },
      "text/plain": [
       "Batches:   0%|          | 0/1 [00:00<?, ?it/s]"
      ]
     },
     "metadata": {},
     "output_type": "display_data"
    },
    {
     "data": {
      "application/vnd.jupyter.widget-view+json": {
       "model_id": "bf98793115f2491f942bf900223dd264",
       "version_major": 2,
       "version_minor": 0
      },
      "text/plain": [
       "Batches:   0%|          | 0/1 [00:00<?, ?it/s]"
      ]
     },
     "metadata": {},
     "output_type": "display_data"
    },
    {
     "data": {
      "application/vnd.jupyter.widget-view+json": {
       "model_id": "7b492e7171884facad7b6776120de807",
       "version_major": 2,
       "version_minor": 0
      },
      "text/plain": [
       "Batches:   0%|          | 0/1 [00:00<?, ?it/s]"
      ]
     },
     "metadata": {},
     "output_type": "display_data"
    },
    {
     "data": {
      "application/vnd.jupyter.widget-view+json": {
       "model_id": "39d8d7be621a40ea91be30908c9d39a7",
       "version_major": 2,
       "version_minor": 0
      },
      "text/plain": [
       "Batches:   0%|          | 0/1 [00:00<?, ?it/s]"
      ]
     },
     "metadata": {},
     "output_type": "display_data"
    },
    {
     "data": {
      "application/vnd.jupyter.widget-view+json": {
       "model_id": "8f98e5b8678a40778247eda5e157037a",
       "version_major": 2,
       "version_minor": 0
      },
      "text/plain": [
       "Batches:   0%|          | 0/1 [00:00<?, ?it/s]"
      ]
     },
     "metadata": {},
     "output_type": "display_data"
    },
    {
     "data": {
      "application/vnd.jupyter.widget-view+json": {
       "model_id": "da64fc6150cc42e887237bbab2ded7a7",
       "version_major": 2,
       "version_minor": 0
      },
      "text/plain": [
       "Batches:   0%|          | 0/1 [00:00<?, ?it/s]"
      ]
     },
     "metadata": {},
     "output_type": "display_data"
    },
    {
     "data": {
      "application/vnd.jupyter.widget-view+json": {
       "model_id": "90a34a14f19945c2b7f8c330a1af495a",
       "version_major": 2,
       "version_minor": 0
      },
      "text/plain": [
       "Batches:   0%|          | 0/1 [00:00<?, ?it/s]"
      ]
     },
     "metadata": {},
     "output_type": "display_data"
    },
    {
     "data": {
      "application/vnd.jupyter.widget-view+json": {
       "model_id": "b19c6dd45cc0441da860c70b924a571a",
       "version_major": 2,
       "version_minor": 0
      },
      "text/plain": [
       "Batches:   0%|          | 0/1 [00:00<?, ?it/s]"
      ]
     },
     "metadata": {},
     "output_type": "display_data"
    },
    {
     "data": {
      "application/vnd.jupyter.widget-view+json": {
       "model_id": "cc4ee57432a940c7869611436d454e79",
       "version_major": 2,
       "version_minor": 0
      },
      "text/plain": [
       "Batches:   0%|          | 0/1 [00:00<?, ?it/s]"
      ]
     },
     "metadata": {},
     "output_type": "display_data"
    },
    {
     "data": {
      "application/vnd.jupyter.widget-view+json": {
       "model_id": "594acb012a5c41b2ba2deddc386f672f",
       "version_major": 2,
       "version_minor": 0
      },
      "text/plain": [
       "Batches:   0%|          | 0/1 [00:00<?, ?it/s]"
      ]
     },
     "metadata": {},
     "output_type": "display_data"
    },
    {
     "data": {
      "application/vnd.jupyter.widget-view+json": {
       "model_id": "f11aeca87ce34a74b38c7f25f3814324",
       "version_major": 2,
       "version_minor": 0
      },
      "text/plain": [
       "Batches:   0%|          | 0/1 [00:00<?, ?it/s]"
      ]
     },
     "metadata": {},
     "output_type": "display_data"
    },
    {
     "data": {
      "application/vnd.jupyter.widget-view+json": {
       "model_id": "7e90432f81814992aad8584d08cc8f82",
       "version_major": 2,
       "version_minor": 0
      },
      "text/plain": [
       "Batches:   0%|          | 0/1 [00:00<?, ?it/s]"
      ]
     },
     "metadata": {},
     "output_type": "display_data"
    },
    {
     "data": {
      "application/vnd.jupyter.widget-view+json": {
       "model_id": "8783ad7510a54376995280ff9a0fb737",
       "version_major": 2,
       "version_minor": 0
      },
      "text/plain": [
       "Batches:   0%|          | 0/1 [00:00<?, ?it/s]"
      ]
     },
     "metadata": {},
     "output_type": "display_data"
    },
    {
     "data": {
      "application/vnd.jupyter.widget-view+json": {
       "model_id": "968201acd0534d1797b3e74b54da4be0",
       "version_major": 2,
       "version_minor": 0
      },
      "text/plain": [
       "Batches:   0%|          | 0/1 [00:00<?, ?it/s]"
      ]
     },
     "metadata": {},
     "output_type": "display_data"
    },
    {
     "data": {
      "application/vnd.jupyter.widget-view+json": {
       "model_id": "3d94d3ea50aa44bea7a8e729e6eadcf3",
       "version_major": 2,
       "version_minor": 0
      },
      "text/plain": [
       "Batches:   0%|          | 0/1 [00:00<?, ?it/s]"
      ]
     },
     "metadata": {},
     "output_type": "display_data"
    },
    {
     "data": {
      "application/vnd.jupyter.widget-view+json": {
       "model_id": "3dee5e94674b4ff5ac879670771fb8c0",
       "version_major": 2,
       "version_minor": 0
      },
      "text/plain": [
       "Batches:   0%|          | 0/1 [00:00<?, ?it/s]"
      ]
     },
     "metadata": {},
     "output_type": "display_data"
    },
    {
     "data": {
      "application/vnd.jupyter.widget-view+json": {
       "model_id": "d1288a7d83a942e6beaeed136b39233d",
       "version_major": 2,
       "version_minor": 0
      },
      "text/plain": [
       "Batches:   0%|          | 0/1 [00:00<?, ?it/s]"
      ]
     },
     "metadata": {},
     "output_type": "display_data"
    },
    {
     "data": {
      "application/vnd.jupyter.widget-view+json": {
       "model_id": "555d09f0f06040f48e62e25ec0d7241b",
       "version_major": 2,
       "version_minor": 0
      },
      "text/plain": [
       "Batches:   0%|          | 0/1 [00:00<?, ?it/s]"
      ]
     },
     "metadata": {},
     "output_type": "display_data"
    },
    {
     "data": {
      "application/vnd.jupyter.widget-view+json": {
       "model_id": "c16c4bd4ae4340bd9e01dc4b1ba9e3c6",
       "version_major": 2,
       "version_minor": 0
      },
      "text/plain": [
       "Batches:   0%|          | 0/1 [00:00<?, ?it/s]"
      ]
     },
     "metadata": {},
     "output_type": "display_data"
    },
    {
     "data": {
      "application/vnd.jupyter.widget-view+json": {
       "model_id": "b1d3c9c5227144d6bcbbc68de443aa90",
       "version_major": 2,
       "version_minor": 0
      },
      "text/plain": [
       "Batches:   0%|          | 0/1 [00:00<?, ?it/s]"
      ]
     },
     "metadata": {},
     "output_type": "display_data"
    },
    {
     "data": {
      "application/vnd.jupyter.widget-view+json": {
       "model_id": "87df5913ed03474fb710b6d3d4cff7c0",
       "version_major": 2,
       "version_minor": 0
      },
      "text/plain": [
       "Batches:   0%|          | 0/1 [00:00<?, ?it/s]"
      ]
     },
     "metadata": {},
     "output_type": "display_data"
    },
    {
     "data": {
      "application/vnd.jupyter.widget-view+json": {
       "model_id": "ef38d3facaf84641b1f63fcb6741c34d",
       "version_major": 2,
       "version_minor": 0
      },
      "text/plain": [
       "Batches:   0%|          | 0/1 [00:00<?, ?it/s]"
      ]
     },
     "metadata": {},
     "output_type": "display_data"
    },
    {
     "data": {
      "application/vnd.jupyter.widget-view+json": {
       "model_id": "7a8b57791468467fbafbdc2200a9a844",
       "version_major": 2,
       "version_minor": 0
      },
      "text/plain": [
       "Batches:   0%|          | 0/1 [00:00<?, ?it/s]"
      ]
     },
     "metadata": {},
     "output_type": "display_data"
    },
    {
     "data": {
      "application/vnd.jupyter.widget-view+json": {
       "model_id": "56be245456504307ae20b44975fa5883",
       "version_major": 2,
       "version_minor": 0
      },
      "text/plain": [
       "Batches:   0%|          | 0/1 [00:00<?, ?it/s]"
      ]
     },
     "metadata": {},
     "output_type": "display_data"
    },
    {
     "data": {
      "application/vnd.jupyter.widget-view+json": {
       "model_id": "2f6480fe949642dca7040b9cb787ef1d",
       "version_major": 2,
       "version_minor": 0
      },
      "text/plain": [
       "Batches:   0%|          | 0/1 [00:00<?, ?it/s]"
      ]
     },
     "metadata": {},
     "output_type": "display_data"
    },
    {
     "data": {
      "application/vnd.jupyter.widget-view+json": {
       "model_id": "611bb24c3aa14c96bfcab937a65671e1",
       "version_major": 2,
       "version_minor": 0
      },
      "text/plain": [
       "Batches:   0%|          | 0/1 [00:00<?, ?it/s]"
      ]
     },
     "metadata": {},
     "output_type": "display_data"
    },
    {
     "data": {
      "application/vnd.jupyter.widget-view+json": {
       "model_id": "d40b76e49b684a0ebae95f35bc567731",
       "version_major": 2,
       "version_minor": 0
      },
      "text/plain": [
       "Batches:   0%|          | 0/1 [00:00<?, ?it/s]"
      ]
     },
     "metadata": {},
     "output_type": "display_data"
    },
    {
     "data": {
      "application/vnd.jupyter.widget-view+json": {
       "model_id": "782b672c7655461ea3cb2eac492e6937",
       "version_major": 2,
       "version_minor": 0
      },
      "text/plain": [
       "Batches:   0%|          | 0/1 [00:00<?, ?it/s]"
      ]
     },
     "metadata": {},
     "output_type": "display_data"
    },
    {
     "data": {
      "application/vnd.jupyter.widget-view+json": {
       "model_id": "4f5332483f3344b9b469214deb1b087e",
       "version_major": 2,
       "version_minor": 0
      },
      "text/plain": [
       "Batches:   0%|          | 0/1 [00:00<?, ?it/s]"
      ]
     },
     "metadata": {},
     "output_type": "display_data"
    },
    {
     "data": {
      "application/vnd.jupyter.widget-view+json": {
       "model_id": "6c498ef9d1884f7f9315f4e09cdbcad6",
       "version_major": 2,
       "version_minor": 0
      },
      "text/plain": [
       "Batches:   0%|          | 0/1 [00:00<?, ?it/s]"
      ]
     },
     "metadata": {},
     "output_type": "display_data"
    },
    {
     "data": {
      "application/vnd.jupyter.widget-view+json": {
       "model_id": "a4bdcb2d1c7546e6bf3e48054c8a027c",
       "version_major": 2,
       "version_minor": 0
      },
      "text/plain": [
       "Batches:   0%|          | 0/1 [00:00<?, ?it/s]"
      ]
     },
     "metadata": {},
     "output_type": "display_data"
    },
    {
     "data": {
      "application/vnd.jupyter.widget-view+json": {
       "model_id": "aa6dc8750a084362a6a27f3fb9d9c5ab",
       "version_major": 2,
       "version_minor": 0
      },
      "text/plain": [
       "Batches:   0%|          | 0/1 [00:00<?, ?it/s]"
      ]
     },
     "metadata": {},
     "output_type": "display_data"
    },
    {
     "data": {
      "application/vnd.jupyter.widget-view+json": {
       "model_id": "ead2f1ab82a449f493d46b8ce8ce804f",
       "version_major": 2,
       "version_minor": 0
      },
      "text/plain": [
       "Batches:   0%|          | 0/1 [00:00<?, ?it/s]"
      ]
     },
     "metadata": {},
     "output_type": "display_data"
    },
    {
     "data": {
      "application/vnd.jupyter.widget-view+json": {
       "model_id": "9bea639dbd8748dfa43d1977f3d3d3f7",
       "version_major": 2,
       "version_minor": 0
      },
      "text/plain": [
       "Batches:   0%|          | 0/1 [00:00<?, ?it/s]"
      ]
     },
     "metadata": {},
     "output_type": "display_data"
    },
    {
     "data": {
      "application/vnd.jupyter.widget-view+json": {
       "model_id": "a6a2eb6ec70546fa8e3a41845afa2a94",
       "version_major": 2,
       "version_minor": 0
      },
      "text/plain": [
       "Batches:   0%|          | 0/1 [00:00<?, ?it/s]"
      ]
     },
     "metadata": {},
     "output_type": "display_data"
    },
    {
     "data": {
      "application/vnd.jupyter.widget-view+json": {
       "model_id": "749b5c048cd24124a5de8d8674da48e1",
       "version_major": 2,
       "version_minor": 0
      },
      "text/plain": [
       "Batches:   0%|          | 0/1 [00:00<?, ?it/s]"
      ]
     },
     "metadata": {},
     "output_type": "display_data"
    },
    {
     "data": {
      "application/vnd.jupyter.widget-view+json": {
       "model_id": "ff9ab1516a8d46f9bd46007d92c60709",
       "version_major": 2,
       "version_minor": 0
      },
      "text/plain": [
       "Batches:   0%|          | 0/1 [00:00<?, ?it/s]"
      ]
     },
     "metadata": {},
     "output_type": "display_data"
    },
    {
     "data": {
      "application/vnd.jupyter.widget-view+json": {
       "model_id": "bd73f92c76374815ac952dc43c5f5537",
       "version_major": 2,
       "version_minor": 0
      },
      "text/plain": [
       "Batches:   0%|          | 0/1 [00:00<?, ?it/s]"
      ]
     },
     "metadata": {},
     "output_type": "display_data"
    },
    {
     "data": {
      "application/vnd.jupyter.widget-view+json": {
       "model_id": "9667c3cc29834f409b37af92668aa98d",
       "version_major": 2,
       "version_minor": 0
      },
      "text/plain": [
       "Batches:   0%|          | 0/1 [00:00<?, ?it/s]"
      ]
     },
     "metadata": {},
     "output_type": "display_data"
    },
    {
     "data": {
      "application/vnd.jupyter.widget-view+json": {
       "model_id": "311d64ebfd804cbe9621a369c4cd988a",
       "version_major": 2,
       "version_minor": 0
      },
      "text/plain": [
       "Batches:   0%|          | 0/1 [00:00<?, ?it/s]"
      ]
     },
     "metadata": {},
     "output_type": "display_data"
    },
    {
     "data": {
      "application/vnd.jupyter.widget-view+json": {
       "model_id": "8e3e0dda2f0c4950af17d85e6f1f468d",
       "version_major": 2,
       "version_minor": 0
      },
      "text/plain": [
       "Batches:   0%|          | 0/1 [00:00<?, ?it/s]"
      ]
     },
     "metadata": {},
     "output_type": "display_data"
    },
    {
     "data": {
      "application/vnd.jupyter.widget-view+json": {
       "model_id": "700dcad52a1d4fb49957f0a855bc45d3",
       "version_major": 2,
       "version_minor": 0
      },
      "text/plain": [
       "Batches:   0%|          | 0/1 [00:00<?, ?it/s]"
      ]
     },
     "metadata": {},
     "output_type": "display_data"
    },
    {
     "data": {
      "application/vnd.jupyter.widget-view+json": {
       "model_id": "d47de2a62336417c988f7720dd6b6da1",
       "version_major": 2,
       "version_minor": 0
      },
      "text/plain": [
       "Batches:   0%|          | 0/1 [00:00<?, ?it/s]"
      ]
     },
     "metadata": {},
     "output_type": "display_data"
    },
    {
     "data": {
      "application/vnd.jupyter.widget-view+json": {
       "model_id": "c2c0cff4596f4f66b4c92eb9ba7626cd",
       "version_major": 2,
       "version_minor": 0
      },
      "text/plain": [
       "Batches:   0%|          | 0/1 [00:00<?, ?it/s]"
      ]
     },
     "metadata": {},
     "output_type": "display_data"
    },
    {
     "data": {
      "application/vnd.jupyter.widget-view+json": {
       "model_id": "ec4baf4ec07944feb1b587b76a4ee960",
       "version_major": 2,
       "version_minor": 0
      },
      "text/plain": [
       "Batches:   0%|          | 0/1 [00:00<?, ?it/s]"
      ]
     },
     "metadata": {},
     "output_type": "display_data"
    },
    {
     "data": {
      "application/vnd.jupyter.widget-view+json": {
       "model_id": "a0db12c5812a4c01a2bcbdb4a14623a2",
       "version_major": 2,
       "version_minor": 0
      },
      "text/plain": [
       "Batches:   0%|          | 0/1 [00:00<?, ?it/s]"
      ]
     },
     "metadata": {},
     "output_type": "display_data"
    },
    {
     "data": {
      "application/vnd.jupyter.widget-view+json": {
       "model_id": "7d3d1825ceb643209f19e13c206ce703",
       "version_major": 2,
       "version_minor": 0
      },
      "text/plain": [
       "Batches:   0%|          | 0/1 [00:00<?, ?it/s]"
      ]
     },
     "metadata": {},
     "output_type": "display_data"
    },
    {
     "data": {
      "application/vnd.jupyter.widget-view+json": {
       "model_id": "19680760416041018ca8eed8bef848a6",
       "version_major": 2,
       "version_minor": 0
      },
      "text/plain": [
       "Batches:   0%|          | 0/1 [00:00<?, ?it/s]"
      ]
     },
     "metadata": {},
     "output_type": "display_data"
    },
    {
     "data": {
      "application/vnd.jupyter.widget-view+json": {
       "model_id": "29749a89714b4065889dff1192d5856b",
       "version_major": 2,
       "version_minor": 0
      },
      "text/plain": [
       "Batches:   0%|          | 0/1 [00:00<?, ?it/s]"
      ]
     },
     "metadata": {},
     "output_type": "display_data"
    },
    {
     "data": {
      "application/vnd.jupyter.widget-view+json": {
       "model_id": "ff2f8c97bf734640b9f881b5282853ab",
       "version_major": 2,
       "version_minor": 0
      },
      "text/plain": [
       "Batches:   0%|          | 0/1 [00:00<?, ?it/s]"
      ]
     },
     "metadata": {},
     "output_type": "display_data"
    },
    {
     "data": {
      "application/vnd.jupyter.widget-view+json": {
       "model_id": "4f6f615932e84a0e87c8770087de563f",
       "version_major": 2,
       "version_minor": 0
      },
      "text/plain": [
       "Batches:   0%|          | 0/1 [00:00<?, ?it/s]"
      ]
     },
     "metadata": {},
     "output_type": "display_data"
    },
    {
     "data": {
      "application/vnd.jupyter.widget-view+json": {
       "model_id": "ab7508a474f44fa2b8a879f880f60480",
       "version_major": 2,
       "version_minor": 0
      },
      "text/plain": [
       "Batches:   0%|          | 0/1 [00:00<?, ?it/s]"
      ]
     },
     "metadata": {},
     "output_type": "display_data"
    },
    {
     "data": {
      "application/vnd.jupyter.widget-view+json": {
       "model_id": "7349ca5829f143fcb36049aeb6b8048a",
       "version_major": 2,
       "version_minor": 0
      },
      "text/plain": [
       "Batches:   0%|          | 0/1 [00:00<?, ?it/s]"
      ]
     },
     "metadata": {},
     "output_type": "display_data"
    },
    {
     "data": {
      "application/vnd.jupyter.widget-view+json": {
       "model_id": "f21f56ae6d66482f9ad1c8e5b11bad07",
       "version_major": 2,
       "version_minor": 0
      },
      "text/plain": [
       "Batches:   0%|          | 0/1 [00:00<?, ?it/s]"
      ]
     },
     "metadata": {},
     "output_type": "display_data"
    },
    {
     "data": {
      "application/vnd.jupyter.widget-view+json": {
       "model_id": "4d28fba81c4947589dc2b86addc8a2a7",
       "version_major": 2,
       "version_minor": 0
      },
      "text/plain": [
       "Batches:   0%|          | 0/1 [00:00<?, ?it/s]"
      ]
     },
     "metadata": {},
     "output_type": "display_data"
    },
    {
     "data": {
      "application/vnd.jupyter.widget-view+json": {
       "model_id": "911ed6ec70a644ceb95bc1cf7f7eb2e2",
       "version_major": 2,
       "version_minor": 0
      },
      "text/plain": [
       "Batches:   0%|          | 0/1 [00:00<?, ?it/s]"
      ]
     },
     "metadata": {},
     "output_type": "display_data"
    },
    {
     "data": {
      "application/vnd.jupyter.widget-view+json": {
       "model_id": "734a9dfdd9894e74b7a0b1aaecc846fa",
       "version_major": 2,
       "version_minor": 0
      },
      "text/plain": [
       "Batches:   0%|          | 0/1 [00:00<?, ?it/s]"
      ]
     },
     "metadata": {},
     "output_type": "display_data"
    },
    {
     "data": {
      "application/vnd.jupyter.widget-view+json": {
       "model_id": "732e0873644542fa8aacfbeb21a38766",
       "version_major": 2,
       "version_minor": 0
      },
      "text/plain": [
       "Batches:   0%|          | 0/1 [00:00<?, ?it/s]"
      ]
     },
     "metadata": {},
     "output_type": "display_data"
    },
    {
     "data": {
      "application/vnd.jupyter.widget-view+json": {
       "model_id": "33d6f63b6fa447b78435cfbb53c3ea11",
       "version_major": 2,
       "version_minor": 0
      },
      "text/plain": [
       "Batches:   0%|          | 0/1 [00:00<?, ?it/s]"
      ]
     },
     "metadata": {},
     "output_type": "display_data"
    },
    {
     "data": {
      "application/vnd.jupyter.widget-view+json": {
       "model_id": "bef76e9261e64d25849082af86a6ca25",
       "version_major": 2,
       "version_minor": 0
      },
      "text/plain": [
       "Batches:   0%|          | 0/1 [00:00<?, ?it/s]"
      ]
     },
     "metadata": {},
     "output_type": "display_data"
    },
    {
     "data": {
      "application/vnd.jupyter.widget-view+json": {
       "model_id": "dbc0efa9d23542c6a8d5f33a876fecb3",
       "version_major": 2,
       "version_minor": 0
      },
      "text/plain": [
       "Batches:   0%|          | 0/1 [00:00<?, ?it/s]"
      ]
     },
     "metadata": {},
     "output_type": "display_data"
    },
    {
     "data": {
      "application/vnd.jupyter.widget-view+json": {
       "model_id": "24c14ce21305486cb7e02259d3441d1a",
       "version_major": 2,
       "version_minor": 0
      },
      "text/plain": [
       "Batches:   0%|          | 0/1 [00:00<?, ?it/s]"
      ]
     },
     "metadata": {},
     "output_type": "display_data"
    },
    {
     "data": {
      "application/vnd.jupyter.widget-view+json": {
       "model_id": "8b9f23b82af74d38bac00812a1218fcc",
       "version_major": 2,
       "version_minor": 0
      },
      "text/plain": [
       "Batches:   0%|          | 0/1 [00:00<?, ?it/s]"
      ]
     },
     "metadata": {},
     "output_type": "display_data"
    },
    {
     "data": {
      "application/vnd.jupyter.widget-view+json": {
       "model_id": "dda85cb6e34d47049310b35f4a060d05",
       "version_major": 2,
       "version_minor": 0
      },
      "text/plain": [
       "Batches:   0%|          | 0/1 [00:00<?, ?it/s]"
      ]
     },
     "metadata": {},
     "output_type": "display_data"
    },
    {
     "data": {
      "application/vnd.jupyter.widget-view+json": {
       "model_id": "422711f3bf964ada964094db4b2a1ebc",
       "version_major": 2,
       "version_minor": 0
      },
      "text/plain": [
       "Batches:   0%|          | 0/1 [00:00<?, ?it/s]"
      ]
     },
     "metadata": {},
     "output_type": "display_data"
    },
    {
     "data": {
      "application/vnd.jupyter.widget-view+json": {
       "model_id": "40f94531f07b464eba5ddd1f87a386d2",
       "version_major": 2,
       "version_minor": 0
      },
      "text/plain": [
       "Batches:   0%|          | 0/1 [00:00<?, ?it/s]"
      ]
     },
     "metadata": {},
     "output_type": "display_data"
    },
    {
     "data": {
      "application/vnd.jupyter.widget-view+json": {
       "model_id": "2b02942f0d314ee3ac058674b4160c86",
       "version_major": 2,
       "version_minor": 0
      },
      "text/plain": [
       "Batches:   0%|          | 0/1 [00:00<?, ?it/s]"
      ]
     },
     "metadata": {},
     "output_type": "display_data"
    },
    {
     "data": {
      "application/vnd.jupyter.widget-view+json": {
       "model_id": "236322cec6224911b7af1c2321daee05",
       "version_major": 2,
       "version_minor": 0
      },
      "text/plain": [
       "Batches:   0%|          | 0/1 [00:00<?, ?it/s]"
      ]
     },
     "metadata": {},
     "output_type": "display_data"
    },
    {
     "data": {
      "application/vnd.jupyter.widget-view+json": {
       "model_id": "9c24c4c348d240d6b212d471e5359f76",
       "version_major": 2,
       "version_minor": 0
      },
      "text/plain": [
       "Batches:   0%|          | 0/1 [00:00<?, ?it/s]"
      ]
     },
     "metadata": {},
     "output_type": "display_data"
    },
    {
     "data": {
      "application/vnd.jupyter.widget-view+json": {
       "model_id": "020940b5aec7457c847f1f8ccfc86d2c",
       "version_major": 2,
       "version_minor": 0
      },
      "text/plain": [
       "Batches:   0%|          | 0/1 [00:00<?, ?it/s]"
      ]
     },
     "metadata": {},
     "output_type": "display_data"
    },
    {
     "data": {
      "application/vnd.jupyter.widget-view+json": {
       "model_id": "04a055d331f24871b32b6c15136d9871",
       "version_major": 2,
       "version_minor": 0
      },
      "text/plain": [
       "Batches:   0%|          | 0/1 [00:00<?, ?it/s]"
      ]
     },
     "metadata": {},
     "output_type": "display_data"
    },
    {
     "data": {
      "application/vnd.jupyter.widget-view+json": {
       "model_id": "c3d8088a9e77452b899a0ba34c38273c",
       "version_major": 2,
       "version_minor": 0
      },
      "text/plain": [
       "Batches:   0%|          | 0/1 [00:00<?, ?it/s]"
      ]
     },
     "metadata": {},
     "output_type": "display_data"
    },
    {
     "data": {
      "application/vnd.jupyter.widget-view+json": {
       "model_id": "4011e8781dcc40d4acd9a625a1217398",
       "version_major": 2,
       "version_minor": 0
      },
      "text/plain": [
       "Batches:   0%|          | 0/1 [00:00<?, ?it/s]"
      ]
     },
     "metadata": {},
     "output_type": "display_data"
    },
    {
     "data": {
      "application/vnd.jupyter.widget-view+json": {
       "model_id": "d7dbdddd6a244bb4986401ec60ac9194",
       "version_major": 2,
       "version_minor": 0
      },
      "text/plain": [
       "Batches:   0%|          | 0/1 [00:00<?, ?it/s]"
      ]
     },
     "metadata": {},
     "output_type": "display_data"
    },
    {
     "data": {
      "application/vnd.jupyter.widget-view+json": {
       "model_id": "8a314033343645dc95aec3734dce0ea6",
       "version_major": 2,
       "version_minor": 0
      },
      "text/plain": [
       "Batches:   0%|          | 0/1 [00:00<?, ?it/s]"
      ]
     },
     "metadata": {},
     "output_type": "display_data"
    },
    {
     "data": {
      "application/vnd.jupyter.widget-view+json": {
       "model_id": "c7147ce8420945afa0dafc1920da1c93",
       "version_major": 2,
       "version_minor": 0
      },
      "text/plain": [
       "Batches:   0%|          | 0/1 [00:00<?, ?it/s]"
      ]
     },
     "metadata": {},
     "output_type": "display_data"
    },
    {
     "data": {
      "application/vnd.jupyter.widget-view+json": {
       "model_id": "573f4c147e4e4dcfb01f36c437777a51",
       "version_major": 2,
       "version_minor": 0
      },
      "text/plain": [
       "Batches:   0%|          | 0/1 [00:00<?, ?it/s]"
      ]
     },
     "metadata": {},
     "output_type": "display_data"
    },
    {
     "data": {
      "application/vnd.jupyter.widget-view+json": {
       "model_id": "9cbfb8fca17b4938a9f7c0de1adea57a",
       "version_major": 2,
       "version_minor": 0
      },
      "text/plain": [
       "Batches:   0%|          | 0/1 [00:00<?, ?it/s]"
      ]
     },
     "metadata": {},
     "output_type": "display_data"
    },
    {
     "data": {
      "application/vnd.jupyter.widget-view+json": {
       "model_id": "7c4626bb57244b8390e77a84a84df423",
       "version_major": 2,
       "version_minor": 0
      },
      "text/plain": [
       "Batches:   0%|          | 0/1 [00:00<?, ?it/s]"
      ]
     },
     "metadata": {},
     "output_type": "display_data"
    },
    {
     "data": {
      "application/vnd.jupyter.widget-view+json": {
       "model_id": "c0ea951f03ba4db08930afcd16dcb22b",
       "version_major": 2,
       "version_minor": 0
      },
      "text/plain": [
       "Batches:   0%|          | 0/1 [00:00<?, ?it/s]"
      ]
     },
     "metadata": {},
     "output_type": "display_data"
    },
    {
     "data": {
      "application/vnd.jupyter.widget-view+json": {
       "model_id": "adbf36ad5a774401951a2b4552a7b420",
       "version_major": 2,
       "version_minor": 0
      },
      "text/plain": [
       "Batches:   0%|          | 0/1 [00:00<?, ?it/s]"
      ]
     },
     "metadata": {},
     "output_type": "display_data"
    },
    {
     "data": {
      "application/vnd.jupyter.widget-view+json": {
       "model_id": "f64335a629f147debd64d3a8497f4f60",
       "version_major": 2,
       "version_minor": 0
      },
      "text/plain": [
       "Batches:   0%|          | 0/1 [00:00<?, ?it/s]"
      ]
     },
     "metadata": {},
     "output_type": "display_data"
    },
    {
     "data": {
      "application/vnd.jupyter.widget-view+json": {
       "model_id": "e64580c3ced243c99acfdc605a784dc4",
       "version_major": 2,
       "version_minor": 0
      },
      "text/plain": [
       "Batches:   0%|          | 0/1 [00:00<?, ?it/s]"
      ]
     },
     "metadata": {},
     "output_type": "display_data"
    },
    {
     "data": {
      "application/vnd.jupyter.widget-view+json": {
       "model_id": "eddd7409ebf54be4ad6cf731840940d2",
       "version_major": 2,
       "version_minor": 0
      },
      "text/plain": [
       "Batches:   0%|          | 0/1 [00:00<?, ?it/s]"
      ]
     },
     "metadata": {},
     "output_type": "display_data"
    },
    {
     "data": {
      "application/vnd.jupyter.widget-view+json": {
       "model_id": "c2ba2c5f4b0544ae83dd484fc3070824",
       "version_major": 2,
       "version_minor": 0
      },
      "text/plain": [
       "Batches:   0%|          | 0/1 [00:00<?, ?it/s]"
      ]
     },
     "metadata": {},
     "output_type": "display_data"
    },
    {
     "data": {
      "application/vnd.jupyter.widget-view+json": {
       "model_id": "fff0b5a80254452093918847eb2f018a",
       "version_major": 2,
       "version_minor": 0
      },
      "text/plain": [
       "Batches:   0%|          | 0/1 [00:00<?, ?it/s]"
      ]
     },
     "metadata": {},
     "output_type": "display_data"
    },
    {
     "data": {
      "application/vnd.jupyter.widget-view+json": {
       "model_id": "511f511b16244148b06efd44d6bff7d4",
       "version_major": 2,
       "version_minor": 0
      },
      "text/plain": [
       "Batches:   0%|          | 0/1 [00:00<?, ?it/s]"
      ]
     },
     "metadata": {},
     "output_type": "display_data"
    },
    {
     "data": {
      "application/vnd.jupyter.widget-view+json": {
       "model_id": "8344a28c400f43d19c5723cf01662387",
       "version_major": 2,
       "version_minor": 0
      },
      "text/plain": [
       "Batches:   0%|          | 0/1 [00:00<?, ?it/s]"
      ]
     },
     "metadata": {},
     "output_type": "display_data"
    },
    {
     "data": {
      "application/vnd.jupyter.widget-view+json": {
       "model_id": "0569cac6f39a46b09d243a4574465ef3",
       "version_major": 2,
       "version_minor": 0
      },
      "text/plain": [
       "Batches:   0%|          | 0/1 [00:00<?, ?it/s]"
      ]
     },
     "metadata": {},
     "output_type": "display_data"
    },
    {
     "data": {
      "application/vnd.jupyter.widget-view+json": {
       "model_id": "939eea2382e14d3f88dddbc963506d8d",
       "version_major": 2,
       "version_minor": 0
      },
      "text/plain": [
       "Batches:   0%|          | 0/1 [00:00<?, ?it/s]"
      ]
     },
     "metadata": {},
     "output_type": "display_data"
    },
    {
     "data": {
      "application/vnd.jupyter.widget-view+json": {
       "model_id": "41865c317d9245549428cbc310d0f82e",
       "version_major": 2,
       "version_minor": 0
      },
      "text/plain": [
       "Batches:   0%|          | 0/1 [00:00<?, ?it/s]"
      ]
     },
     "metadata": {},
     "output_type": "display_data"
    },
    {
     "data": {
      "application/vnd.jupyter.widget-view+json": {
       "model_id": "0857014407f44d029256f710621cb606",
       "version_major": 2,
       "version_minor": 0
      },
      "text/plain": [
       "Batches:   0%|          | 0/1 [00:00<?, ?it/s]"
      ]
     },
     "metadata": {},
     "output_type": "display_data"
    },
    {
     "data": {
      "application/vnd.jupyter.widget-view+json": {
       "model_id": "125f4b112bab4e49a22bf26082ef301d",
       "version_major": 2,
       "version_minor": 0
      },
      "text/plain": [
       "Batches:   0%|          | 0/1 [00:00<?, ?it/s]"
      ]
     },
     "metadata": {},
     "output_type": "display_data"
    },
    {
     "data": {
      "application/vnd.jupyter.widget-view+json": {
       "model_id": "78607b8f59734950b0b32b2da1669abf",
       "version_major": 2,
       "version_minor": 0
      },
      "text/plain": [
       "Batches:   0%|          | 0/1 [00:00<?, ?it/s]"
      ]
     },
     "metadata": {},
     "output_type": "display_data"
    },
    {
     "data": {
      "application/vnd.jupyter.widget-view+json": {
       "model_id": "fc50172f242b411982aee17cf1d3f42c",
       "version_major": 2,
       "version_minor": 0
      },
      "text/plain": [
       "Batches:   0%|          | 0/1 [00:00<?, ?it/s]"
      ]
     },
     "metadata": {},
     "output_type": "display_data"
    },
    {
     "data": {
      "application/vnd.jupyter.widget-view+json": {
       "model_id": "80b5f8f22d2348ee8872c8af64c14fa5",
       "version_major": 2,
       "version_minor": 0
      },
      "text/plain": [
       "Batches:   0%|          | 0/1 [00:00<?, ?it/s]"
      ]
     },
     "metadata": {},
     "output_type": "display_data"
    },
    {
     "data": {
      "application/vnd.jupyter.widget-view+json": {
       "model_id": "5d56641c85e544568fd6b2a1cea0b01d",
       "version_major": 2,
       "version_minor": 0
      },
      "text/plain": [
       "Batches:   0%|          | 0/1 [00:00<?, ?it/s]"
      ]
     },
     "metadata": {},
     "output_type": "display_data"
    },
    {
     "data": {
      "application/vnd.jupyter.widget-view+json": {
       "model_id": "fc0ea2781f4140dd8c024ef65e809c23",
       "version_major": 2,
       "version_minor": 0
      },
      "text/plain": [
       "Batches:   0%|          | 0/1 [00:00<?, ?it/s]"
      ]
     },
     "metadata": {},
     "output_type": "display_data"
    },
    {
     "data": {
      "application/vnd.jupyter.widget-view+json": {
       "model_id": "c415bd41a41640a293c1f6ceada24ac3",
       "version_major": 2,
       "version_minor": 0
      },
      "text/plain": [
       "Batches:   0%|          | 0/1 [00:00<?, ?it/s]"
      ]
     },
     "metadata": {},
     "output_type": "display_data"
    },
    {
     "data": {
      "application/vnd.jupyter.widget-view+json": {
       "model_id": "e5de03d40e174b5c912509b1cc749d59",
       "version_major": 2,
       "version_minor": 0
      },
      "text/plain": [
       "Batches:   0%|          | 0/1 [00:00<?, ?it/s]"
      ]
     },
     "metadata": {},
     "output_type": "display_data"
    },
    {
     "data": {
      "application/vnd.jupyter.widget-view+json": {
       "model_id": "b0d707447d0041e5ae86984169b492ea",
       "version_major": 2,
       "version_minor": 0
      },
      "text/plain": [
       "Batches:   0%|          | 0/1 [00:00<?, ?it/s]"
      ]
     },
     "metadata": {},
     "output_type": "display_data"
    },
    {
     "data": {
      "application/vnd.jupyter.widget-view+json": {
       "model_id": "e2666962e01c4f26827e7c9fb0a60f07",
       "version_major": 2,
       "version_minor": 0
      },
      "text/plain": [
       "Batches:   0%|          | 0/1 [00:00<?, ?it/s]"
      ]
     },
     "metadata": {},
     "output_type": "display_data"
    },
    {
     "data": {
      "application/vnd.jupyter.widget-view+json": {
       "model_id": "24fab8d1a0524025bac1e8144edd5db7",
       "version_major": 2,
       "version_minor": 0
      },
      "text/plain": [
       "Batches:   0%|          | 0/1 [00:00<?, ?it/s]"
      ]
     },
     "metadata": {},
     "output_type": "display_data"
    },
    {
     "data": {
      "application/vnd.jupyter.widget-view+json": {
       "model_id": "10b4bdc56c224c7e86c037d0403dcd93",
       "version_major": 2,
       "version_minor": 0
      },
      "text/plain": [
       "Batches:   0%|          | 0/1 [00:00<?, ?it/s]"
      ]
     },
     "metadata": {},
     "output_type": "display_data"
    },
    {
     "data": {
      "application/vnd.jupyter.widget-view+json": {
       "model_id": "fbf8a86b542d4af2af2376d39e9a1ba2",
       "version_major": 2,
       "version_minor": 0
      },
      "text/plain": [
       "Batches:   0%|          | 0/1 [00:00<?, ?it/s]"
      ]
     },
     "metadata": {},
     "output_type": "display_data"
    },
    {
     "data": {
      "application/vnd.jupyter.widget-view+json": {
       "model_id": "f5a39c52efda47fe84e803d80be203cb",
       "version_major": 2,
       "version_minor": 0
      },
      "text/plain": [
       "Batches:   0%|          | 0/1 [00:00<?, ?it/s]"
      ]
     },
     "metadata": {},
     "output_type": "display_data"
    },
    {
     "data": {
      "application/vnd.jupyter.widget-view+json": {
       "model_id": "9fee74300490485a98a61ec13a0fe818",
       "version_major": 2,
       "version_minor": 0
      },
      "text/plain": [
       "Batches:   0%|          | 0/1 [00:00<?, ?it/s]"
      ]
     },
     "metadata": {},
     "output_type": "display_data"
    },
    {
     "data": {
      "application/vnd.jupyter.widget-view+json": {
       "model_id": "1b29897f225c4398a9809c02efb012e4",
       "version_major": 2,
       "version_minor": 0
      },
      "text/plain": [
       "Batches:   0%|          | 0/1 [00:00<?, ?it/s]"
      ]
     },
     "metadata": {},
     "output_type": "display_data"
    },
    {
     "data": {
      "application/vnd.jupyter.widget-view+json": {
       "model_id": "f3bde3fff9f6456f9d350983c255db48",
       "version_major": 2,
       "version_minor": 0
      },
      "text/plain": [
       "Batches:   0%|          | 0/1 [00:00<?, ?it/s]"
      ]
     },
     "metadata": {},
     "output_type": "display_data"
    },
    {
     "data": {
      "application/vnd.jupyter.widget-view+json": {
       "model_id": "42a055a9e36c42cc9d41f137aaa3e2cc",
       "version_major": 2,
       "version_minor": 0
      },
      "text/plain": [
       "Batches:   0%|          | 0/1 [00:00<?, ?it/s]"
      ]
     },
     "metadata": {},
     "output_type": "display_data"
    },
    {
     "data": {
      "application/vnd.jupyter.widget-view+json": {
       "model_id": "ec6598496e3b47019b8c5322e249dd7b",
       "version_major": 2,
       "version_minor": 0
      },
      "text/plain": [
       "Batches:   0%|          | 0/1 [00:00<?, ?it/s]"
      ]
     },
     "metadata": {},
     "output_type": "display_data"
    },
    {
     "data": {
      "application/vnd.jupyter.widget-view+json": {
       "model_id": "1451165c9dda4a3792bab233f2c89c7d",
       "version_major": 2,
       "version_minor": 0
      },
      "text/plain": [
       "Batches:   0%|          | 0/1 [00:00<?, ?it/s]"
      ]
     },
     "metadata": {},
     "output_type": "display_data"
    },
    {
     "data": {
      "application/vnd.jupyter.widget-view+json": {
       "model_id": "a3a68990bc5f4bab83fcac9a5d03ecb3",
       "version_major": 2,
       "version_minor": 0
      },
      "text/plain": [
       "Batches:   0%|          | 0/1 [00:00<?, ?it/s]"
      ]
     },
     "metadata": {},
     "output_type": "display_data"
    },
    {
     "data": {
      "application/vnd.jupyter.widget-view+json": {
       "model_id": "ccad65ae726a49e498594ec5b80d2969",
       "version_major": 2,
       "version_minor": 0
      },
      "text/plain": [
       "Batches:   0%|          | 0/1 [00:00<?, ?it/s]"
      ]
     },
     "metadata": {},
     "output_type": "display_data"
    },
    {
     "data": {
      "application/vnd.jupyter.widget-view+json": {
       "model_id": "60bc1bc037f645098347d44276c139e0",
       "version_major": 2,
       "version_minor": 0
      },
      "text/plain": [
       "Batches:   0%|          | 0/1 [00:00<?, ?it/s]"
      ]
     },
     "metadata": {},
     "output_type": "display_data"
    },
    {
     "data": {
      "application/vnd.jupyter.widget-view+json": {
       "model_id": "c896eeeed4344803a4690e9638653ec4",
       "version_major": 2,
       "version_minor": 0
      },
      "text/plain": [
       "Batches:   0%|          | 0/1 [00:00<?, ?it/s]"
      ]
     },
     "metadata": {},
     "output_type": "display_data"
    },
    {
     "data": {
      "application/vnd.jupyter.widget-view+json": {
       "model_id": "37e9b1500b2a433bb5291e20e39315e5",
       "version_major": 2,
       "version_minor": 0
      },
      "text/plain": [
       "Batches:   0%|          | 0/1 [00:00<?, ?it/s]"
      ]
     },
     "metadata": {},
     "output_type": "display_data"
    },
    {
     "data": {
      "application/vnd.jupyter.widget-view+json": {
       "model_id": "d1c3e04396194548a309b78238029b9d",
       "version_major": 2,
       "version_minor": 0
      },
      "text/plain": [
       "Batches:   0%|          | 0/1 [00:00<?, ?it/s]"
      ]
     },
     "metadata": {},
     "output_type": "display_data"
    },
    {
     "data": {
      "application/vnd.jupyter.widget-view+json": {
       "model_id": "c23118b7e60d441cb0c7cf88f5664965",
       "version_major": 2,
       "version_minor": 0
      },
      "text/plain": [
       "Batches:   0%|          | 0/1 [00:00<?, ?it/s]"
      ]
     },
     "metadata": {},
     "output_type": "display_data"
    },
    {
     "data": {
      "application/vnd.jupyter.widget-view+json": {
       "model_id": "9d29c1674da84e8ca227239aad2370f7",
       "version_major": 2,
       "version_minor": 0
      },
      "text/plain": [
       "Batches:   0%|          | 0/1 [00:00<?, ?it/s]"
      ]
     },
     "metadata": {},
     "output_type": "display_data"
    },
    {
     "data": {
      "application/vnd.jupyter.widget-view+json": {
       "model_id": "068cd82d11e04f46869557c9e0605976",
       "version_major": 2,
       "version_minor": 0
      },
      "text/plain": [
       "Batches:   0%|          | 0/1 [00:00<?, ?it/s]"
      ]
     },
     "metadata": {},
     "output_type": "display_data"
    },
    {
     "data": {
      "application/vnd.jupyter.widget-view+json": {
       "model_id": "e4c11bbdc0cd4602828f9bd52ec32f1e",
       "version_major": 2,
       "version_minor": 0
      },
      "text/plain": [
       "Batches:   0%|          | 0/1 [00:00<?, ?it/s]"
      ]
     },
     "metadata": {},
     "output_type": "display_data"
    },
    {
     "data": {
      "application/vnd.jupyter.widget-view+json": {
       "model_id": "87b28d62d9944117a5d723d3046d41f3",
       "version_major": 2,
       "version_minor": 0
      },
      "text/plain": [
       "Batches:   0%|          | 0/1 [00:00<?, ?it/s]"
      ]
     },
     "metadata": {},
     "output_type": "display_data"
    },
    {
     "data": {
      "application/vnd.jupyter.widget-view+json": {
       "model_id": "b393d9ce33ad4cb3b777e8ba1445f407",
       "version_major": 2,
       "version_minor": 0
      },
      "text/plain": [
       "Batches:   0%|          | 0/1 [00:00<?, ?it/s]"
      ]
     },
     "metadata": {},
     "output_type": "display_data"
    },
    {
     "data": {
      "application/vnd.jupyter.widget-view+json": {
       "model_id": "ed580c297ada43eaadaf70e4320c4cc8",
       "version_major": 2,
       "version_minor": 0
      },
      "text/plain": [
       "Batches:   0%|          | 0/1 [00:00<?, ?it/s]"
      ]
     },
     "metadata": {},
     "output_type": "display_data"
    },
    {
     "data": {
      "application/vnd.jupyter.widget-view+json": {
       "model_id": "03c148ca8b4945148315eadf7e1514dc",
       "version_major": 2,
       "version_minor": 0
      },
      "text/plain": [
       "Batches:   0%|          | 0/1 [00:00<?, ?it/s]"
      ]
     },
     "metadata": {},
     "output_type": "display_data"
    },
    {
     "data": {
      "application/vnd.jupyter.widget-view+json": {
       "model_id": "e2d4c54dd1e94967869109265a1f317d",
       "version_major": 2,
       "version_minor": 0
      },
      "text/plain": [
       "Batches:   0%|          | 0/1 [00:00<?, ?it/s]"
      ]
     },
     "metadata": {},
     "output_type": "display_data"
    },
    {
     "data": {
      "application/vnd.jupyter.widget-view+json": {
       "model_id": "f3b250cd471b4f2ebe49aed61868c17e",
       "version_major": 2,
       "version_minor": 0
      },
      "text/plain": [
       "Batches:   0%|          | 0/1 [00:00<?, ?it/s]"
      ]
     },
     "metadata": {},
     "output_type": "display_data"
    },
    {
     "data": {
      "application/vnd.jupyter.widget-view+json": {
       "model_id": "a58098d5126643b29b7e25e766c4cf0c",
       "version_major": 2,
       "version_minor": 0
      },
      "text/plain": [
       "Batches:   0%|          | 0/1 [00:00<?, ?it/s]"
      ]
     },
     "metadata": {},
     "output_type": "display_data"
    },
    {
     "data": {
      "application/vnd.jupyter.widget-view+json": {
       "model_id": "aa0601d95b8b4cf1951548a4901facc9",
       "version_major": 2,
       "version_minor": 0
      },
      "text/plain": [
       "Batches:   0%|          | 0/1 [00:00<?, ?it/s]"
      ]
     },
     "metadata": {},
     "output_type": "display_data"
    },
    {
     "data": {
      "application/vnd.jupyter.widget-view+json": {
       "model_id": "e10bd50b0fab40ffbc75c82b63f03881",
       "version_major": 2,
       "version_minor": 0
      },
      "text/plain": [
       "Batches:   0%|          | 0/1 [00:00<?, ?it/s]"
      ]
     },
     "metadata": {},
     "output_type": "display_data"
    },
    {
     "data": {
      "application/vnd.jupyter.widget-view+json": {
       "model_id": "4cd940b02b2e44a5a11472cc12540f07",
       "version_major": 2,
       "version_minor": 0
      },
      "text/plain": [
       "Batches:   0%|          | 0/1 [00:00<?, ?it/s]"
      ]
     },
     "metadata": {},
     "output_type": "display_data"
    },
    {
     "data": {
      "application/vnd.jupyter.widget-view+json": {
       "model_id": "d6a6d30bb37f4ea686dfc9519d9b15a4",
       "version_major": 2,
       "version_minor": 0
      },
      "text/plain": [
       "Batches:   0%|          | 0/1 [00:00<?, ?it/s]"
      ]
     },
     "metadata": {},
     "output_type": "display_data"
    },
    {
     "data": {
      "application/vnd.jupyter.widget-view+json": {
       "model_id": "b077a8b358fe4dc8ac9622c08a2e9176",
       "version_major": 2,
       "version_minor": 0
      },
      "text/plain": [
       "Batches:   0%|          | 0/1 [00:00<?, ?it/s]"
      ]
     },
     "metadata": {},
     "output_type": "display_data"
    },
    {
     "data": {
      "application/vnd.jupyter.widget-view+json": {
       "model_id": "897f4dc0c8b64326b72e10623f2b5248",
       "version_major": 2,
       "version_minor": 0
      },
      "text/plain": [
       "Batches:   0%|          | 0/1 [00:00<?, ?it/s]"
      ]
     },
     "metadata": {},
     "output_type": "display_data"
    },
    {
     "data": {
      "application/vnd.jupyter.widget-view+json": {
       "model_id": "812678df1fef4901a82c90e62908d1e6",
       "version_major": 2,
       "version_minor": 0
      },
      "text/plain": [
       "Batches:   0%|          | 0/1 [00:00<?, ?it/s]"
      ]
     },
     "metadata": {},
     "output_type": "display_data"
    },
    {
     "data": {
      "application/vnd.jupyter.widget-view+json": {
       "model_id": "14d5c360228743b1b214c909fe48a543",
       "version_major": 2,
       "version_minor": 0
      },
      "text/plain": [
       "Batches:   0%|          | 0/1 [00:00<?, ?it/s]"
      ]
     },
     "metadata": {},
     "output_type": "display_data"
    },
    {
     "data": {
      "application/vnd.jupyter.widget-view+json": {
       "model_id": "cd207f46786e4c7d9c561786b9590c16",
       "version_major": 2,
       "version_minor": 0
      },
      "text/plain": [
       "Batches:   0%|          | 0/1 [00:00<?, ?it/s]"
      ]
     },
     "metadata": {},
     "output_type": "display_data"
    },
    {
     "data": {
      "application/vnd.jupyter.widget-view+json": {
       "model_id": "3542b4476fdd471fb311bfbc95c89a5a",
       "version_major": 2,
       "version_minor": 0
      },
      "text/plain": [
       "Batches:   0%|          | 0/1 [00:00<?, ?it/s]"
      ]
     },
     "metadata": {},
     "output_type": "display_data"
    },
    {
     "data": {
      "application/vnd.jupyter.widget-view+json": {
       "model_id": "990207b92e92487faa621636e03463d6",
       "version_major": 2,
       "version_minor": 0
      },
      "text/plain": [
       "Batches:   0%|          | 0/1 [00:00<?, ?it/s]"
      ]
     },
     "metadata": {},
     "output_type": "display_data"
    },
    {
     "data": {
      "application/vnd.jupyter.widget-view+json": {
       "model_id": "9c8fecb4616244ad96810974840fa0c7",
       "version_major": 2,
       "version_minor": 0
      },
      "text/plain": [
       "Batches:   0%|          | 0/1 [00:00<?, ?it/s]"
      ]
     },
     "metadata": {},
     "output_type": "display_data"
    },
    {
     "data": {
      "application/vnd.jupyter.widget-view+json": {
       "model_id": "d604bde6bf424fdaaad9f76118dd8023",
       "version_major": 2,
       "version_minor": 0
      },
      "text/plain": [
       "Batches:   0%|          | 0/1 [00:00<?, ?it/s]"
      ]
     },
     "metadata": {},
     "output_type": "display_data"
    },
    {
     "data": {
      "application/vnd.jupyter.widget-view+json": {
       "model_id": "78d428047cc64de582f8fe0394bef9f9",
       "version_major": 2,
       "version_minor": 0
      },
      "text/plain": [
       "Batches:   0%|          | 0/1 [00:00<?, ?it/s]"
      ]
     },
     "metadata": {},
     "output_type": "display_data"
    },
    {
     "data": {
      "application/vnd.jupyter.widget-view+json": {
       "model_id": "1f2aa9016f7c45da8fa04ee7019eea28",
       "version_major": 2,
       "version_minor": 0
      },
      "text/plain": [
       "Batches:   0%|          | 0/1 [00:00<?, ?it/s]"
      ]
     },
     "metadata": {},
     "output_type": "display_data"
    },
    {
     "data": {
      "application/vnd.jupyter.widget-view+json": {
       "model_id": "5a264ec92dbc49ae9778aac4053db607",
       "version_major": 2,
       "version_minor": 0
      },
      "text/plain": [
       "Batches:   0%|          | 0/1 [00:00<?, ?it/s]"
      ]
     },
     "metadata": {},
     "output_type": "display_data"
    },
    {
     "data": {
      "application/vnd.jupyter.widget-view+json": {
       "model_id": "193f58a539454f8a9c346df86c9553b9",
       "version_major": 2,
       "version_minor": 0
      },
      "text/plain": [
       "Batches:   0%|          | 0/1 [00:00<?, ?it/s]"
      ]
     },
     "metadata": {},
     "output_type": "display_data"
    },
    {
     "data": {
      "application/vnd.jupyter.widget-view+json": {
       "model_id": "c9f236e3d7f04483836f259f96aba789",
       "version_major": 2,
       "version_minor": 0
      },
      "text/plain": [
       "Batches:   0%|          | 0/1 [00:00<?, ?it/s]"
      ]
     },
     "metadata": {},
     "output_type": "display_data"
    },
    {
     "data": {
      "application/vnd.jupyter.widget-view+json": {
       "model_id": "207d132798e74f639b11f432d36cd759",
       "version_major": 2,
       "version_minor": 0
      },
      "text/plain": [
       "Batches:   0%|          | 0/1 [00:00<?, ?it/s]"
      ]
     },
     "metadata": {},
     "output_type": "display_data"
    },
    {
     "data": {
      "application/vnd.jupyter.widget-view+json": {
       "model_id": "c9456bc157244b408c2776fd7f681730",
       "version_major": 2,
       "version_minor": 0
      },
      "text/plain": [
       "Batches:   0%|          | 0/1 [00:00<?, ?it/s]"
      ]
     },
     "metadata": {},
     "output_type": "display_data"
    },
    {
     "data": {
      "application/vnd.jupyter.widget-view+json": {
       "model_id": "f051f914f2f244b28a0a8244692d183b",
       "version_major": 2,
       "version_minor": 0
      },
      "text/plain": [
       "Batches:   0%|          | 0/1 [00:00<?, ?it/s]"
      ]
     },
     "metadata": {},
     "output_type": "display_data"
    },
    {
     "data": {
      "application/vnd.jupyter.widget-view+json": {
       "model_id": "f6b28874db114c039fef0ad32a1dfea2",
       "version_major": 2,
       "version_minor": 0
      },
      "text/plain": [
       "Batches:   0%|          | 0/1 [00:00<?, ?it/s]"
      ]
     },
     "metadata": {},
     "output_type": "display_data"
    },
    {
     "data": {
      "application/vnd.jupyter.widget-view+json": {
       "model_id": "617a38d0a16c4a74862aa791d010914a",
       "version_major": 2,
       "version_minor": 0
      },
      "text/plain": [
       "Batches:   0%|          | 0/1 [00:00<?, ?it/s]"
      ]
     },
     "metadata": {},
     "output_type": "display_data"
    },
    {
     "data": {
      "application/vnd.jupyter.widget-view+json": {
       "model_id": "17f88dd928504fd0ad93fb8d0df2c6c8",
       "version_major": 2,
       "version_minor": 0
      },
      "text/plain": [
       "Batches:   0%|          | 0/1 [00:00<?, ?it/s]"
      ]
     },
     "metadata": {},
     "output_type": "display_data"
    },
    {
     "data": {
      "application/vnd.jupyter.widget-view+json": {
       "model_id": "91171a09678944b4985fefc7056cdee9",
       "version_major": 2,
       "version_minor": 0
      },
      "text/plain": [
       "Batches:   0%|          | 0/1 [00:00<?, ?it/s]"
      ]
     },
     "metadata": {},
     "output_type": "display_data"
    },
    {
     "data": {
      "application/vnd.jupyter.widget-view+json": {
       "model_id": "00e31d0f04224851b56681f94ec4701c",
       "version_major": 2,
       "version_minor": 0
      },
      "text/plain": [
       "Batches:   0%|          | 0/1 [00:00<?, ?it/s]"
      ]
     },
     "metadata": {},
     "output_type": "display_data"
    },
    {
     "data": {
      "application/vnd.jupyter.widget-view+json": {
       "model_id": "2381e8a499ab4e8480cf069b0a828a6a",
       "version_major": 2,
       "version_minor": 0
      },
      "text/plain": [
       "Batches:   0%|          | 0/1 [00:00<?, ?it/s]"
      ]
     },
     "metadata": {},
     "output_type": "display_data"
    },
    {
     "data": {
      "application/vnd.jupyter.widget-view+json": {
       "model_id": "b8e6766aca34414bb12ea14466caf6b1",
       "version_major": 2,
       "version_minor": 0
      },
      "text/plain": [
       "Batches:   0%|          | 0/1 [00:00<?, ?it/s]"
      ]
     },
     "metadata": {},
     "output_type": "display_data"
    },
    {
     "data": {
      "application/vnd.jupyter.widget-view+json": {
       "model_id": "06e690ce10be43069f2a82ed26a86670",
       "version_major": 2,
       "version_minor": 0
      },
      "text/plain": [
       "Batches:   0%|          | 0/1 [00:00<?, ?it/s]"
      ]
     },
     "metadata": {},
     "output_type": "display_data"
    },
    {
     "data": {
      "application/vnd.jupyter.widget-view+json": {
       "model_id": "1370ef86b6a6413ea9da879937ee4198",
       "version_major": 2,
       "version_minor": 0
      },
      "text/plain": [
       "Batches:   0%|          | 0/1 [00:00<?, ?it/s]"
      ]
     },
     "metadata": {},
     "output_type": "display_data"
    },
    {
     "data": {
      "application/vnd.jupyter.widget-view+json": {
       "model_id": "647dd536da9f428fa86d5f3b04833f30",
       "version_major": 2,
       "version_minor": 0
      },
      "text/plain": [
       "Batches:   0%|          | 0/1 [00:00<?, ?it/s]"
      ]
     },
     "metadata": {},
     "output_type": "display_data"
    },
    {
     "data": {
      "application/vnd.jupyter.widget-view+json": {
       "model_id": "426661cc58df40d0a307b84bd5387841",
       "version_major": 2,
       "version_minor": 0
      },
      "text/plain": [
       "Batches:   0%|          | 0/1 [00:00<?, ?it/s]"
      ]
     },
     "metadata": {},
     "output_type": "display_data"
    },
    {
     "data": {
      "application/vnd.jupyter.widget-view+json": {
       "model_id": "48aa5b757a55457ba2a8afd5a8cfb596",
       "version_major": 2,
       "version_minor": 0
      },
      "text/plain": [
       "Batches:   0%|          | 0/1 [00:00<?, ?it/s]"
      ]
     },
     "metadata": {},
     "output_type": "display_data"
    },
    {
     "data": {
      "application/vnd.jupyter.widget-view+json": {
       "model_id": "c266a2aec73c41eaa9421e08459af1c8",
       "version_major": 2,
       "version_minor": 0
      },
      "text/plain": [
       "Batches:   0%|          | 0/1 [00:00<?, ?it/s]"
      ]
     },
     "metadata": {},
     "output_type": "display_data"
    },
    {
     "data": {
      "application/vnd.jupyter.widget-view+json": {
       "model_id": "29b6dd457fa646d0ac90321966014aa6",
       "version_major": 2,
       "version_minor": 0
      },
      "text/plain": [
       "Batches:   0%|          | 0/1 [00:00<?, ?it/s]"
      ]
     },
     "metadata": {},
     "output_type": "display_data"
    },
    {
     "data": {
      "application/vnd.jupyter.widget-view+json": {
       "model_id": "45fc57a9e70e4766b8a77a6af15518d5",
       "version_major": 2,
       "version_minor": 0
      },
      "text/plain": [
       "Batches:   0%|          | 0/1 [00:00<?, ?it/s]"
      ]
     },
     "metadata": {},
     "output_type": "display_data"
    },
    {
     "data": {
      "application/vnd.jupyter.widget-view+json": {
       "model_id": "5c64a934db264f89a72c8672d421a407",
       "version_major": 2,
       "version_minor": 0
      },
      "text/plain": [
       "Batches:   0%|          | 0/1 [00:00<?, ?it/s]"
      ]
     },
     "metadata": {},
     "output_type": "display_data"
    },
    {
     "data": {
      "application/vnd.jupyter.widget-view+json": {
       "model_id": "58b0e9b2a9354d17b5bc2bd321717569",
       "version_major": 2,
       "version_minor": 0
      },
      "text/plain": [
       "Batches:   0%|          | 0/1 [00:00<?, ?it/s]"
      ]
     },
     "metadata": {},
     "output_type": "display_data"
    },
    {
     "data": {
      "application/vnd.jupyter.widget-view+json": {
       "model_id": "b15d2e73960740b88d92d0ed13fe8e37",
       "version_major": 2,
       "version_minor": 0
      },
      "text/plain": [
       "Batches:   0%|          | 0/1 [00:00<?, ?it/s]"
      ]
     },
     "metadata": {},
     "output_type": "display_data"
    },
    {
     "data": {
      "application/vnd.jupyter.widget-view+json": {
       "model_id": "182912aaaf3a494783bdf527e52cc0f0",
       "version_major": 2,
       "version_minor": 0
      },
      "text/plain": [
       "Batches:   0%|          | 0/1 [00:00<?, ?it/s]"
      ]
     },
     "metadata": {},
     "output_type": "display_data"
    },
    {
     "data": {
      "application/vnd.jupyter.widget-view+json": {
       "model_id": "d42fae72a797419ea82f9d0c9a6047d5",
       "version_major": 2,
       "version_minor": 0
      },
      "text/plain": [
       "Batches:   0%|          | 0/1 [00:00<?, ?it/s]"
      ]
     },
     "metadata": {},
     "output_type": "display_data"
    },
    {
     "data": {
      "application/vnd.jupyter.widget-view+json": {
       "model_id": "0789be1c59e64269853ab53c02479632",
       "version_major": 2,
       "version_minor": 0
      },
      "text/plain": [
       "Batches:   0%|          | 0/1 [00:00<?, ?it/s]"
      ]
     },
     "metadata": {},
     "output_type": "display_data"
    },
    {
     "data": {
      "application/vnd.jupyter.widget-view+json": {
       "model_id": "04959d27fc20466a84e91191b21540d9",
       "version_major": 2,
       "version_minor": 0
      },
      "text/plain": [
       "Batches:   0%|          | 0/1 [00:00<?, ?it/s]"
      ]
     },
     "metadata": {},
     "output_type": "display_data"
    },
    {
     "data": {
      "application/vnd.jupyter.widget-view+json": {
       "model_id": "c345e1f5e9b545f1b778ec453a38ac81",
       "version_major": 2,
       "version_minor": 0
      },
      "text/plain": [
       "Batches:   0%|          | 0/1 [00:00<?, ?it/s]"
      ]
     },
     "metadata": {},
     "output_type": "display_data"
    },
    {
     "data": {
      "application/vnd.jupyter.widget-view+json": {
       "model_id": "3301b9087b204353b9c3270e8afec84a",
       "version_major": 2,
       "version_minor": 0
      },
      "text/plain": [
       "Batches:   0%|          | 0/1 [00:00<?, ?it/s]"
      ]
     },
     "metadata": {},
     "output_type": "display_data"
    },
    {
     "data": {
      "application/vnd.jupyter.widget-view+json": {
       "model_id": "e5d7aace02f6441d857e9957253fd1cd",
       "version_major": 2,
       "version_minor": 0
      },
      "text/plain": [
       "Batches:   0%|          | 0/1 [00:00<?, ?it/s]"
      ]
     },
     "metadata": {},
     "output_type": "display_data"
    },
    {
     "data": {
      "application/vnd.jupyter.widget-view+json": {
       "model_id": "d632b6dafafa4161878cc13c2a27aa75",
       "version_major": 2,
       "version_minor": 0
      },
      "text/plain": [
       "Batches:   0%|          | 0/1 [00:00<?, ?it/s]"
      ]
     },
     "metadata": {},
     "output_type": "display_data"
    },
    {
     "data": {
      "application/vnd.jupyter.widget-view+json": {
       "model_id": "62bb380456d0419287fce2203eaf6bca",
       "version_major": 2,
       "version_minor": 0
      },
      "text/plain": [
       "Batches:   0%|          | 0/1 [00:00<?, ?it/s]"
      ]
     },
     "metadata": {},
     "output_type": "display_data"
    },
    {
     "data": {
      "application/vnd.jupyter.widget-view+json": {
       "model_id": "c32589398c274401a9bdcfec138c06f3",
       "version_major": 2,
       "version_minor": 0
      },
      "text/plain": [
       "Batches:   0%|          | 0/1 [00:00<?, ?it/s]"
      ]
     },
     "metadata": {},
     "output_type": "display_data"
    },
    {
     "data": {
      "application/vnd.jupyter.widget-view+json": {
       "model_id": "dcbc2308bff9443a839c70fafc333805",
       "version_major": 2,
       "version_minor": 0
      },
      "text/plain": [
       "Batches:   0%|          | 0/1 [00:00<?, ?it/s]"
      ]
     },
     "metadata": {},
     "output_type": "display_data"
    },
    {
     "data": {
      "application/vnd.jupyter.widget-view+json": {
       "model_id": "5652784ee6e545428f38a181efe272e7",
       "version_major": 2,
       "version_minor": 0
      },
      "text/plain": [
       "Batches:   0%|          | 0/1 [00:00<?, ?it/s]"
      ]
     },
     "metadata": {},
     "output_type": "display_data"
    },
    {
     "data": {
      "application/vnd.jupyter.widget-view+json": {
       "model_id": "ab1116577b004a499a5744a688c6fa5e",
       "version_major": 2,
       "version_minor": 0
      },
      "text/plain": [
       "Batches:   0%|          | 0/1 [00:00<?, ?it/s]"
      ]
     },
     "metadata": {},
     "output_type": "display_data"
    },
    {
     "data": {
      "application/vnd.jupyter.widget-view+json": {
       "model_id": "b7cd4c9fc0e24b8b970636071702a302",
       "version_major": 2,
       "version_minor": 0
      },
      "text/plain": [
       "Batches:   0%|          | 0/1 [00:00<?, ?it/s]"
      ]
     },
     "metadata": {},
     "output_type": "display_data"
    },
    {
     "data": {
      "application/vnd.jupyter.widget-view+json": {
       "model_id": "cd1b6a09cee34e09992568ab05786ce0",
       "version_major": 2,
       "version_minor": 0
      },
      "text/plain": [
       "Batches:   0%|          | 0/1 [00:00<?, ?it/s]"
      ]
     },
     "metadata": {},
     "output_type": "display_data"
    },
    {
     "data": {
      "application/vnd.jupyter.widget-view+json": {
       "model_id": "e7a662cac56d4f16a5468f82c2ef274a",
       "version_major": 2,
       "version_minor": 0
      },
      "text/plain": [
       "Batches:   0%|          | 0/1 [00:00<?, ?it/s]"
      ]
     },
     "metadata": {},
     "output_type": "display_data"
    },
    {
     "data": {
      "application/vnd.jupyter.widget-view+json": {
       "model_id": "72cf27a8644e430381675f870c474b2d",
       "version_major": 2,
       "version_minor": 0
      },
      "text/plain": [
       "Batches:   0%|          | 0/1 [00:00<?, ?it/s]"
      ]
     },
     "metadata": {},
     "output_type": "display_data"
    },
    {
     "data": {
      "application/vnd.jupyter.widget-view+json": {
       "model_id": "75382e2cc58842388020eb088c22e80e",
       "version_major": 2,
       "version_minor": 0
      },
      "text/plain": [
       "Batches:   0%|          | 0/1 [00:00<?, ?it/s]"
      ]
     },
     "metadata": {},
     "output_type": "display_data"
    },
    {
     "data": {
      "application/vnd.jupyter.widget-view+json": {
       "model_id": "09e0d3cff82348e0a28aa16dfda2e125",
       "version_major": 2,
       "version_minor": 0
      },
      "text/plain": [
       "Batches:   0%|          | 0/1 [00:00<?, ?it/s]"
      ]
     },
     "metadata": {},
     "output_type": "display_data"
    },
    {
     "data": {
      "application/vnd.jupyter.widget-view+json": {
       "model_id": "bb5c6627325248b1a987fc60edf731eb",
       "version_major": 2,
       "version_minor": 0
      },
      "text/plain": [
       "Batches:   0%|          | 0/1 [00:00<?, ?it/s]"
      ]
     },
     "metadata": {},
     "output_type": "display_data"
    },
    {
     "data": {
      "application/vnd.jupyter.widget-view+json": {
       "model_id": "0567ab662c1946babf79fa3ff73b6be3",
       "version_major": 2,
       "version_minor": 0
      },
      "text/plain": [
       "Batches:   0%|          | 0/1 [00:00<?, ?it/s]"
      ]
     },
     "metadata": {},
     "output_type": "display_data"
    },
    {
     "name": "stdout",
     "output_type": "stream",
     "text": [
      "Кол-во некорректных для модели dbmcv1: 24\n"
     ]
    }
   ],
   "source": [
    "test_city_lm = test['query'].values\n",
    "embeddings = dbmcv1.encode(unic_city)\n",
    "embeddings_test = dbmcv1.encode(test_city_lm)\n",
    "city_lm = []\n",
    "gerion_lm = []\n",
    "country_lm = []\n",
    "score_lm = []\n",
    "for text in test_city_lm:\n",
    "    result = util.semantic_search(dbmcv1.encode(text),embeddings,  top_k = 1)[0]\n",
    "    for item in result:\n",
    "        city_lm.append(cities_alternatenames.iloc[item['corpus_id']]['name_city'])\n",
    "        gerion_lm.append(cities_alternatenames.iloc[item['corpus_id']]['name_region'])\n",
    "        country_lm.append(cities_alternatenames.iloc[item['corpus_id']]['name_country'])\n",
    "        score_lm.append(item['score'])\n",
    "test_df_lm = pd.DataFrame(list(zip(city_lm, gerion_lm, country_lm, score_lm)), columns = ['city_lm', 'gerion_lm','country_lm','score_lm'])\n",
    "test_fin_lm = test.join(test_df_lm)\n",
    "print('Кол-во некорректных для модели '+'dbmcv1'+':', test_fin_lm[test_fin_lm['name'] != test_fin_lm['city_lm']]['query'].count())"
   ]
  },
  {
   "cell_type": "markdown",
   "id": "a92f2b44-2f09-4330-af73-f43bb2666164",
   "metadata": {},
   "source": [
    "<b>Выводы:</b> \n",
    "- TFIDF с переводом и labse показали одинаковый результат при выборе top 1.\n",
    "- дообучение модели не дало прирост качества\n",
    "- далее для реализации класса будем использовать labse \"из коробки\""
   ]
  },
  {
   "cell_type": "markdown",
   "id": "390c86ed-e917-4a3f-b6a4-c3335ed10a55",
   "metadata": {},
   "source": [
    "### Реализация задачи с использованием модуля"
   ]
  },
  {
   "cell_type": "markdown",
   "id": "d91ebf87-ffb1-4ce8-a31a-67e1d4733ece",
   "metadata": {},
   "source": [
    "Подготавливаем данные"
   ]
  },
  {
   "cell_type": "code",
   "execution_count": 37,
   "id": "45660d36-04eb-427b-8012-e805fab013f9",
   "metadata": {},
   "outputs": [],
   "source": [
    "from module_geo_names import geo_name"
   ]
  },
  {
   "cell_type": "code",
   "execution_count": 38,
   "id": "601d9d8c-4c88-42e8-af2a-c75e69176ec9",
   "metadata": {},
   "outputs": [],
   "source": [
    "%load_ext autoreload\n",
    "%autoreload 2"
   ]
  },
  {
   "cell_type": "code",
   "execution_count": 42,
   "id": "cecfeb71-d415-4202-8cd0-8b93cb7c9bc3",
   "metadata": {},
   "outputs": [],
   "source": [
    "countries = ['RU','BY','AM','KZ','KG','TR','RS','GE']\n",
    "countries_str = \"('RU','BY','AM','KZ','KG','TR','RS','GE')\""
   ]
  },
  {
   "cell_type": "code",
   "execution_count": 51,
   "id": "946aab73-e35b-4589-8ae2-91185c2aeb40",
   "metadata": {},
   "outputs": [],
   "source": [
    "query = '''\n",
    "select \n",
    "ci.geonameid,\n",
    "ci.name,\n",
    "ci.feature_code,\n",
    "ci.population,\n",
    "ci.country_code,\n",
    "a.name as region_name,\n",
    "co.country,\n",
    "al.alternate_name\n",
    "from cities15000 as ci join countryinfo as co on ci.country_code = co.iso\n",
    "left join admin1codesascii as a on ci.country_code||'.'||ci.admin1_code = a.code\n",
    "left join alternatenamesv2 as al on al.geonameid = ci.geonameid \n",
    "where (al.isolanguage <> 'link' or al.isolanguage is null)\n",
    "and ci.country_code in '''+countries_str\n",
    "cities_alternatenames = pd.read_sql_query(query, con=geo_name.bd_connect())"
   ]
  },
  {
   "cell_type": "code",
   "execution_count": 52,
   "id": "1a75dc3e-583a-496b-b9a1-0b3a1dffacdb",
   "metadata": {},
   "outputs": [
    {
     "data": {
      "text/html": [
       "<div>\n",
       "<style scoped>\n",
       "    .dataframe tbody tr th:only-of-type {\n",
       "        vertical-align: middle;\n",
       "    }\n",
       "\n",
       "    .dataframe tbody tr th {\n",
       "        vertical-align: top;\n",
       "    }\n",
       "\n",
       "    .dataframe thead th {\n",
       "        text-align: right;\n",
       "    }\n",
       "</style>\n",
       "<table border=\"1\" class=\"dataframe\">\n",
       "  <thead>\n",
       "    <tr style=\"text-align: right;\">\n",
       "      <th></th>\n",
       "      <th>geonameid</th>\n",
       "      <th>name</th>\n",
       "      <th>feature_code</th>\n",
       "      <th>population</th>\n",
       "      <th>country_code</th>\n",
       "      <th>region_name</th>\n",
       "      <th>country</th>\n",
       "      <th>alternate_name</th>\n",
       "    </tr>\n",
       "  </thead>\n",
       "  <tbody>\n",
       "    <tr>\n",
       "      <th>0</th>\n",
       "      <td>174875</td>\n",
       "      <td>Kapan</td>\n",
       "      <td>PPLA</td>\n",
       "      <td>33160</td>\n",
       "      <td>AM</td>\n",
       "      <td>Syunik</td>\n",
       "      <td>Armenia</td>\n",
       "      <td>Qafan</td>\n",
       "    </tr>\n",
       "    <tr>\n",
       "      <th>1</th>\n",
       "      <td>174875</td>\n",
       "      <td>Kapan</td>\n",
       "      <td>PPLA</td>\n",
       "      <td>33160</td>\n",
       "      <td>AM</td>\n",
       "      <td>Syunik</td>\n",
       "      <td>Armenia</td>\n",
       "      <td>Kapan</td>\n",
       "    </tr>\n",
       "    <tr>\n",
       "      <th>2</th>\n",
       "      <td>174875</td>\n",
       "      <td>Kapan</td>\n",
       "      <td>PPLA</td>\n",
       "      <td>33160</td>\n",
       "      <td>AM</td>\n",
       "      <td>Syunik</td>\n",
       "      <td>Armenia</td>\n",
       "      <td>Kapan</td>\n",
       "    </tr>\n",
       "    <tr>\n",
       "      <th>3</th>\n",
       "      <td>174875</td>\n",
       "      <td>Kapan</td>\n",
       "      <td>PPLA</td>\n",
       "      <td>33160</td>\n",
       "      <td>AM</td>\n",
       "      <td>Syunik</td>\n",
       "      <td>Armenia</td>\n",
       "      <td>Kapan</td>\n",
       "    </tr>\n",
       "    <tr>\n",
       "      <th>4</th>\n",
       "      <td>174875</td>\n",
       "      <td>Kapan</td>\n",
       "      <td>PPLA</td>\n",
       "      <td>33160</td>\n",
       "      <td>AM</td>\n",
       "      <td>Syunik</td>\n",
       "      <td>Armenia</td>\n",
       "      <td>کاپان</td>\n",
       "    </tr>\n",
       "  </tbody>\n",
       "</table>\n",
       "</div>"
      ],
      "text/plain": [
       "   geonameid   name feature_code  population country_code region_name  \\\n",
       "0     174875  Kapan         PPLA       33160           AM      Syunik   \n",
       "1     174875  Kapan         PPLA       33160           AM      Syunik   \n",
       "2     174875  Kapan         PPLA       33160           AM      Syunik   \n",
       "3     174875  Kapan         PPLA       33160           AM      Syunik   \n",
       "4     174875  Kapan         PPLA       33160           AM      Syunik   \n",
       "\n",
       "   country alternate_name  \n",
       "0  Armenia          Qafan  \n",
       "1  Armenia          Kapan  \n",
       "2  Armenia          Kapan  \n",
       "3  Armenia          Kapan  \n",
       "4  Armenia          کاپان  "
      ]
     },
     "execution_count": 52,
     "metadata": {},
     "output_type": "execute_result"
    }
   ],
   "source": [
    "cities_alternatenames.head()"
   ]
  },
  {
   "cell_type": "code",
   "execution_count": 53,
   "id": "3ca10240-8382-4100-a986-963e4cd41958",
   "metadata": {},
   "outputs": [],
   "source": [
    "cities_alternatenames['alternate_name'] = cities_alternatenames['alternate_name'].fillna(cities_alternatenames['name'])"
   ]
  },
  {
   "cell_type": "code",
   "execution_count": 54,
   "id": "64d66973-198a-4539-855b-edc4cba4c629",
   "metadata": {},
   "outputs": [],
   "source": [
    "cities_alternatenames = cities_alternatenames.drop_duplicates()"
   ]
  },
  {
   "cell_type": "markdown",
   "id": "52d0926c-b366-48ce-9d27-65254fdc07cc",
   "metadata": {},
   "source": [
    "----------------------------------------------"
   ]
  },
  {
   "cell_type": "markdown",
   "id": "1d7bbdbd-e6b8-42d8-966d-515a8a94c907",
   "metadata": {},
   "source": [
    "Подбираем самое близкое по косинусному расстоянию значение"
   ]
  },
  {
   "cell_type": "code",
   "execution_count": 55,
   "id": "13fb768a-d01f-4876-b2de-9357b72f7293",
   "metadata": {},
   "outputs": [],
   "source": [
    "model = SentenceTransformer('sentence-transformers/LaBSE')"
   ]
  },
  {
   "cell_type": "markdown",
   "id": "1e988988-8d7f-46f1-b70b-d8f949acf65a",
   "metadata": {},
   "source": [
    "В методе можем указать, что делать с эмбеддингами: перезаписать, добавить к текущей таблице или не записывать"
   ]
  },
  {
   "cell_type": "code",
   "execution_count": 56,
   "id": "769e8126-e9e4-4206-9266-24bf2381d447",
   "metadata": {},
   "outputs": [],
   "source": [
    "embeddings = geo_name.vectorization(model = model, cities_list = cities_alternatenames.alternate_name.values, \n",
    "                                    replace_or_append_or_nan = 'nan')"
   ]
  },
  {
   "cell_type": "markdown",
   "id": "ca6e25f5-8502-4f27-af10-b3653e124b08",
   "metadata": {},
   "source": [
    "Для дальнейшего использования можем взять эмбеддинги из базы"
   ]
  },
  {
   "cell_type": "code",
   "execution_count": 57,
   "id": "c71d2a30-ca58-46c1-a96c-35402d911dbf",
   "metadata": {},
   "outputs": [],
   "source": [
    "query = \"\"\"\n",
    "SELECT * from embeddings limit 10\n",
    "\"\"\"\n",
    "emb = pd.read_sql_query(query, con=geo_name.bd_connect()).drop(columns=['index']).values"
   ]
  },
  {
   "cell_type": "code",
   "execution_count": 58,
   "id": "c8d8f9d4-25c8-406d-9256-702132414e86",
   "metadata": {},
   "outputs": [
    {
     "data": {
      "text/plain": [
       "(10, 768)"
      ]
     },
     "execution_count": 58,
     "metadata": {},
     "output_type": "execute_result"
    }
   ],
   "source": [
    "emb.shape"
   ]
  },
  {
   "cell_type": "markdown",
   "id": "351f09c3-71f7-4c6b-bd17-c65db1fe5301",
   "metadata": {},
   "source": [
    "Функция для вывода результата:"
   ]
  },
  {
   "cell_type": "code",
   "execution_count": 65,
   "id": "f29f3e43-b31d-4d26-ad84-3bb11a451973",
   "metadata": {},
   "outputs": [],
   "source": [
    "def list_of_dict(input_sity, embeddings, model, N = 5, cities = cities_alternatenames):\n",
    "    # т.к. в cities есть дубли(в виду использованиия альтернативных названий) выбираем топ в 200 \"ближайших\" по косинусному растоянию\n",
    "    top_names = util.semantic_search(model.encode(input_sity), embeddings,top_k = 200)[0]\n",
    "    #у нас есть id эмбеддингов, трансформируем их в записи из городов\n",
    "    geonameid = []\n",
    "    city_lm = []\n",
    "    gerion_lm = []\n",
    "    country_lm = []\n",
    "    feature_code = []\n",
    "    population = []\n",
    "    score_lm = []\n",
    "    for examp in top_names:\n",
    "        geonameid.append(cities.iloc[examp['corpus_id']]['geonameid'])\n",
    "        city_lm.append(cities.iloc[examp['corpus_id']]['name'])\n",
    "        gerion_lm.append(cities.iloc[examp['corpus_id']]['region_name'])\n",
    "        country_lm.append(cities.iloc[examp['corpus_id']]['country'])\n",
    "        feature_code.append(cities.iloc[examp['corpus_id']]['feature_code'])\n",
    "        population.append(cities.iloc[examp['corpus_id']]['population'])\n",
    "        score_lm.append(examp['score'])\n",
    "    top_200 = pd.DataFrame(list(zip(geonameid, city_lm, gerion_lm, country_lm, feature_code, population, score_lm)), columns = \n",
    "                           ['geonameid','name', 'region_name','country', 'feature_code','population','score_lm'])\n",
    "    #Сортируем по косинусному растоянию, типу города и населению, что бы при удалении дубликатов взять первую запись.\n",
    "    #Таким образом при одинаковом названии в топе выше будет административный центр. \n",
    "    #Если и на этом уровне города равны, то выше будет город с бОльшим населением\n",
    "    top_200 = top_200.sort_values (by = ['score_lm', 'feature_code' , 'population'], ascending = [False, True, False])\n",
    "    #удаляем дубликаты городов, оставляя первую найденную запись\n",
    "    top_200 = top_200.drop_duplicates (subset=['geonameid','name', 'region_name', 'region_name'], keep = 'first')\n",
    "    # берём top N\n",
    "    top_n = top_200.head(N)\n",
    "    #формируем ответ в виде списка словарей\n",
    "    fin_list = []\n",
    "    for row in top_n.itertuples():\n",
    "        dict = {}\n",
    "        dict.update({'geonameid' : row.geonameid, 'name' : row.name, 'region' : row.region_name, 'country' : row.country, \n",
    "                     'cosine_similarity' : row.score_lm})\n",
    "        fin_list.append(dict)\n",
    "    return fin_list"
   ]
  },
  {
   "cell_type": "code",
   "execution_count": 70,
   "id": "eba136ef-1aa7-4c16-b0e3-8168c6bcb601",
   "metadata": {},
   "outputs": [
    {
     "name": "stdout",
     "output_type": "stream",
     "text": [
      "Введите город:\n"
     ]
    },
    {
     "name": "stdin",
     "output_type": "stream",
     "text": [
      " питер\n"
     ]
    },
    {
     "name": "stdout",
     "output_type": "stream",
     "text": [
      "[{'geonameid': 498817, 'name': 'Saint Petersburg', 'region': 'St.-Petersburg', 'country': 'Russia', 'cosine_similarity': 0.8008365631103516}, {'geonameid': 787050, 'name': 'Pirot', 'region': 'Central Serbia', 'country': 'Serbia', 'cosine_similarity': 0.7622926235198975}, {'geonameid': 511794, 'name': 'Pechora', 'region': 'Komi', 'country': 'Russia', 'cosine_similarity': 0.7288624048233032}, {'geonameid': 750938, 'name': 'Bayburt', 'region': 'Bayburt Province', 'country': 'Turkey', 'cosine_similarity': 0.7097207307815552}, {'geonameid': 511196, 'name': 'Perm', 'region': 'Perm Krai', 'country': 'Russia', 'cosine_similarity': 0.6512341499328613}, {'geonameid': 314967, 'name': 'Fethiye', 'region': 'Muğla', 'country': 'Turkey', 'cosine_similarity': 0.6293563842773438}, {'geonameid': 750637, 'name': 'Beypazarı', 'region': 'Ankara', 'country': 'Turkey', 'cosine_similarity': 0.6277965307235718}, {'geonameid': 510291, 'name': 'Peterhof', 'region': 'St.-Petersburg', 'country': 'Russia', 'cosine_similarity': 0.6272354125976562}, {'geonameid': 325330, 'name': 'Adıyaman', 'region': 'Adıyaman Province', 'country': 'Turkey', 'cosine_similarity': 0.6141215562820435}, {'geonameid': 612366, 'name': 'P’ot’i', 'region': 'Samegrelo and Zemo Svaneti', 'country': 'Georgia', 'cosine_similarity': 0.6131917238235474}]\n"
     ]
    }
   ],
   "source": [
    "print('Введите город:')\n",
    "str = input()\n",
    "print(list_of_dict(str, embeddings, model, N = 10, cities = cities_alternatenames))"
   ]
  },
  {
   "cell_type": "markdown",
   "id": "470e00ae-2240-4f91-adaa-f859a8ce22c1",
   "metadata": {},
   "source": [
    "<b>Общиие выводы:</b> \n",
    "- В рамках реализации проекта был сформирован инструмент подбора top N городов для запрошенного.\n",
    "- Топ формируется по близости косинусного растояния--> по административной роли --> по численности населения\n",
    "- Для реализации задачи попробова разные варианты решения: TFIDF с переводом на английский, предобученные языковые модели и дообучение языковой модели\n",
    "- Дообучение не дало прирост качества на тестовых записях городов при выборе top 1\n",
    "- Итоговый вариант построе на основе эмбеддингов модели sentence-transformers/LaBSE"
   ]
  },
  {
   "cell_type": "markdown",
   "id": "8c22bf94-b500-40bc-815e-15984642d291",
   "metadata": {},
   "source": [
    "-------------------------------------------------------"
   ]
  },
  {
   "cell_type": "markdown",
   "id": "c013fc97-bc3c-41cd-a7c4-9abf6bb21857",
   "metadata": {},
   "source": [
    "<b>Дополнительные данные:</b> \n",
    "Класс с методами подключения к БД и векторизацие названий городов"
   ]
  },
  {
   "cell_type": "code",
   "execution_count": 270,
   "id": "723a9984-9ab9-4568-b94f-fcdc147ec055",
   "metadata": {},
   "outputs": [],
   "source": [
    "class geo_name:\n",
    "    \n",
    "    def bd_connect(host = '127.0.0.1', username = 'postgres', password = '123', database = 'mybd', port = 5432, drivername = 'postgresql'):\n",
    "        from sqlalchemy import create_engine\n",
    "        from sqlalchemy.engine.url import URL\n",
    "        DATABASE = {\n",
    "        'drivername': drivername,\n",
    "        'username': username, \n",
    "        'password': password, \n",
    "        'host': host,\n",
    "        'port': port,\n",
    "        'database': database,\n",
    "        'query': {}\n",
    "        }  \n",
    "        return create_engine(URL(**DATABASE))\n",
    "\n",
    "\n",
    "\n",
    "    @staticmethod\n",
    "    def vectorization(model, cities_list, replace_or_append_or_nan = 'nan'):\n",
    "        import pandas as pd\n",
    "        embeddings = model.encode(cities_list)\n",
    "        if replace_or_append_or_nan == 'nan':\n",
    "            return embeddings\n",
    "        elif replace_or_append_or_nan == 'replace':\n",
    "            embeddings_df = pd.DataFrame(embeddings)\n",
    "            embeddings_df.to_sql('embeddings', con = geo_name.bd_connect(), if_exists = 'replace')\n",
    "        elif replace_or_append_or_nan == 'replace':\n",
    "            embeddings_df = pd.DataFrame(embeddings)\n",
    "            embeddings_df.to_sql('embeddings', con = geo_name.bd_connect(), if_exists = 'append')           \n",
    "        return embeddings\n"
   ]
  }
 ],
 "metadata": {
  "kernelspec": {
   "display_name": "Python 3 (ipykernel)",
   "language": "python",
   "name": "python3"
  },
  "language_info": {
   "codemirror_mode": {
    "name": "ipython",
    "version": 3
   },
   "file_extension": ".py",
   "mimetype": "text/x-python",
   "name": "python",
   "nbconvert_exporter": "python",
   "pygments_lexer": "ipython3",
   "version": "3.9.18"
  }
 },
 "nbformat": 4,
 "nbformat_minor": 5
}
